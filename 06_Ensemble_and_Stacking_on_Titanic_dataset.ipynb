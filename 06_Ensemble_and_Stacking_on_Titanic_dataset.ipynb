{
  "nbformat": 4,
  "nbformat_minor": 0,
  "metadata": {
    "colab": {
      "name": "06_Ensemble and Stacking on Titanic dataset.ipynb",
      "provenance": [],
      "collapsed_sections": [],
      "authorship_tag": "ABX9TyOyVasGVP20n0dEPKhrOvDy",
      "include_colab_link": true
    },
    "kernelspec": {
      "name": "python3",
      "display_name": "Python 3"
    }
  },
  "cells": [
    {
      "cell_type": "markdown",
      "metadata": {
        "id": "view-in-github",
        "colab_type": "text"
      },
      "source": [
        "<a href=\"https://colab.research.google.com/github/vivekshaoutlook/machine_learning/blob/master/06_Ensemble_and_Stacking_on_Titanic_dataset.ipynb\" target=\"_parent\"><img src=\"https://colab.research.google.com/assets/colab-badge.svg\" alt=\"Open In Colab\"/></a>"
      ]
    },
    {
      "cell_type": "code",
      "metadata": {
        "id": "clSj5pl95uG3",
        "colab_type": "code",
        "colab": {}
      },
      "source": [
        "from google.colab import drive\n",
        "import pandas as pd\n",
        "import numpy as np\n",
        "import warnings\n",
        "warnings.filterwarnings(\"ignore\")\n",
        "import re\n"
      ],
      "execution_count": 0,
      "outputs": []
    },
    {
      "cell_type": "code",
      "metadata": {
        "id": "JFZtBC33NapS",
        "colab_type": "code",
        "colab": {}
      },
      "source": [
        "import seaborn as sns\n",
        "import matplotlib.pyplot as plt\n",
        "%matplotlib inline"
      ],
      "execution_count": 0,
      "outputs": []
    },
    {
      "cell_type": "code",
      "metadata": {
        "id": "R1LHYOUBR3F0",
        "colab_type": "code",
        "colab": {}
      },
      "source": [
        "from sklearn.model_selection import KFold\n",
        "from sklearn.ensemble import (RandomForestClassifier, AdaBoostClassifier, \n",
        "                              GradientBoostingClassifier, ExtraTreesClassifier)\n",
        "from sklearn.svm import SVC"
      ],
      "execution_count": 0,
      "outputs": []
    },
    {
      "cell_type": "code",
      "metadata": {
        "id": "uPRECnfi5pUr",
        "colab_type": "code",
        "colab": {
          "base_uri": "https://localhost:8080/",
          "height": 17
        },
        "outputId": "7d8f785a-0307-47f1-95df-8dd51baae59d"
      },
      "source": [
        "import plotly.offline as py\n",
        "py.init_notebook_mode(connected=True)\n",
        "import plotly.graph_objs as go\n",
        "import plotly.tools as tls"
      ],
      "execution_count": 230,
      "outputs": [
        {
          "output_type": "display_data",
          "data": {
            "text/html": [
              "        <script type=\"text/javascript\">\n",
              "        window.PlotlyConfig = {MathJaxConfig: 'local'};\n",
              "        if (window.MathJax) {MathJax.Hub.Config({SVG: {font: \"STIX-Web\"}});}\n",
              "        if (typeof require !== 'undefined') {\n",
              "        require.undef(\"plotly\");\n",
              "        requirejs.config({\n",
              "            paths: {\n",
              "                'plotly': ['https://cdn.plot.ly/plotly-latest.min']\n",
              "            }\n",
              "        });\n",
              "        require(['plotly'], function(Plotly) {\n",
              "            window._Plotly = Plotly;\n",
              "        });\n",
              "        }\n",
              "        </script>\n",
              "        "
            ]
          },
          "metadata": {
            "tags": []
          }
        }
      ]
    },
    {
      "cell_type": "code",
      "metadata": {
        "id": "QGm0wjPgQKMi",
        "colab_type": "code",
        "colab": {}
      },
      "source": [
        "import xgboost as xgb"
      ],
      "execution_count": 0,
      "outputs": []
    },
    {
      "cell_type": "code",
      "metadata": {
        "id": "NFa25Epr6eoz",
        "colab_type": "code",
        "outputId": "2cc0fbf0-66a9-4f3a-cefc-345c7481e529",
        "colab": {
          "base_uri": "https://localhost:8080/",
          "height": 34
        }
      },
      "source": [
        "\n",
        "drive.mount('/content/drive')"
      ],
      "execution_count": 232,
      "outputs": [
        {
          "output_type": "stream",
          "text": [
            "Drive already mounted at /content/drive; to attempt to forcibly remount, call drive.mount(\"/content/drive\", force_remount=True).\n"
          ],
          "name": "stdout"
        }
      ]
    },
    {
      "cell_type": "code",
      "metadata": {
        "id": "-OgPlFvv6i_V",
        "colab_type": "code",
        "colab": {}
      },
      "source": [
        "train = pd.read_csv(\"/content/drive/My Drive/Colab Notebooks/titanic_train.csv\")"
      ],
      "execution_count": 0,
      "outputs": []
    },
    {
      "cell_type": "code",
      "metadata": {
        "id": "7ItTfCpk6zEE",
        "colab_type": "code",
        "colab": {}
      },
      "source": [
        "test = pd.read_csv(\"/content/drive/My Drive/Colab Notebooks/titanic_test.csv\")"
      ],
      "execution_count": 0,
      "outputs": []
    },
    {
      "cell_type": "code",
      "metadata": {
        "id": "5keBKB_W6_8t",
        "colab_type": "code",
        "outputId": "1662c5ec-9ab3-4a0a-a125-0ee46ab6ed17",
        "colab": {
          "base_uri": "https://localhost:8080/",
          "height": 34
        }
      },
      "source": [
        "train.shape"
      ],
      "execution_count": 235,
      "outputs": [
        {
          "output_type": "execute_result",
          "data": {
            "text/plain": [
              "(891, 12)"
            ]
          },
          "metadata": {
            "tags": []
          },
          "execution_count": 235
        }
      ]
    },
    {
      "cell_type": "code",
      "metadata": {
        "id": "tYeXM8-67Hk9",
        "colab_type": "code",
        "outputId": "9b9e44a2-dbd4-4b52-a973-d827fd34f390",
        "colab": {
          "base_uri": "https://localhost:8080/",
          "height": 34
        }
      },
      "source": [
        "test.shape"
      ],
      "execution_count": 236,
      "outputs": [
        {
          "output_type": "execute_result",
          "data": {
            "text/plain": [
              "(418, 11)"
            ]
          },
          "metadata": {
            "tags": []
          },
          "execution_count": 236
        }
      ]
    },
    {
      "cell_type": "code",
      "metadata": {
        "id": "ZLldTSsx7JWM",
        "colab_type": "code",
        "colab": {}
      },
      "source": [
        "full_data = [train,test]"
      ],
      "execution_count": 0,
      "outputs": []
    },
    {
      "cell_type": "markdown",
      "metadata": {
        "id": "sCY_bPVFKjl7",
        "colab_type": "text"
      },
      "source": [
        "**SECTION1: CLEANING AND FEATURE ENGINEERING**"
      ]
    },
    {
      "cell_type": "code",
      "metadata": {
        "id": "XSCwITaS7Xw9",
        "colab_type": "code",
        "colab": {}
      },
      "source": [
        "#feature engineering\n",
        "#F1. new feature - name_length\n",
        "train['Name_length'] = train['Name'].apply(len)\n",
        "test['Name_length'] = test['Name'].apply(len)\n"
      ],
      "execution_count": 0,
      "outputs": []
    },
    {
      "cell_type": "code",
      "metadata": {
        "id": "Sc4HKIbX8BwQ",
        "colab_type": "code",
        "colab": {}
      },
      "source": [
        "#F2.new feature - \"Has_Cabin\".whether the passenger had a cabin\n",
        "train[\"Has_cabin\"] = train[\"Cabin\"].isnull().astype(int)\n",
        "test[\"Has_cabin\"] = test[\"Cabin\"].isnull().astype(int)"
      ],
      "execution_count": 0,
      "outputs": []
    },
    {
      "cell_type": "code",
      "metadata": {
        "id": "8FiQXrUjCae6",
        "colab_type": "code",
        "colab": {}
      },
      "source": [
        "#F3.new feature: Family_size \n",
        "#instead of seprately adding new columns, like we did above, we can also use the full_data array\n",
        "#the plus 1 in the end includes the passenger himeself/herself :)\n",
        "for dataset in full_data:\n",
        "  dataset[\"Family_size\"] = dataset['SibSp'] + dataset['Parch'] + 1\n"
      ],
      "execution_count": 0,
      "outputs": []
    },
    {
      "cell_type": "code",
      "metadata": {
        "id": "u5rQnqzADFDm",
        "colab_type": "code",
        "colab": {}
      },
      "source": [
        "#F4.new feature-IsAlone. a Was the person traveling alone\n",
        "for dataset in full_data:\n",
        "  dataset[\"IsAlone\"]=0 # create a new column \"IsAlone\" and initialize it to 0\n",
        "  dataset.loc[dataset[\"Family_size\"]==1,\"IsAlone\"]=1 #set the \"IsAlone\" column to 1 where the Family_Size=1\n"
      ],
      "execution_count": 0,
      "outputs": []
    },
    {
      "cell_type": "code",
      "metadata": {
        "id": "eJqJp4pDIRwp",
        "colab_type": "code",
        "outputId": "4005cf5f-b5ca-475c-a750-581f82ef0d19",
        "colab": {
          "base_uri": "https://localhost:8080/",
          "height": 153
        }
      },
      "source": [
        "print(train[\"Embarked\"].value_counts())\n",
        "print(test[\"Embarked\"].value_counts())"
      ],
      "execution_count": 242,
      "outputs": [
        {
          "output_type": "stream",
          "text": [
            "S    644\n",
            "C    168\n",
            "Q     77\n",
            "Name: Embarked, dtype: int64\n",
            "S    270\n",
            "C    102\n",
            "Q     46\n",
            "Name: Embarked, dtype: int64\n"
          ],
          "name": "stdout"
        }
      ]
    },
    {
      "cell_type": "code",
      "metadata": {
        "id": "QG6N_6k1I8We",
        "colab_type": "code",
        "colab": {}
      },
      "source": [
        "#C1.Cleaning.Since majority of people have embarked from port S, we can default S for missing values\n",
        "for dataset in full_data:\n",
        "  dataset[\"Embarked\"] = dataset[\"Embarked\"].fillna(\"S\")\n",
        " "
      ],
      "execution_count": 0,
      "outputs": []
    },
    {
      "cell_type": "code",
      "metadata": {
        "id": "KV1zk8WqNt4O",
        "colab_type": "code",
        "outputId": "3330fdee-310d-482e-d627-0382fcef1393",
        "colab": {
          "base_uri": "https://localhost:8080/",
          "height": 51
        }
      },
      "source": [
        "#verify that now no missing values in Embarked column\n",
        "print(train[\"Embarked\"].isna().sum())\n",
        "print(test[\"Embarked\"].isna().sum())"
      ],
      "execution_count": 244,
      "outputs": [
        {
          "output_type": "stream",
          "text": [
            "0\n",
            "0\n"
          ],
          "name": "stdout"
        }
      ]
    },
    {
      "cell_type": "code",
      "metadata": {
        "id": "pPBY1CfqO_HX",
        "colab_type": "code",
        "colab": {}
      },
      "source": [
        "#C2.Filling missing fare with the median \n",
        "for dataset in full_data:\n",
        "  dataset[\"Fare\"] = dataset[\"Fare\"].fillna(dataset[\"Fare\"].median())\n",
        "  "
      ],
      "execution_count": 0,
      "outputs": []
    },
    {
      "cell_type": "code",
      "metadata": {
        "id": "_tykckevTlEU",
        "colab_type": "code",
        "colab": {}
      },
      "source": [
        "#F5.creating a new  categorical feature - CategoricalFare\n",
        "train[\"CategoricalFare\"] = pd.qcut(train['Fare'], 4)"
      ],
      "execution_count": 0,
      "outputs": []
    },
    {
      "cell_type": "code",
      "metadata": {
        "id": "nyI9AW9QT4OY",
        "colab_type": "code",
        "outputId": "ad056973-2231-4495-b4ec-9b54300d055a",
        "colab": {
          "base_uri": "https://localhost:8080/",
          "height": 102
        }
      },
      "source": [
        "#let's see what range(bucket) got created and how many values in each range\n",
        "train[\"CategoricalFare\"].value_counts()"
      ],
      "execution_count": 247,
      "outputs": [
        {
          "output_type": "execute_result",
          "data": {
            "text/plain": [
              "(7.91, 14.454]     224\n",
              "(-0.001, 7.91]     223\n",
              "(31.0, 512.329]    222\n",
              "(14.454, 31.0]     222\n",
              "Name: CategoricalFare, dtype: int64"
            ]
          },
          "metadata": {
            "tags": []
          },
          "execution_count": 247
        }
      ]
    },
    {
      "cell_type": "code",
      "metadata": {
        "id": "yXrtbATjT6xO",
        "colab_type": "code",
        "colab": {}
      },
      "source": [
        "#C3.filling missign Age\n",
        "for dataset in full_data:\n",
        " avg_age = np.mean(dataset[\"Age\"])\n",
        " std_dev_of_age = np.std(dataset[\"Age\"])\n",
        " missing_age_count = np.isnan(dataset[\"Age\"]).sum()\n",
        " missing_age_random_list = np.random.randint(avg_age-std_dev_of_age,avg_age+std_dev_of_age,missing_age_count)\n",
        " dataset['Age'][np.isnan(dataset['Age'])] = missing_age_random_list\n",
        " dataset['Age'] = dataset['Age'].astype(int)\n",
        "\n",
        "\n"
      ],
      "execution_count": 0,
      "outputs": []
    },
    {
      "cell_type": "code",
      "metadata": {
        "id": "Uo_U-VLQUgja",
        "colab_type": "code",
        "colab": {}
      },
      "source": [
        "#F6.Creating a new categorical feature - CategoricalAge\n",
        "train[\"CategoricalAge\"] = pd.cut(train[\"Age\"],5)\n"
      ],
      "execution_count": 0,
      "outputs": []
    },
    {
      "cell_type": "code",
      "metadata": {
        "id": "EYVZXG_b5x6z",
        "colab_type": "code",
        "outputId": "9d70016d-a64b-4259-ea1c-ad7eb45d03d2",
        "colab": {
          "base_uri": "https://localhost:8080/",
          "height": 119
        }
      },
      "source": [
        "#let's see what range(bucket) got created and how many values in each range\n",
        "train[\"CategoricalAge\"].value_counts()"
      ],
      "execution_count": 250,
      "outputs": [
        {
          "output_type": "execute_result",
          "data": {
            "text/plain": [
              "(16.0, 32.0]     447\n",
              "(32.0, 48.0]     252\n",
              "(-0.08, 16.0]    112\n",
              "(48.0, 64.0]      69\n",
              "(64.0, 80.0]      11\n",
              "Name: CategoricalAge, dtype: int64"
            ]
          },
          "metadata": {
            "tags": []
          },
          "execution_count": 250
        }
      ]
    },
    {
      "cell_type": "code",
      "metadata": {
        "id": "-XhEGcRtCuST",
        "colab_type": "code",
        "colab": {}
      },
      "source": [
        "#F7: create a new feature-Title\n",
        "def get_title(name):\n",
        "  title_text = re.search('([A-Za-z]+)\\.',name)\n",
        "  if title_text:\n",
        "    return  title_text.group()\n",
        "  else:\n",
        "    return \"\"\n",
        "  \n",
        "for dataset in full_data:\n",
        "  dataset[\"Title\"] = dataset[\"Name\"].apply(get_title)"
      ],
      "execution_count": 0,
      "outputs": []
    },
    {
      "cell_type": "code",
      "metadata": {
        "id": "ALI3pAiFLjGZ",
        "colab_type": "code",
        "outputId": "93453cb3-485a-461e-a865-37e789d32747",
        "colab": {
          "base_uri": "https://localhost:8080/",
          "height": 323
        }
      },
      "source": [
        "train[\"Title\"].value_counts()\n"
      ],
      "execution_count": 252,
      "outputs": [
        {
          "output_type": "execute_result",
          "data": {
            "text/plain": [
              "Mr.          517\n",
              "Miss.        182\n",
              "Mrs.         125\n",
              "Master.       40\n",
              "Dr.            7\n",
              "Rev.           6\n",
              "Mlle.          2\n",
              "Major.         2\n",
              "Col.           2\n",
              "Mme.           1\n",
              "Capt.          1\n",
              "Jonkheer.      1\n",
              "Sir.           1\n",
              "Don.           1\n",
              "Lady.          1\n",
              "Ms.            1\n",
              "Countess.      1\n",
              "Name: Title, dtype: int64"
            ]
          },
          "metadata": {
            "tags": []
          },
          "execution_count": 252
        }
      ]
    },
    {
      "cell_type": "code",
      "metadata": {
        "id": "21XyFlylONuc",
        "colab_type": "code",
        "colab": {}
      },
      "source": [
        " #C4: replace less common titles with a single title \"Rare\"\n",
        " rare_title = ['Lady.', 'Countess.','Capt.', 'Col.','Don.', 'Dr.', 'Major.', 'Rev.', 'Sir.', 'Jonkheer.', 'Dona.']\n",
        " for dataset in full_data:\n",
        "   dataset[\"Title\"] = dataset[\"Title\"].replace(rare_title,\"Rare.\")\n",
        "   dataset['Title'] = dataset['Title'].replace('Mlle.', 'Miss.')\n",
        "   dataset['Title'] = dataset['Title'].replace('Ms.', 'Miss.')\n",
        "   dataset['Title'] = dataset['Title'].replace('Mme.', 'Mrs.')\n"
      ],
      "execution_count": 0,
      "outputs": []
    },
    {
      "cell_type": "code",
      "metadata": {
        "id": "yWIhWPoiAg3G",
        "colab_type": "code",
        "outputId": "e18630e2-b5ba-408f-b45d-97bb42115e38",
        "colab": {
          "base_uri": "https://localhost:8080/",
          "height": 119
        }
      },
      "source": [
        "#let's verify that the titles have been reduced as desired\n",
        "train[\"Title\"].value_counts()"
      ],
      "execution_count": 254,
      "outputs": [
        {
          "output_type": "execute_result",
          "data": {
            "text/plain": [
              "Mr.        517\n",
              "Miss.      185\n",
              "Mrs.       126\n",
              "Master.     40\n",
              "Rare.       23\n",
              "Name: Title, dtype: int64"
            ]
          },
          "metadata": {
            "tags": []
          },
          "execution_count": 254
        }
      ]
    },
    {
      "cell_type": "code",
      "metadata": {
        "id": "FTNyyfXRCRgn",
        "colab_type": "code",
        "outputId": "da9d8958-22af-4351-a8d6-51b9cca447c4",
        "colab": {
          "base_uri": "https://localhost:8080/",
          "height": 119
        }
      },
      "source": [
        "test[\"Title\"].value_counts()"
      ],
      "execution_count": 255,
      "outputs": [
        {
          "output_type": "execute_result",
          "data": {
            "text/plain": [
              "Mr.        240\n",
              "Miss.       79\n",
              "Mrs.        72\n",
              "Master.     21\n",
              "Rare.        6\n",
              "Name: Title, dtype: int64"
            ]
          },
          "metadata": {
            "tags": []
          },
          "execution_count": 255
        }
      ]
    },
    {
      "cell_type": "code",
      "metadata": {
        "id": "UvSR5msIEUZo",
        "colab_type": "code",
        "colab": {}
      },
      "source": [
        "#C5: the grand cleaning by converting all categorical to numerical\n",
        "for dataset in full_data:\n",
        "  sex_mapping_dict = {'female': 0, 'male': 1}\n",
        "  titles_mapping_dict = {\"Mr\": 1, \"Miss\": 2, \"Mrs\": 3, \"Master\": 4, \"Rare\": 5}\n",
        "  embarked_port_dict = {'S': 0, 'C': 1, 'Q': 2}\n",
        "    \n",
        "  dataset[\"Sex\"] = dataset[\"Sex\"].map(sex_mapping_dict).astype(int)\n",
        "  dataset[\"Title\"] = dataset[\"Title\"].map(titles_mapping_dict)\n",
        "  dataset[\"Title\"] = dataset[\"Title\"].fillna(0)#still if few titles are not filled, replace those with 0\n",
        "  dataset[\"Title\"] = dataset[\"Title\"].astype(int)\n",
        "  dataset['Embarked'] = dataset['Embarked'].map( {'S': 0, 'C': 1, 'Q': 2} ).astype(int)\n",
        "\n",
        "  #fare cleaning\n",
        "  dataset.loc[ dataset['Fare'] <= 7.91, 'Fare'] = 0\n",
        "  dataset.loc[(dataset['Fare'] > 7.91) & (dataset['Fare'] <= 14.454), 'Fare'] = 1\n",
        "  dataset.loc[(dataset['Fare'] > 14.454) & (dataset['Fare'] <= 31), 'Fare'] = 2\n",
        "  dataset.loc[ dataset['Fare'] > 31, 'Fare'] = 3\n",
        "  dataset['Fare'] = dataset['Fare'].astype(int)\n",
        "\n",
        "  #age cleaning\n",
        "  dataset.loc[ dataset['Age'] <= 16, 'Age'] \t\t\t\t\t       = 0\n",
        "  dataset.loc[(dataset['Age'] > 16) & (dataset['Age'] <= 32), 'Age'] = 1\n",
        "  dataset.loc[(dataset['Age'] > 32) & (dataset['Age'] <= 48), 'Age'] = 2\n",
        "  dataset.loc[(dataset['Age'] > 48) & (dataset['Age'] <= 64), 'Age'] = 3\n",
        "  dataset.loc[ dataset['Age'] > 64, 'Age'] = 4\n",
        "\n",
        "\n",
        "\n"
      ],
      "execution_count": 0,
      "outputs": []
    },
    {
      "cell_type": "code",
      "metadata": {
        "id": "ZzYocDsLEvo9",
        "colab_type": "code",
        "outputId": "67229b68-d439-4c2a-d653-7e64a2554190",
        "colab": {
          "base_uri": "https://localhost:8080/",
          "height": 315
        }
      },
      "source": [
        "train.head(3)"
      ],
      "execution_count": 257,
      "outputs": [
        {
          "output_type": "execute_result",
          "data": {
            "text/html": [
              "<div>\n",
              "<style scoped>\n",
              "    .dataframe tbody tr th:only-of-type {\n",
              "        vertical-align: middle;\n",
              "    }\n",
              "\n",
              "    .dataframe tbody tr th {\n",
              "        vertical-align: top;\n",
              "    }\n",
              "\n",
              "    .dataframe thead th {\n",
              "        text-align: right;\n",
              "    }\n",
              "</style>\n",
              "<table border=\"1\" class=\"dataframe\">\n",
              "  <thead>\n",
              "    <tr style=\"text-align: right;\">\n",
              "      <th></th>\n",
              "      <th>PassengerId</th>\n",
              "      <th>Survived</th>\n",
              "      <th>Pclass</th>\n",
              "      <th>Name</th>\n",
              "      <th>Sex</th>\n",
              "      <th>Age</th>\n",
              "      <th>SibSp</th>\n",
              "      <th>Parch</th>\n",
              "      <th>Ticket</th>\n",
              "      <th>Fare</th>\n",
              "      <th>Cabin</th>\n",
              "      <th>Embarked</th>\n",
              "      <th>Name_length</th>\n",
              "      <th>Has_cabin</th>\n",
              "      <th>Family_size</th>\n",
              "      <th>IsAlone</th>\n",
              "      <th>CategoricalFare</th>\n",
              "      <th>CategoricalAge</th>\n",
              "      <th>Title</th>\n",
              "    </tr>\n",
              "  </thead>\n",
              "  <tbody>\n",
              "    <tr>\n",
              "      <th>0</th>\n",
              "      <td>1</td>\n",
              "      <td>0</td>\n",
              "      <td>3</td>\n",
              "      <td>Braund, Mr. Owen Harris</td>\n",
              "      <td>1</td>\n",
              "      <td>1</td>\n",
              "      <td>1</td>\n",
              "      <td>0</td>\n",
              "      <td>A/5 21171</td>\n",
              "      <td>0</td>\n",
              "      <td>NaN</td>\n",
              "      <td>0</td>\n",
              "      <td>23</td>\n",
              "      <td>1</td>\n",
              "      <td>2</td>\n",
              "      <td>0</td>\n",
              "      <td>(-0.001, 7.91]</td>\n",
              "      <td>(16.0, 32.0]</td>\n",
              "      <td>0</td>\n",
              "    </tr>\n",
              "    <tr>\n",
              "      <th>1</th>\n",
              "      <td>2</td>\n",
              "      <td>1</td>\n",
              "      <td>1</td>\n",
              "      <td>Cumings, Mrs. John Bradley (Florence Briggs Th...</td>\n",
              "      <td>0</td>\n",
              "      <td>2</td>\n",
              "      <td>1</td>\n",
              "      <td>0</td>\n",
              "      <td>PC 17599</td>\n",
              "      <td>3</td>\n",
              "      <td>C85</td>\n",
              "      <td>1</td>\n",
              "      <td>51</td>\n",
              "      <td>0</td>\n",
              "      <td>2</td>\n",
              "      <td>0</td>\n",
              "      <td>(31.0, 512.329]</td>\n",
              "      <td>(32.0, 48.0]</td>\n",
              "      <td>0</td>\n",
              "    </tr>\n",
              "    <tr>\n",
              "      <th>2</th>\n",
              "      <td>3</td>\n",
              "      <td>1</td>\n",
              "      <td>3</td>\n",
              "      <td>Heikkinen, Miss. Laina</td>\n",
              "      <td>0</td>\n",
              "      <td>1</td>\n",
              "      <td>0</td>\n",
              "      <td>0</td>\n",
              "      <td>STON/O2. 3101282</td>\n",
              "      <td>1</td>\n",
              "      <td>NaN</td>\n",
              "      <td>0</td>\n",
              "      <td>22</td>\n",
              "      <td>1</td>\n",
              "      <td>1</td>\n",
              "      <td>1</td>\n",
              "      <td>(7.91, 14.454]</td>\n",
              "      <td>(16.0, 32.0]</td>\n",
              "      <td>0</td>\n",
              "    </tr>\n",
              "  </tbody>\n",
              "</table>\n",
              "</div>"
            ],
            "text/plain": [
              "   PassengerId  Survived  Pclass  ...  CategoricalFare  CategoricalAge  Title\n",
              "0            1         0       3  ...   (-0.001, 7.91]    (16.0, 32.0]      0\n",
              "1            2         1       1  ...  (31.0, 512.329]    (32.0, 48.0]      0\n",
              "2            3         1       3  ...   (7.91, 14.454]    (16.0, 32.0]      0\n",
              "\n",
              "[3 rows x 19 columns]"
            ]
          },
          "metadata": {
            "tags": []
          },
          "execution_count": 257
        }
      ]
    },
    {
      "cell_type": "code",
      "metadata": {
        "id": "v7JzTI8mG-Eh",
        "colab_type": "code",
        "colab": {}
      },
      "source": [
        "#F8: remove unwanted features\n",
        "#PassengerId: nothing useful here\n",
        "#Name: we already extracted title and name length.\n",
        "#Ticket: nothing useful here\n",
        "#Cabin:already created a new feature - \"has_cabin\"\n",
        "#SibSp: already created a new feature - \"Family_size\". \"Parch\" still be useful becasue Family_Size - Parch = SibSp\n",
        "passengerId_for_submission = test[\"PassengerId\"]\n",
        "drop_columns = ['PassengerId', 'Name', 'Ticket', 'Cabin', 'SibSp','Name_length']\n",
        "train = train.drop(drop_columns,axis=1)\n",
        "test = test.drop(drop_columns,axis=1)\n",
        "#since CategoricalAge and CategoricalFare related information is now captured in Fare and Age column, can drop these too\n",
        "train = train.drop(['CategoricalAge', 'CategoricalFare'], axis = 1) #was added only in train set\n",
        "\n"
      ],
      "execution_count": 0,
      "outputs": []
    },
    {
      "cell_type": "markdown",
      "metadata": {
        "id": "QrmEK8W4K9fd",
        "colab_type": "text"
      },
      "source": [
        "SECTION2: DATA VISUALIZATION"
      ]
    },
    {
      "cell_type": "code",
      "metadata": {
        "id": "2LNmT2qHKcXU",
        "colab_type": "code",
        "outputId": "5060c477-f20c-4a0c-8ca1-35dee03847bd",
        "colab": {
          "base_uri": "https://localhost:8080/",
          "height": 142
        }
      },
      "source": [
        "train.head(3)"
      ],
      "execution_count": 259,
      "outputs": [
        {
          "output_type": "execute_result",
          "data": {
            "text/html": [
              "<div>\n",
              "<style scoped>\n",
              "    .dataframe tbody tr th:only-of-type {\n",
              "        vertical-align: middle;\n",
              "    }\n",
              "\n",
              "    .dataframe tbody tr th {\n",
              "        vertical-align: top;\n",
              "    }\n",
              "\n",
              "    .dataframe thead th {\n",
              "        text-align: right;\n",
              "    }\n",
              "</style>\n",
              "<table border=\"1\" class=\"dataframe\">\n",
              "  <thead>\n",
              "    <tr style=\"text-align: right;\">\n",
              "      <th></th>\n",
              "      <th>Survived</th>\n",
              "      <th>Pclass</th>\n",
              "      <th>Sex</th>\n",
              "      <th>Age</th>\n",
              "      <th>Parch</th>\n",
              "      <th>Fare</th>\n",
              "      <th>Embarked</th>\n",
              "      <th>Has_cabin</th>\n",
              "      <th>Family_size</th>\n",
              "      <th>IsAlone</th>\n",
              "      <th>Title</th>\n",
              "    </tr>\n",
              "  </thead>\n",
              "  <tbody>\n",
              "    <tr>\n",
              "      <th>0</th>\n",
              "      <td>0</td>\n",
              "      <td>3</td>\n",
              "      <td>1</td>\n",
              "      <td>1</td>\n",
              "      <td>0</td>\n",
              "      <td>0</td>\n",
              "      <td>0</td>\n",
              "      <td>1</td>\n",
              "      <td>2</td>\n",
              "      <td>0</td>\n",
              "      <td>0</td>\n",
              "    </tr>\n",
              "    <tr>\n",
              "      <th>1</th>\n",
              "      <td>1</td>\n",
              "      <td>1</td>\n",
              "      <td>0</td>\n",
              "      <td>2</td>\n",
              "      <td>0</td>\n",
              "      <td>3</td>\n",
              "      <td>1</td>\n",
              "      <td>0</td>\n",
              "      <td>2</td>\n",
              "      <td>0</td>\n",
              "      <td>0</td>\n",
              "    </tr>\n",
              "    <tr>\n",
              "      <th>2</th>\n",
              "      <td>1</td>\n",
              "      <td>3</td>\n",
              "      <td>0</td>\n",
              "      <td>1</td>\n",
              "      <td>0</td>\n",
              "      <td>1</td>\n",
              "      <td>0</td>\n",
              "      <td>1</td>\n",
              "      <td>1</td>\n",
              "      <td>1</td>\n",
              "      <td>0</td>\n",
              "    </tr>\n",
              "  </tbody>\n",
              "</table>\n",
              "</div>"
            ],
            "text/plain": [
              "   Survived  Pclass  Sex  Age  ...  Has_cabin  Family_size  IsAlone  Title\n",
              "0         0       3    1    1  ...          1            2        0      0\n",
              "1         1       1    0    2  ...          0            2        0      0\n",
              "2         1       3    0    1  ...          1            1        1      0\n",
              "\n",
              "[3 rows x 11 columns]"
            ]
          },
          "metadata": {
            "tags": []
          },
          "execution_count": 259
        }
      ]
    },
    {
      "cell_type": "code",
      "metadata": {
        "id": "X_cecVblLJ2I",
        "colab_type": "code",
        "outputId": "b71f2e2b-eaaa-4133-be06-ed7fdfa4b7df",
        "colab": {
          "base_uri": "https://localhost:8080/",
          "height": 613
        }
      },
      "source": [
        "#V1. let's plot heat map to see the correlation among different features\n",
        "plt.figure(figsize=(14,10))\n",
        "tc = train.corr()\n",
        "sns.heatmap(tc,annot=True,cmap = \"coolwarm\")"
      ],
      "execution_count": 260,
      "outputs": [
        {
          "output_type": "execute_result",
          "data": {
            "text/plain": [
              "<matplotlib.axes._subplots.AxesSubplot at 0x7fc84504f5f8>"
            ]
          },
          "metadata": {
            "tags": []
          },
          "execution_count": 260
        },
        {
          "output_type": "display_data",
          "data": {
            "image/png": "[encoded data removed]",
            "text/plain": [
              "<Figure size 1008x720 with 2 Axes>"
            ]
          },
          "metadata": {
            "tags": []
          }
        }
      ]
    },
    {
      "cell_type": "code",
      "metadata": {
        "id": "9t5wujh0NRKu",
        "colab_type": "code",
        "colab": {}
      },
      "source": [
        "#takeaway from heatmap = most of the features are uncorrelated (parch-family_size & Has_cabin-pclass has some correlation though.\n",
        "#This can be refined further). Uncorrelation among features is good becasue we are not going to pass any redundant feature\n",
        "#in the model i.e. each feature is gong to provide unique information"
      ],
      "execution_count": 0,
      "outputs": []
    },
    {
      "cell_type": "code",
      "metadata": {
        "id": "yqW5VpIfOSCU",
        "colab_type": "code",
        "colab": {
          "base_uri": "https://localhost:8080/",
          "height": 725
        },
        "outputId": "38a1ef7e-40f9-490e-e341-85ebb2c839af"
      },
      "source": [
        "g = sns.pairplot(train[['Survived','Pclass', 'Sex', 'Age', 'Parch', 'Fare', 'Embarked',\n",
        "       'Family_size', 'Title']], hue='Survived', palette = 'seismic',size=1.2,diag_kind = 'kde',diag_kws=dict(shade=True),plot_kws=dict(s=10) )\n",
        "g.set(xticklabels=[])"
      ],
      "execution_count": 262,
      "outputs": [
        {
          "output_type": "execute_result",
          "data": {
            "text/plain": [
              "<seaborn.axisgrid.PairGrid at 0x7fc845127c50>"
            ]
          },
          "metadata": {
            "tags": []
          },
          "execution_count": 262
        },
        {
          "output_type": "display_data",
          "data": {
            "image/png": "[encoded data removed]",
            "text/plain": [
              "<Figure size 743.075x691.2 with 72 Axes>"
            ]
          },
          "metadata": {
            "tags": []
          }
        }
      ]
    },
    {
      "cell_type": "markdown",
      "metadata": {
        "id": "us2YN3BSRaK6",
        "colab_type": "text"
      },
      "source": [
        "**SECTION3: ENSEMBLING AND STACKING**"
      ]
    },
    {
      "cell_type": "code",
      "metadata": {
        "id": "yus7OmP_PGRJ",
        "colab_type": "code",
        "colab": {}
      },
      "source": [
        "ntrain = train.shape[0]\n",
        "ntest = test.shape[0]\n",
        "SEED = 0 # for reproducibility\n",
        "NFOLDS = 5 # set folds for out-of-fold prediction\n",
        "kf = KFold(n_splits= NFOLDS, random_state=SEED,shuffle=False)#though shuffle is 'False\" by default itself"
      ],
      "execution_count": 0,
      "outputs": []
    },
    {
      "cell_type": "code",
      "metadata": {
        "id": "eAYyH5ZJSvZ9",
        "colab_type": "code",
        "colab": {}
      },
      "source": [
        "# Class to extend the Sklearn classifier\n",
        "class SKLearnHelper(object):\n",
        "  #the first argument in constructor (normally called 'self') is used to access instance varaibles.\n",
        "  #Other subsequent arguments are instance varaibles\n",
        "  def __init__(self,clf,seed=0,params=None):  \n",
        "    params['random_state'] = seed#add 'random_state' to the dictionary - 'params'\n",
        "    self.clf = clf(**params)#pass the arguments to the classifier-clf-by unpacking (**) the dictionary - 'params'\n",
        "  \n",
        "  def train(self, x_train, y_train):#note that first argument is 'self' just like the constructor.x_train, y_train are instance varaibles\n",
        "        self.clf.fit(x_train, y_train) #instance variables are always accessed by 'self'(name of the varaible which was first argument of the constrcutor )\n",
        "  def predict(self, x):\n",
        "        return self.clf.predict(x)\n",
        "  def fit(self,x,y):\n",
        "        return self.clf.fit(x,y)\n",
        "  def feature_importances(self,x,y):\n",
        "  ###def feature_importances(self):\n",
        "        return self.clf.fit(x,y).feature_importances_\n",
        "        ###return self.clf.feature_importances_"
      ],
      "execution_count": 0,
      "outputs": []
    },
    {
      "cell_type": "code",
      "metadata": {
        "id": "7eW9_FCQUHDJ",
        "colab_type": "code",
        "colab": {}
      },
      "source": [
        "# TODO:can have a similar Class to extend XGboost classifier"
      ],
      "execution_count": 0,
      "outputs": []
    },
    {
      "cell_type": "code",
      "metadata": {
        "id": "FnvcTNUMYh5H",
        "colab_type": "code",
        "colab": {}
      },
      "source": [
        "# Random Forest parameters\n",
        "rf_params = {\n",
        "    'n_jobs': -1,\n",
        "    'n_estimators': 500, #number of tress in the forest\n",
        "     'warm_start': True, \n",
        "     #'max_features': 0.2,\n",
        "    'max_depth': 6, #max depth of the tree\n",
        "    'min_samples_leaf': 2,#min number of samples a leaf node must have\n",
        "\n",
        "    #max number of features that are evaluated for splitting at each node.Here: sqrt(n_features). this is default actually.\n",
        "    #n_features: The number of features when fit is performed.\n",
        "    'max_features' : 'sqrt',\n",
        "    'verbose': 0\n",
        "}\n",
        "\n",
        "# Extra Trees Parameters\n",
        "et_params = {\n",
        "    'n_jobs': -1,\n",
        "    'n_estimators':500,\n",
        "    #'max_features': 0.5,\n",
        "    'max_depth': 8,\n",
        "    'min_samples_leaf': 2,\n",
        "    'verbose': 0\n",
        "}\n",
        "\n",
        "# AdaBoost parameters\n",
        "ada_params = {\n",
        "    'n_estimators': 500,\n",
        "    'learning_rate' : 0.75\n",
        "}\n",
        "\n",
        "# Gradient Boosting parameters\n",
        "gb_params = {\n",
        "    'n_estimators': 500,\n",
        "     #'max_features': 0.2,\n",
        "    'max_depth': 5,\n",
        "    'min_samples_leaf': 2,\n",
        "    'verbose': 0\n",
        "}\n",
        "\n",
        "# Support Vector Classifier parameters \n",
        "svc_params = {\n",
        "    'kernel' : 'linear',\n",
        "    'C' : 0.025\n",
        "    }\n",
        "\n",
        "\n"
      ],
      "execution_count": 0,
      "outputs": []
    },
    {
      "cell_type": "code",
      "metadata": {
        "id": "ZM4iMxPToHEk",
        "colab_type": "code",
        "colab": {}
      },
      "source": [
        "rf = SKLearnHelper(clf=RandomForestClassifier, seed=SEED, params=rf_params)\n",
        "et = SKLearnHelper(clf = ExtraTreesClassifier,seed=SEED, params=rf_params)\n",
        "ada = SKLearnHelper(clf=AdaBoostClassifier, seed=SEED, params=ada_params)\n",
        "gb = SKLearnHelper(clf=GradientBoostingClassifier, seed=SEED, params=gb_params)\n",
        "svc = SKLearnHelper(clf=SVC, seed=SEED, params=svc_params)"
      ],
      "execution_count": 0,
      "outputs": []
    },
    {
      "cell_type": "code",
      "metadata": {
        "id": "6Rw-AzbUee3U",
        "colab_type": "code",
        "colab": {}
      },
      "source": [
        "#create numpy arrays out of training and test datasets for use in classifier\n",
        "y_train = train['Survived'].ravel() #equivalent to- train['PClass'].reshape(-1)\n",
        "train = train.drop(['Survived'], axis=1)\n",
        "x_train = train.values # Creates an array of the train data\n",
        "x_test = test.values # Creates an array of the test data"
      ],
      "execution_count": 0,
      "outputs": []
    },
    {
      "cell_type": "code",
      "metadata": {
        "id": "qnyO-0Rvo1gH",
        "colab_type": "code",
        "colab": {}
      },
      "source": [
        "#calculate and return oof(out-of-fold) prediction of train and test dataset\n",
        "def get_oof(clf, x_train, y_train, x_test):\n",
        "    fi = []\n",
        "\n",
        "    oof_train = np.zeros((ntrain,))#1d array with number of entries = number of rows in train dataset\n",
        "    oof_test = np.zeros((ntest,))#1d array with number of entries = number of rows in test dataset\n",
        "    oof_test_skf = np.empty((NFOLDS, ntest))#holds the prediction of each test set by each cl\n",
        "    #i=0\n",
        "    #for train_index, test_index in kf.split(x_train):\n",
        "    for i,(train_index,test_index) in enumerate(kf.split(x_train)):\n",
        "        x_tr = x_train[train_index]\n",
        "        y_tr = y_train[train_index]\n",
        "        x_te = x_train[test_index]\n",
        "\n",
        "        clf.train(x_tr, y_tr)#train on 80% of train dataset (k=5, so train on 80%, remaining 20% fold of train dataset is used for 'cv test' dataset)\n",
        "\n",
        "        oof_train[test_index] = clf.predict(x_te)#make prediction for the 20% of train dataset which is used as cv test dataset and save the prediction\n",
        "\n",
        "        #make the prediction for the original test dataset, there will be 5 (NFOLDS value) predictions  for each data point in original test dataset\n",
        "        #we will take a mean of these 5 values after the loop is over\n",
        "        oof_test_skf[i, :] = clf.predict(x_test)\n",
        "\n",
        "        #i+=i\n",
        "\n",
        "    oof_test[:] = oof_test_skf.mean(axis=0)\n",
        "    \n",
        "    try:\n",
        "       #this try-except block helps when clf is SVC becasue SVC does not have feature_importances_\n",
        "       ###fi.append( clf.feature_importances())\n",
        "       fi.append( clf.feature_importances(x_train,y_train))\n",
        "    except:\n",
        "      print(\"An exception becasue SVC does not have feature_importances_ attribute\")\n",
        "\n",
        "\n",
        "    return oof_train.reshape(-1, 1), oof_test.reshape(-1, 1),fi #convert row vector into column vector by .reshape(-1,1)"
      ],
      "execution_count": 0,
      "outputs": []
    },
    {
      "cell_type": "markdown",
      "metadata": {
        "id": "R5QdjUzvLLYu",
        "colab_type": "text"
      },
      "source": [
        "***SECTION 3.1: First Level Prediction***"
      ]
    },
    {
      "cell_type": "code",
      "metadata": {
        "id": "h0POQpkrglHk",
        "colab_type": "code",
        "outputId": "76d42228-65a0-4942-8c6b-ce96b7a9be3c",
        "colab": {
          "base_uri": "https://localhost:8080/",
          "height": 51
        }
      },
      "source": [
        "#get the oof train and test predictions. these will be used as new features for the next level of stacking\n",
        "feature_importance = []\n",
        "\n",
        "rf_oof_train, rf_oof_test,fi = get_oof(rf,x_train, y_train, x_test) # Random Forest\n",
        "feature_importance.append(fi)\n",
        "\n",
        "et_oof_train, et_oof_test,fi = get_oof(et, x_train, y_train, x_test) # Extra Trees\n",
        "feature_importance.append(fi)\n",
        "\n",
        "ada_oof_train, ada_oof_test,fi = get_oof(ada, x_train, y_train, x_test) # AdaBoost \n",
        "feature_importance.append(fi)\n",
        "\n",
        "gb_oof_train, gb_oof_test,fi = get_oof(gb,x_train, y_train, x_test) # Gradient Boost\n",
        "feature_importance.append(fi)\n",
        "\n",
        "svc_oof_train, svc_oof_test,fi = get_oof(svc,x_train, y_train, x_test) # Support Vector Classifier\n",
        "#SVC object does not have feature_importances_\n",
        "\n",
        "print(\"Training is complete\")"
      ],
      "execution_count": 270,
      "outputs": [
        {
          "output_type": "stream",
          "text": [
            "An exception becasue SVC does not have feature_importances_ attribute\n",
            "Training is complete\n"
          ],
          "name": "stdout"
        }
      ]
    },
    {
      "cell_type": "code",
      "metadata": {
        "id": "3kuzwjd9gpPx",
        "colab_type": "code",
        "outputId": "dc496b87-70e8-4a4a-81f8-f15aca1e9b80",
        "colab": {
          "base_uri": "https://localhost:8080/",
          "height": 187
        }
      },
      "source": [
        "#let's do a sample printing for feature importance of random forest\n",
        "###for name,score in zip(train.columns,rf.feature_importances()):\n",
        "for name,score in zip(train.columns,rf.feature_importances(x_train,y_train)):\n",
        "  print(name,\" \", score)"
      ],
      "execution_count": 271,
      "outputs": [
        {
          "output_type": "stream",
          "text": [
            "Pclass   0.1575373739443043\n",
            "Sex   0.4111798224164568\n",
            "Age   0.06239659883795506\n",
            "Parch   0.032077325077181335\n",
            "Fare   0.10852191905075514\n",
            "Embarked   0.0346335356427158\n",
            "Has_cabin   0.08645594718457984\n",
            "Family_size   0.08492676812735667\n",
            "IsAlone   0.02227070971869508\n",
            "Title   0.0\n"
          ],
          "name": "stdout"
        }
      ]
    },
    {
      "cell_type": "code",
      "metadata": {
        "id": "IlV2CRvx-C44",
        "colab_type": "code",
        "colab": {
          "base_uri": "https://localhost:8080/",
          "height": 153
        },
        "outputId": "bdd3f933-686e-4e42-a4a6-72b92a4b9a82"
      },
      "source": [
        "#let's print out all the feature importance of all 4 classifiers (SVC is left out here)\n",
        "#sequence is: Random Forest,Extra Trees,AdaBoost ,Gradient Boost\n",
        "feature_importance"
      ],
      "execution_count": 272,
      "outputs": [
        {
          "output_type": "execute_result",
          "data": {
            "text/plain": [
              "[[array([0.15753737, 0.41117982, 0.0623966 , 0.03207733, 0.10852192,\n",
              "         0.03463354, 0.08645595, 0.08492677, 0.02227071, 0.        ])],\n",
              " [array([0.16817214, 0.4834881 , 0.02968863, 0.02037795, 0.08601449,\n",
              "         0.02418475, 0.11480847, 0.03873362, 0.03453185, 0.        ])],\n",
              " [array([0.048, 0.022, 0.034, 0.632, 0.022, 0.024, 0.01 , 0.198, 0.01 ,\n",
              "         0.   ])],\n",
              " [array([0.14833139, 0.45978914, 0.07295994, 0.03291128, 0.06455752,\n",
              "         0.03481409, 0.06289685, 0.10153372, 0.02220607, 0.        ])]]"
            ]
          },
          "metadata": {
            "tags": []
          },
          "execution_count": 272
        }
      ]
    },
    {
      "cell_type": "code",
      "metadata": {
        "id": "G4YBFj95CTjn",
        "colab_type": "code",
        "colab": {}
      },
      "source": [
        "#let's create a DF using the feature importance for easily plotting using the plotly\n",
        "cols = train.columns.values\n",
        "feature_df = pd.DataFrame( {'features': cols,\n",
        "     'Random Forest feature importances': feature_importance[0][0],\n",
        "     'Extra Trees  feature importances': feature_importance[1][0],\n",
        "      'AdaBoost feature importances': feature_importance[2][0],\n",
        "    'Gradient Boost feature importances': feature_importance[3][0]\n",
        "    })"
      ],
      "execution_count": 0,
      "outputs": []
    },
    {
      "cell_type": "code",
      "metadata": {
        "id": "uFGiyL33DlZ0",
        "colab_type": "code",
        "colab": {
          "base_uri": "https://localhost:8080/",
          "height": 359
        },
        "outputId": "8698b77d-be42-49d7-e1b2-ae2b38427d33"
      },
      "source": [
        "feature_df"
      ],
      "execution_count": 274,
      "outputs": [
        {
          "output_type": "execute_result",
          "data": {
            "text/html": [
              "<div>\n",
              "<style scoped>\n",
              "    .dataframe tbody tr th:only-of-type {\n",
              "        vertical-align: middle;\n",
              "    }\n",
              "\n",
              "    .dataframe tbody tr th {\n",
              "        vertical-align: top;\n",
              "    }\n",
              "\n",
              "    .dataframe thead th {\n",
              "        text-align: right;\n",
              "    }\n",
              "</style>\n",
              "<table border=\"1\" class=\"dataframe\">\n",
              "  <thead>\n",
              "    <tr style=\"text-align: right;\">\n",
              "      <th></th>\n",
              "      <th>features</th>\n",
              "      <th>Random Forest feature importances</th>\n",
              "      <th>Extra Trees  feature importances</th>\n",
              "      <th>AdaBoost feature importances</th>\n",
              "      <th>Gradient Boost feature importances</th>\n",
              "    </tr>\n",
              "  </thead>\n",
              "  <tbody>\n",
              "    <tr>\n",
              "      <th>0</th>\n",
              "      <td>Pclass</td>\n",
              "      <td>0.157537</td>\n",
              "      <td>0.168172</td>\n",
              "      <td>0.048</td>\n",
              "      <td>0.148331</td>\n",
              "    </tr>\n",
              "    <tr>\n",
              "      <th>1</th>\n",
              "      <td>Sex</td>\n",
              "      <td>0.411180</td>\n",
              "      <td>0.483488</td>\n",
              "      <td>0.022</td>\n",
              "      <td>0.459789</td>\n",
              "    </tr>\n",
              "    <tr>\n",
              "      <th>2</th>\n",
              "      <td>Age</td>\n",
              "      <td>0.062397</td>\n",
              "      <td>0.029689</td>\n",
              "      <td>0.034</td>\n",
              "      <td>0.072960</td>\n",
              "    </tr>\n",
              "    <tr>\n",
              "      <th>3</th>\n",
              "      <td>Parch</td>\n",
              "      <td>0.032077</td>\n",
              "      <td>0.020378</td>\n",
              "      <td>0.632</td>\n",
              "      <td>0.032911</td>\n",
              "    </tr>\n",
              "    <tr>\n",
              "      <th>4</th>\n",
              "      <td>Fare</td>\n",
              "      <td>0.108522</td>\n",
              "      <td>0.086014</td>\n",
              "      <td>0.022</td>\n",
              "      <td>0.064558</td>\n",
              "    </tr>\n",
              "    <tr>\n",
              "      <th>5</th>\n",
              "      <td>Embarked</td>\n",
              "      <td>0.034634</td>\n",
              "      <td>0.024185</td>\n",
              "      <td>0.024</td>\n",
              "      <td>0.034814</td>\n",
              "    </tr>\n",
              "    <tr>\n",
              "      <th>6</th>\n",
              "      <td>Has_cabin</td>\n",
              "      <td>0.086456</td>\n",
              "      <td>0.114808</td>\n",
              "      <td>0.010</td>\n",
              "      <td>0.062897</td>\n",
              "    </tr>\n",
              "    <tr>\n",
              "      <th>7</th>\n",
              "      <td>Family_size</td>\n",
              "      <td>0.084927</td>\n",
              "      <td>0.038734</td>\n",
              "      <td>0.198</td>\n",
              "      <td>0.101534</td>\n",
              "    </tr>\n",
              "    <tr>\n",
              "      <th>8</th>\n",
              "      <td>IsAlone</td>\n",
              "      <td>0.022271</td>\n",
              "      <td>0.034532</td>\n",
              "      <td>0.010</td>\n",
              "      <td>0.022206</td>\n",
              "    </tr>\n",
              "    <tr>\n",
              "      <th>9</th>\n",
              "      <td>Title</td>\n",
              "      <td>0.000000</td>\n",
              "      <td>0.000000</td>\n",
              "      <td>0.000</td>\n",
              "      <td>0.000000</td>\n",
              "    </tr>\n",
              "  </tbody>\n",
              "</table>\n",
              "</div>"
            ],
            "text/plain": [
              "      features  ...  Gradient Boost feature importances\n",
              "0       Pclass  ...                            0.148331\n",
              "1          Sex  ...                            0.459789\n",
              "2          Age  ...                            0.072960\n",
              "3        Parch  ...                            0.032911\n",
              "4         Fare  ...                            0.064558\n",
              "5     Embarked  ...                            0.034814\n",
              "6    Has_cabin  ...                            0.062897\n",
              "7  Family_size  ...                            0.101534\n",
              "8      IsAlone  ...                            0.022206\n",
              "9        Title  ...                            0.000000\n",
              "\n",
              "[10 rows x 5 columns]"
            ]
          },
          "metadata": {
            "tags": []
          },
          "execution_count": 274
        }
      ]
    },
    {
      "cell_type": "code",
      "metadata": {
        "id": "1MM2hwyEE5KG",
        "colab_type": "code",
        "colab": {
          "base_uri": "https://localhost:8080/",
          "height": 542
        },
        "outputId": "973b7dbe-d798-4fd1-f41e-0b3b1f4dfa3b"
      },
      "source": [
        "#TODO: this plotly graph is not working\n",
        "trace = go.Scatter(\n",
        "    y = feature_df['Random Forest feature importances'].values,\n",
        "    x = feature_df['features'].values,\n",
        "    mode='markers',\n",
        "    marker=dict(\n",
        "        sizemode = 'diameter',\n",
        "        sizeref = 1,\n",
        "        size = 25,\n",
        "#       size= feature_df['AdaBoost feature importances'].values,\n",
        "        #color = np.random.randn(500), #set color equal to a variable\n",
        "        color = feature_df['Random Forest feature importances'].values,\n",
        "        colorscale='Portland',\n",
        "        showscale=True\n",
        "    ),\n",
        "    text = feature_df['features'].values\n",
        ")\n",
        "data = [trace]\n",
        "\n",
        "layout= go.Layout(\n",
        "    autosize= True,\n",
        "    title= 'Random Forest Feature Importance',\n",
        "    hovermode= 'closest',\n",
        "#     xaxis= dict(\n",
        "#         title= 'Pop',\n",
        "#         ticklen= 5,\n",
        "#         zeroline= False,\n",
        "#         gridwidth= 2,\n",
        "#     ),\n",
        "    yaxis=dict(\n",
        "        title= 'Feature Importance',\n",
        "        ticklen= 5,\n",
        "        gridwidth= 2\n",
        "    ),\n",
        "    showlegend= False\n",
        ")\n",
        "fig = go.Figure(data=data, layout=layout)\n",
        "py.iplot(fig,filename='scatter2010')\n"
      ],
      "execution_count": 275,
      "outputs": [
        {
          "output_type": "display_data",
          "data": {
            "text/html": [
              "<div>\n",
              "        \n",
              "        \n",
              "            <div id=\"eda4e0b4-83ab-4036-be6e-fbf746993db3\" class=\"plotly-graph-div\" style=\"height:525px; width:100%;\"></div>\n",
              "            <script type=\"text/javascript\">\n",
              "                require([\"plotly\"], function(Plotly) {\n",
              "                    window.PLOTLYENV=window.PLOTLYENV || {};\n",
              "                    \n",
              "                if (document.getElementById(\"eda4e0b4-83ab-4036-be6e-fbf746993db3\")) {\n",
              "                    Plotly.newPlot(\n",
              "                        'eda4e0b4-83ab-4036-be6e-fbf746993db3',\n",
              "                        [{\"marker\": {\"color\": [0.1575373739443043, 0.4111798224164568, 0.06239659883795506, 0.032077325077181335, 0.10852191905075514, 0.0346335356427158, 0.08645594718457984, 0.08492676812735667, 0.02227070971869508, 0.0], \"colorscale\": [[0.0, \"rgb(12,51,131)\"], [0.25, \"rgb(10,136,186)\"], [0.5, \"rgb(242,211,56)\"], [0.75, \"rgb(242,143,56)\"], [1.0, \"rgb(217,30,30)\"]], \"showscale\": true, \"size\": 25, \"sizemode\": \"diameter\", \"sizeref\": 1}, \"mode\": \"markers\", \"text\": [\"Pclass\", \"Sex\", \"Age\", \"Parch\", \"Fare\", \"Embarked\", \"Has_cabin\", \"Family_size\", \"IsAlone\", \"Title\"], \"type\": \"scatter\", \"x\": [\"Pclass\", \"Sex\", \"Age\", \"Parch\", \"Fare\", \"Embarked\", \"Has_cabin\", \"Family_size\", \"IsAlone\", \"Title\"], \"y\": [0.1575373739443043, 0.4111798224164568, 0.06239659883795506, 0.032077325077181335, 0.10852191905075514, 0.0346335356427158, 0.08645594718457984, 0.08492676812735667, 0.02227070971869508, 0.0]}],\n",
              "                        {\"autosize\": true, \"hovermode\": \"closest\", \"showlegend\": false, \"template\": {\"data\": {\"bar\": [{\"error_x\": {\"color\": \"#2a3f5f\"}, \"error_y\": {\"color\": \"#2a3f5f\"}, \"marker\": {\"line\": {\"color\": \"#E5ECF6\", \"width\": 0.5}}, \"type\": \"bar\"}], \"barpolar\": [{\"marker\": {\"line\": {\"color\": \"#E5ECF6\", \"width\": 0.5}}, \"type\": \"barpolar\"}], \"carpet\": [{\"aaxis\": {\"endlinecolor\": \"#2a3f5f\", \"gridcolor\": \"white\", \"linecolor\": \"white\", \"minorgridcolor\": \"white\", \"startlinecolor\": \"#2a3f5f\"}, \"baxis\": {\"endlinecolor\": \"#2a3f5f\", \"gridcolor\": \"white\", \"linecolor\": \"white\", \"minorgridcolor\": \"white\", \"startlinecolor\": \"#2a3f5f\"}, \"type\": \"carpet\"}], \"choropleth\": [{\"colorbar\": {\"outlinewidth\": 0, \"ticks\": \"\"}, \"type\": \"choropleth\"}], \"contour\": [{\"colorbar\": {\"outlinewidth\": 0, \"ticks\": \"\"}, \"colorscale\": [[0.0, \"#0d0887\"], [0.1111111111111111, \"#46039f\"], [0.2222222222222222, \"#7201a8\"], [0.3333333333333333, \"#9c179e\"], [0.4444444444444444, \"#bd3786\"], [0.5555555555555556, \"#d8576b\"], [0.6666666666666666, \"#ed7953\"], [0.7777777777777778, \"#fb9f3a\"], [0.8888888888888888, \"#fdca26\"], [1.0, \"#f0f921\"]], \"type\": \"contour\"}], \"contourcarpet\": [{\"colorbar\": {\"outlinewidth\": 0, \"ticks\": \"\"}, \"type\": \"contourcarpet\"}], \"heatmap\": [{\"colorbar\": {\"outlinewidth\": 0, \"ticks\": \"\"}, \"colorscale\": [[0.0, \"#0d0887\"], [0.1111111111111111, \"#46039f\"], [0.2222222222222222, \"#7201a8\"], [0.3333333333333333, \"#9c179e\"], [0.4444444444444444, \"#bd3786\"], [0.5555555555555556, \"#d8576b\"], [0.6666666666666666, \"#ed7953\"], [0.7777777777777778, \"#fb9f3a\"], [0.8888888888888888, \"#fdca26\"], [1.0, \"#f0f921\"]], \"type\": \"heatmap\"}], \"heatmapgl\": [{\"colorbar\": {\"outlinewidth\": 0, \"ticks\": \"\"}, \"colorscale\": [[0.0, \"#0d0887\"], [0.1111111111111111, \"#46039f\"], [0.2222222222222222, \"#7201a8\"], [0.3333333333333333, \"#9c179e\"], [0.4444444444444444, \"#bd3786\"], [0.5555555555555556, \"#d8576b\"], [0.6666666666666666, \"#ed7953\"], [0.7777777777777778, \"#fb9f3a\"], [0.8888888888888888, \"#fdca26\"], [1.0, \"#f0f921\"]], \"type\": \"heatmapgl\"}], \"histogram\": [{\"marker\": {\"colorbar\": {\"outlinewidth\": 0, \"ticks\": \"\"}}, \"type\": \"histogram\"}], \"histogram2d\": [{\"colorbar\": {\"outlinewidth\": 0, \"ticks\": \"\"}, \"colorscale\": [[0.0, \"#0d0887\"], [0.1111111111111111, \"#46039f\"], [0.2222222222222222, \"#7201a8\"], [0.3333333333333333, \"#9c179e\"], [0.4444444444444444, \"#bd3786\"], [0.5555555555555556, \"#d8576b\"], [0.6666666666666666, \"#ed7953\"], [0.7777777777777778, \"#fb9f3a\"], [0.8888888888888888, \"#fdca26\"], [1.0, \"#f0f921\"]], \"type\": \"histogram2d\"}], \"histogram2dcontour\": [{\"colorbar\": {\"outlinewidth\": 0, \"ticks\": \"\"}, \"colorscale\": [[0.0, \"#0d0887\"], [0.1111111111111111, \"#46039f\"], [0.2222222222222222, \"#7201a8\"], [0.3333333333333333, \"#9c179e\"], [0.4444444444444444, \"#bd3786\"], [0.5555555555555556, \"#d8576b\"], [0.6666666666666666, \"#ed7953\"], [0.7777777777777778, \"#fb9f3a\"], [0.8888888888888888, \"#fdca26\"], [1.0, \"#f0f921\"]], \"type\": \"histogram2dcontour\"}], \"mesh3d\": [{\"colorbar\": {\"outlinewidth\": 0, \"ticks\": \"\"}, \"type\": \"mesh3d\"}], \"parcoords\": [{\"line\": {\"colorbar\": {\"outlinewidth\": 0, \"ticks\": \"\"}}, \"type\": \"parcoords\"}], \"pie\": [{\"automargin\": true, \"type\": \"pie\"}], \"scatter\": [{\"marker\": {\"colorbar\": {\"outlinewidth\": 0, \"ticks\": \"\"}}, \"type\": \"scatter\"}], \"scatter3d\": [{\"line\": {\"colorbar\": {\"outlinewidth\": 0, \"ticks\": \"\"}}, \"marker\": {\"colorbar\": {\"outlinewidth\": 0, \"ticks\": \"\"}}, \"type\": \"scatter3d\"}], \"scattercarpet\": [{\"marker\": {\"colorbar\": {\"outlinewidth\": 0, \"ticks\": \"\"}}, \"type\": \"scattercarpet\"}], \"scattergeo\": [{\"marker\": {\"colorbar\": {\"outlinewidth\": 0, \"ticks\": \"\"}}, \"type\": \"scattergeo\"}], \"scattergl\": [{\"marker\": {\"colorbar\": {\"outlinewidth\": 0, \"ticks\": \"\"}}, \"type\": \"scattergl\"}], \"scattermapbox\": [{\"marker\": {\"colorbar\": {\"outlinewidth\": 0, \"ticks\": \"\"}}, \"type\": \"scattermapbox\"}], \"scatterpolar\": [{\"marker\": {\"colorbar\": {\"outlinewidth\": 0, \"ticks\": \"\"}}, \"type\": \"scatterpolar\"}], \"scatterpolargl\": [{\"marker\": {\"colorbar\": {\"outlinewidth\": 0, \"ticks\": \"\"}}, \"type\": \"scatterpolargl\"}], \"scatterternary\": [{\"marker\": {\"colorbar\": {\"outlinewidth\": 0, \"ticks\": \"\"}}, \"type\": \"scatterternary\"}], \"surface\": [{\"colorbar\": {\"outlinewidth\": 0, \"ticks\": \"\"}, \"colorscale\": [[0.0, \"#0d0887\"], [0.1111111111111111, \"#46039f\"], [0.2222222222222222, \"#7201a8\"], [0.3333333333333333, \"#9c179e\"], [0.4444444444444444, \"#bd3786\"], [0.5555555555555556, \"#d8576b\"], [0.6666666666666666, \"#ed7953\"], [0.7777777777777778, \"#fb9f3a\"], [0.8888888888888888, \"#fdca26\"], [1.0, \"#f0f921\"]], \"type\": \"surface\"}], \"table\": [{\"cells\": {\"fill\": {\"color\": \"#EBF0F8\"}, \"line\": {\"color\": \"white\"}}, \"header\": {\"fill\": {\"color\": \"#C8D4E3\"}, \"line\": {\"color\": \"white\"}}, \"type\": \"table\"}]}, \"layout\": {\"annotationdefaults\": {\"arrowcolor\": \"#2a3f5f\", \"arrowhead\": 0, \"arrowwidth\": 1}, \"coloraxis\": {\"colorbar\": {\"outlinewidth\": 0, \"ticks\": \"\"}}, \"colorscale\": {\"diverging\": [[0, \"#8e0152\"], [0.1, \"#c51b7d\"], [0.2, \"#de77ae\"], [0.3, \"#f1b6da\"], [0.4, \"#fde0ef\"], [0.5, \"#f7f7f7\"], [0.6, \"#e6f5d0\"], [0.7, \"#b8e186\"], [0.8, \"#7fbc41\"], [0.9, \"#4d9221\"], [1, \"#276419\"]], \"sequential\": [[0.0, \"#0d0887\"], [0.1111111111111111, \"#46039f\"], [0.2222222222222222, \"#7201a8\"], [0.3333333333333333, \"#9c179e\"], [0.4444444444444444, \"#bd3786\"], [0.5555555555555556, \"#d8576b\"], [0.6666666666666666, \"#ed7953\"], [0.7777777777777778, \"#fb9f3a\"], [0.8888888888888888, \"#fdca26\"], [1.0, \"#f0f921\"]], \"sequentialminus\": [[0.0, \"#0d0887\"], [0.1111111111111111, \"#46039f\"], [0.2222222222222222, \"#7201a8\"], [0.3333333333333333, \"#9c179e\"], [0.4444444444444444, \"#bd3786\"], [0.5555555555555556, \"#d8576b\"], [0.6666666666666666, \"#ed7953\"], [0.7777777777777778, \"#fb9f3a\"], [0.8888888888888888, \"#fdca26\"], [1.0, \"#f0f921\"]]}, \"colorway\": [\"#636efa\", \"#EF553B\", \"#00cc96\", \"#ab63fa\", \"#FFA15A\", \"#19d3f3\", \"#FF6692\", \"#B6E880\", \"#FF97FF\", \"#FECB52\"], \"font\": {\"color\": \"#2a3f5f\"}, \"geo\": {\"bgcolor\": \"white\", \"lakecolor\": \"white\", \"landcolor\": \"#E5ECF6\", \"showlakes\": true, \"showland\": true, \"subunitcolor\": \"white\"}, \"hoverlabel\": {\"align\": \"left\"}, \"hovermode\": \"closest\", \"mapbox\": {\"style\": \"light\"}, \"paper_bgcolor\": \"white\", \"plot_bgcolor\": \"#E5ECF6\", \"polar\": {\"angularaxis\": {\"gridcolor\": \"white\", \"linecolor\": \"white\", \"ticks\": \"\"}, \"bgcolor\": \"#E5ECF6\", \"radialaxis\": {\"gridcolor\": \"white\", \"linecolor\": \"white\", \"ticks\": \"\"}}, \"scene\": {\"xaxis\": {\"backgroundcolor\": \"#E5ECF6\", \"gridcolor\": \"white\", \"gridwidth\": 2, \"linecolor\": \"white\", \"showbackground\": true, \"ticks\": \"\", \"zerolinecolor\": \"white\"}, \"yaxis\": {\"backgroundcolor\": \"#E5ECF6\", \"gridcolor\": \"white\", \"gridwidth\": 2, \"linecolor\": \"white\", \"showbackground\": true, \"ticks\": \"\", \"zerolinecolor\": \"white\"}, \"zaxis\": {\"backgroundcolor\": \"#E5ECF6\", \"gridcolor\": \"white\", \"gridwidth\": 2, \"linecolor\": \"white\", \"showbackground\": true, \"ticks\": \"\", \"zerolinecolor\": \"white\"}}, \"shapedefaults\": {\"line\": {\"color\": \"#2a3f5f\"}}, \"ternary\": {\"aaxis\": {\"gridcolor\": \"white\", \"linecolor\": \"white\", \"ticks\": \"\"}, \"baxis\": {\"gridcolor\": \"white\", \"linecolor\": \"white\", \"ticks\": \"\"}, \"bgcolor\": \"#E5ECF6\", \"caxis\": {\"gridcolor\": \"white\", \"linecolor\": \"white\", \"ticks\": \"\"}}, \"title\": {\"x\": 0.05}, \"xaxis\": {\"automargin\": true, \"gridcolor\": \"white\", \"linecolor\": \"white\", \"ticks\": \"\", \"title\": {\"standoff\": 15}, \"zerolinecolor\": \"white\", \"zerolinewidth\": 2}, \"yaxis\": {\"automargin\": true, \"gridcolor\": \"white\", \"linecolor\": \"white\", \"ticks\": \"\", \"title\": {\"standoff\": 15}, \"zerolinecolor\": \"white\", \"zerolinewidth\": 2}}}, \"title\": {\"text\": \"Random Forest Feature Importance\"}, \"yaxis\": {\"gridwidth\": 2, \"ticklen\": 5, \"title\": {\"text\": \"Feature Importance\"}}},\n",
              "                        {\"responsive\": true}\n",
              "                    ).then(function(){\n",
              "                            \n",
              "var gd = document.getElementById('eda4e0b4-83ab-4036-be6e-fbf746993db3');\n",
              "var x = new MutationObserver(function (mutations, observer) {{\n",
              "        var display = window.getComputedStyle(gd).display;\n",
              "        if (!display || display === 'none') {{\n",
              "            console.log([gd, 'removed!']);\n",
              "            Plotly.purge(gd);\n",
              "            observer.disconnect();\n",
              "        }}\n",
              "}});\n",
              "\n",
              "// Listen for the removal of the full notebook cells\n",
              "var notebookContainer = gd.closest('#notebook-container');\n",
              "if (notebookContainer) {{\n",
              "    x.observe(notebookContainer, {childList: true});\n",
              "}}\n",
              "\n",
              "// Listen for the clearing of the current output cell\n",
              "var outputEl = gd.closest('.output');\n",
              "if (outputEl) {{\n",
              "    x.observe(outputEl, {childList: true});\n",
              "}}\n",
              "\n",
              "                        })\n",
              "                };\n",
              "                });\n",
              "            </script>\n",
              "        </div>"
            ],
            "application/vnd.plotly.v1+json": {
              "data": [
                {
                  "text": [
                    "Pclass",
                    "Sex",
                    "Age",
                    "Parch",
                    "Fare",
                    "Embarked",
                    "Has_cabin",
                    "Family_size",
                    "IsAlone",
                    "Title"
                  ],
                  "y": [
                    0.1575373739443043,
                    0.4111798224164568,
                    0.06239659883795506,
                    0.032077325077181335,
                    0.10852191905075514,
                    0.0346335356427158,
                    0.08645594718457984,
                    0.08492676812735667,
                    0.02227070971869508,
                    0
                  ],
                  "mode": "markers",
                  "marker": {
                    "sizeref": 1,
                    "colorscale": [
                      [
                        0,
                        "rgb(12,51,131)"
                      ],
                      [
                        0.25,
                        "rgb(10,136,186)"
                      ],
                      [
                        0.5,
                        "rgb(242,211,56)"
                      ],
                      [
                        0.75,
                        "rgb(242,143,56)"
                      ],
                      [
                        1,
                        "rgb(217,30,30)"
                      ]
                    ],
                    "color": [
                      0.1575373739443043,
                      0.4111798224164568,
                      0.06239659883795506,
                      0.032077325077181335,
                      0.10852191905075514,
                      0.0346335356427158,
                      0.08645594718457984,
                      0.08492676812735667,
                      0.02227070971869508,
                      0
                    ],
                    "sizemode": "diameter",
                    "showscale": true,
                    "size": 25
                  },
                  "x": [
                    "Pclass",
                    "Sex",
                    "Age",
                    "Parch",
                    "Fare",
                    "Embarked",
                    "Has_cabin",
                    "Family_size",
                    "IsAlone",
                    "Title"
                  ],
                  "type": "scatter"
                }
              ],
              "config": {
                "plotlyServerURL": "https://plot.ly",
                "linkText": "Export to plot.ly",
                "showLink": false
              },
              "layout": {
                "autosize": true,
                "title": {
                  "text": "Random Forest Feature Importance"
                },
                "yaxis": {
                  "ticklen": 5,
                  "gridwidth": 2,
                  "title": {
                    "text": "Feature Importance"
                  }
                },
                "showlegend": false,
                "template": {
                  "layout": {
                    "shapedefaults": {
                      "line": {
                        "color": "#2a3f5f"
                      }
                    },
                    "polar": {
                      "radialaxis": {
                        "ticks": "",
                        "gridcolor": "white",
                        "linecolor": "white"
                      },
                      "bgcolor": "#E5ECF6",
                      "angularaxis": {
                        "ticks": "",
                        "gridcolor": "white",
                        "linecolor": "white"
                      }
                    },
                    "colorway": [
                      "#636efa",
                      "#EF553B",
                      "#00cc96",
                      "#ab63fa",
                      "#FFA15A",
                      "#19d3f3",
                      "#FF6692",
                      "#B6E880",
                      "#FF97FF",
                      "#FECB52"
                    ],
                    "xaxis": {
                      "automargin": true,
                      "title": {
                        "standoff": 15
                      },
                      "zerolinewidth": 2,
                      "ticks": "",
                      "zerolinecolor": "white",
                      "gridcolor": "white",
                      "linecolor": "white"
                    },
                    "colorscale": {
                      "diverging": [
                        [
                          0,
                          "#8e0152"
                        ],
                        [
                          0.1,
                          "#c51b7d"
                        ],
                        [
                          0.2,
                          "#de77ae"
                        ],
                        [
                          0.3,
                          "#f1b6da"
                        ],
                        [
                          0.4,
                          "#fde0ef"
                        ],
                        [
                          0.5,
                          "#f7f7f7"
                        ],
                        [
                          0.6,
                          "#e6f5d0"
                        ],
                        [
                          0.7,
                          "#b8e186"
                        ],
                        [
                          0.8,
                          "#7fbc41"
                        ],
                        [
                          0.9,
                          "#4d9221"
                        ],
                        [
                          1,
                          "#276419"
                        ]
                      ],
                      "sequential": [
                        [
                          0,
                          "#0d0887"
                        ],
                        [
                          0.1111111111111111,
                          "#46039f"
                        ],
                        [
                          0.2222222222222222,
                          "#7201a8"
                        ],
                        [
                          0.3333333333333333,
                          "#9c179e"
                        ],
                        [
                          0.4444444444444444,
                          "#bd3786"
                        ],
                        [
                          0.5555555555555556,
                          "#d8576b"
                        ],
                        [
                          0.6666666666666666,
                          "#ed7953"
                        ],
                        [
                          0.7777777777777778,
                          "#fb9f3a"
                        ],
                        [
                          0.8888888888888888,
                          "#fdca26"
                        ],
                        [
                          1,
                          "#f0f921"
                        ]
                      ],
                      "sequentialminus": [
                        [
                          0,
                          "#0d0887"
                        ],
                        [
                          0.1111111111111111,
                          "#46039f"
                        ],
                        [
                          0.2222222222222222,
                          "#7201a8"
                        ],
                        [
                          0.3333333333333333,
                          "#9c179e"
                        ],
                        [
                          0.4444444444444444,
                          "#bd3786"
                        ],
                        [
                          0.5555555555555556,
                          "#d8576b"
                        ],
                        [
                          0.6666666666666666,
                          "#ed7953"
                        ],
                        [
                          0.7777777777777778,
                          "#fb9f3a"
                        ],
                        [
                          0.8888888888888888,
                          "#fdca26"
                        ],
                        [
                          1,
                          "#f0f921"
                        ]
                      ]
                    },
                    "paper_bgcolor": "white",
                    "plot_bgcolor": "#E5ECF6",
                    "title": {
                      "x": 0.05
                    },
                    "scene": {
                      "zaxis": {
                        "backgroundcolor": "#E5ECF6",
                        "ticks": "",
                        "gridwidth": 2,
                        "showbackground": true,
                        "zerolinecolor": "white",
                        "gridcolor": "white",
                        "linecolor": "white"
                      },
                      "xaxis": {
                        "backgroundcolor": "#E5ECF6",
                        "ticks": "",
                        "gridwidth": 2,
                        "showbackground": true,
                        "zerolinecolor": "white",
                        "gridcolor": "white",
                        "linecolor": "white"
                      },
                      "yaxis": {
                        "backgroundcolor": "#E5ECF6",
                        "ticks": "",
                        "gridwidth": 2,
                        "showbackground": true,
                        "zerolinecolor": "white",
                        "gridcolor": "white",
                        "linecolor": "white"
                      }
                    },
                    "yaxis": {
                      "automargin": true,
                      "title": {
                        "standoff": 15
                      },
                      "zerolinewidth": 2,
                      "ticks": "",
                      "zerolinecolor": "white",
                      "gridcolor": "white",
                      "linecolor": "white"
                    },
                    "annotationdefaults": {
                      "arrowwidth": 1,
                      "arrowhead": 0,
                      "arrowcolor": "#2a3f5f"
                    },
                    "hoverlabel": {
                      "align": "left"
                    },
                    "ternary": {
                      "bgcolor": "#E5ECF6",
                      "baxis": {
                        "ticks": "",
                        "gridcolor": "white",
                        "linecolor": "white"
                      },
                      "caxis": {
                        "ticks": "",
                        "gridcolor": "white",
                        "linecolor": "white"
                      },
                      "aaxis": {
                        "ticks": "",
                        "gridcolor": "white",
                        "linecolor": "white"
                      }
                    },
                    "mapbox": {
                      "style": "light"
                    },
                    "hovermode": "closest",
                    "font": {
                      "color": "#2a3f5f"
                    },
                    "geo": {
                      "showland": true,
                      "landcolor": "#E5ECF6",
                      "showlakes": true,
                      "bgcolor": "white",
                      "subunitcolor": "white",
                      "lakecolor": "white"
                    },
                    "coloraxis": {
                      "colorbar": {
                        "outlinewidth": 0,
                        "ticks": ""
                      }
                    }
                  },
                  "data": {
                    "mesh3d": [
                      {
                        "colorbar": {
                          "outlinewidth": 0,
                          "ticks": ""
                        },
                        "type": "mesh3d"
                      }
                    ],
                    "scattercarpet": [
                      {
                        "marker": {
                          "colorbar": {
                            "outlinewidth": 0,
                            "ticks": ""
                          }
                        },
                        "type": "scattercarpet"
                      }
                    ],
                    "pie": [
                      {
                        "automargin": true,
                        "type": "pie"
                      }
                    ],
                    "surface": [
                      {
                        "colorbar": {
                          "outlinewidth": 0,
                          "ticks": ""
                        },
                        "type": "surface",
                        "colorscale": [
                          [
                            0,
                            "#0d0887"
                          ],
                          [
                            0.1111111111111111,
                            "#46039f"
                          ],
                          [
                            0.2222222222222222,
                            "#7201a8"
                          ],
                          [
                            0.3333333333333333,
                            "#9c179e"
                          ],
                          [
                            0.4444444444444444,
                            "#bd3786"
                          ],
                          [
                            0.5555555555555556,
                            "#d8576b"
                          ],
                          [
                            0.6666666666666666,
                            "#ed7953"
                          ],
                          [
                            0.7777777777777778,
                            "#fb9f3a"
                          ],
                          [
                            0.8888888888888888,
                            "#fdca26"
                          ],
                          [
                            1,
                            "#f0f921"
                          ]
                        ]
                      }
                    ],
                    "table": [
                      {
                        "header": {
                          "line": {
                            "color": "white"
                          },
                          "fill": {
                            "color": "#C8D4E3"
                          }
                        },
                        "cells": {
                          "line": {
                            "color": "white"
                          },
                          "fill": {
                            "color": "#EBF0F8"
                          }
                        },
                        "type": "table"
                      }
                    ],
                    "scatterpolargl": [
                      {
                        "marker": {
                          "colorbar": {
                            "outlinewidth": 0,
                            "ticks": ""
                          }
                        },
                        "type": "scatterpolargl"
                      }
                    ],
                    "contour": [
                      {
                        "colorbar": {
                          "outlinewidth": 0,
                          "ticks": ""
                        },
                        "type": "contour",
                        "colorscale": [
                          [
                            0,
                            "#0d0887"
                          ],
                          [
                            0.1111111111111111,
                            "#46039f"
                          ],
                          [
                            0.2222222222222222,
                            "#7201a8"
                          ],
                          [
                            0.3333333333333333,
                            "#9c179e"
                          ],
                          [
                            0.4444444444444444,
                            "#bd3786"
                          ],
                          [
                            0.5555555555555556,
                            "#d8576b"
                          ],
                          [
                            0.6666666666666666,
                            "#ed7953"
                          ],
                          [
                            0.7777777777777778,
                            "#fb9f3a"
                          ],
                          [
                            0.8888888888888888,
                            "#fdca26"
                          ],
                          [
                            1,
                            "#f0f921"
                          ]
                        ]
                      }
                    ],
                    "carpet": [
                      {
                        "type": "carpet",
                        "baxis": {
                          "minorgridcolor": "white",
                          "gridcolor": "white",
                          "linecolor": "white",
                          "endlinecolor": "#2a3f5f",
                          "startlinecolor": "#2a3f5f"
                        },
                        "aaxis": {
                          "minorgridcolor": "white",
                          "gridcolor": "white",
                          "linecolor": "white",
                          "endlinecolor": "#2a3f5f",
                          "startlinecolor": "#2a3f5f"
                        }
                      }
                    ],
                    "contourcarpet": [
                      {
                        "colorbar": {
                          "outlinewidth": 0,
                          "ticks": ""
                        },
                        "type": "contourcarpet"
                      }
                    ],
                    "heatmap": [
                      {
                        "colorbar": {
                          "outlinewidth": 0,
                          "ticks": ""
                        },
                        "type": "heatmap",
                        "colorscale": [
                          [
                            0,
                            "#0d0887"
                          ],
                          [
                            0.1111111111111111,
                            "#46039f"
                          ],
                          [
                            0.2222222222222222,
                            "#7201a8"
                          ],
                          [
                            0.3333333333333333,
                            "#9c179e"
                          ],
                          [
                            0.4444444444444444,
                            "#bd3786"
                          ],
                          [
                            0.5555555555555556,
                            "#d8576b"
                          ],
                          [
                            0.6666666666666666,
                            "#ed7953"
                          ],
                          [
                            0.7777777777777778,
                            "#fb9f3a"
                          ],
                          [
                            0.8888888888888888,
                            "#fdca26"
                          ],
                          [
                            1,
                            "#f0f921"
                          ]
                        ]
                      }
                    ],
                    "scattermapbox": [
                      {
                        "marker": {
                          "colorbar": {
                            "outlinewidth": 0,
                            "ticks": ""
                          }
                        },
                        "type": "scattermapbox"
                      }
                    ],
                    "scatter3d": [
                      {
                        "marker": {
                          "colorbar": {
                            "outlinewidth": 0,
                            "ticks": ""
                          }
                        },
                        "line": {
                          "colorbar": {
                            "outlinewidth": 0,
                            "ticks": ""
                          }
                        },
                        "type": "scatter3d"
                      }
                    ],
                    "scattergl": [
                      {
                        "marker": {
                          "colorbar": {
                            "outlinewidth": 0,
                            "ticks": ""
                          }
                        },
                        "type": "scattergl"
                      }
                    ],
                    "scatterternary": [
                      {
                        "marker": {
                          "colorbar": {
                            "outlinewidth": 0,
                            "ticks": ""
                          }
                        },
                        "type": "scatterternary"
                      }
                    ],
                    "histogram": [
                      {
                        "marker": {
                          "colorbar": {
                            "outlinewidth": 0,
                            "ticks": ""
                          }
                        },
                        "type": "histogram"
                      }
                    ],
                    "heatmapgl": [
                      {
                        "colorbar": {
                          "outlinewidth": 0,
                          "ticks": ""
                        },
                        "type": "heatmapgl",
                        "colorscale": [
                          [
                            0,
                            "#0d0887"
                          ],
                          [
                            0.1111111111111111,
                            "#46039f"
                          ],
                          [
                            0.2222222222222222,
                            "#7201a8"
                          ],
                          [
                            0.3333333333333333,
                            "#9c179e"
                          ],
                          [
                            0.4444444444444444,
                            "#bd3786"
                          ],
                          [
                            0.5555555555555556,
                            "#d8576b"
                          ],
                          [
                            0.6666666666666666,
                            "#ed7953"
                          ],
                          [
                            0.7777777777777778,
                            "#fb9f3a"
                          ],
                          [
                            0.8888888888888888,
                            "#fdca26"
                          ],
                          [
                            1,
                            "#f0f921"
                          ]
                        ]
                      }
                    ],
                    "scatterpolar": [
                      {
                        "marker": {
                          "colorbar": {
                            "outlinewidth": 0,
                            "ticks": ""
                          }
                        },
                        "type": "scatterpolar"
                      }
                    ],
                    "histogram2d": [
                      {
                        "colorbar": {
                          "outlinewidth": 0,
                          "ticks": ""
                        },
                        "type": "histogram2d",
                        "colorscale": [
                          [
                            0,
                            "#0d0887"
                          ],
                          [
                            0.1111111111111111,
                            "#46039f"
                          ],
                          [
                            0.2222222222222222,
                            "#7201a8"
                          ],
                          [
                            0.3333333333333333,
                            "#9c179e"
                          ],
                          [
                            0.4444444444444444,
                            "#bd3786"
                          ],
                          [
                            0.5555555555555556,
                            "#d8576b"
                          ],
                          [
                            0.6666666666666666,
                            "#ed7953"
                          ],
                          [
                            0.7777777777777778,
                            "#fb9f3a"
                          ],
                          [
                            0.8888888888888888,
                            "#fdca26"
                          ],
                          [
                            1,
                            "#f0f921"
                          ]
                        ]
                      }
                    ],
                    "scattergeo": [
                      {
                        "marker": {
                          "colorbar": {
                            "outlinewidth": 0,
                            "ticks": ""
                          }
                        },
                        "type": "scattergeo"
                      }
                    ],
                    "bar": [
                      {
                        "marker": {
                          "line": {
                            "color": "#E5ECF6",
                            "width": 0.5
                          }
                        },
                        "type": "bar",
                        "error_x": {
                          "color": "#2a3f5f"
                        },
                        "error_y": {
                          "color": "#2a3f5f"
                        }
                      }
                    ],
                    "choropleth": [
                      {
                        "colorbar": {
                          "outlinewidth": 0,
                          "ticks": ""
                        },
                        "type": "choropleth"
                      }
                    ],
                    "parcoords": [
                      {
                        "line": {
                          "colorbar": {
                            "outlinewidth": 0,
                            "ticks": ""
                          }
                        },
                        "type": "parcoords"
                      }
                    ],
                    "barpolar": [
                      {
                        "marker": {
                          "line": {
                            "color": "#E5ECF6",
                            "width": 0.5
                          }
                        },
                        "type": "barpolar"
                      }
                    ],
                    "histogram2dcontour": [
                      {
                        "colorbar": {
                          "outlinewidth": 0,
                          "ticks": ""
                        },
                        "type": "histogram2dcontour",
                        "colorscale": [
                          [
                            0,
                            "#0d0887"
                          ],
                          [
                            0.1111111111111111,
                            "#46039f"
                          ],
                          [
                            0.2222222222222222,
                            "#7201a8"
                          ],
                          [
                            0.3333333333333333,
                            "#9c179e"
                          ],
                          [
                            0.4444444444444444,
                            "#bd3786"
                          ],
                          [
                            0.5555555555555556,
                            "#d8576b"
                          ],
                          [
                            0.6666666666666666,
                            "#ed7953"
                          ],
                          [
                            0.7777777777777778,
                            "#fb9f3a"
                          ],
                          [
                            0.8888888888888888,
                            "#fdca26"
                          ],
                          [
                            1,
                            "#f0f921"
                          ]
                        ]
                      }
                    ],
                    "scatter": [
                      {
                        "marker": {
                          "colorbar": {
                            "outlinewidth": 0,
                            "ticks": ""
                          }
                        },
                        "type": "scatter"
                      }
                    ]
                  }
                },
                "hovermode": "closest"
              }
            }
          },
          "metadata": {
            "tags": []
          }
        }
      ]
    },
    {
      "cell_type": "code",
      "metadata": {
        "id": "eC80ZielFqzF",
        "colab_type": "code",
        "colab": {
          "base_uri": "https://localhost:8080/",
          "height": 376
        },
        "outputId": "f28c5198-4ad6-45ee-95f0-780597e5e0b1"
      },
      "source": [
        "# Create the new column containing the average feature importance\n",
        "feature_df['mean'] = feature_df.mean(axis= 1)\n",
        "feature_df.sort_values(by=[\"mean\"],ascending=False)"
      ],
      "execution_count": 276,
      "outputs": [
        {
          "output_type": "execute_result",
          "data": {
            "text/html": [
              "<div>\n",
              "<style scoped>\n",
              "    .dataframe tbody tr th:only-of-type {\n",
              "        vertical-align: middle;\n",
              "    }\n",
              "\n",
              "    .dataframe tbody tr th {\n",
              "        vertical-align: top;\n",
              "    }\n",
              "\n",
              "    .dataframe thead th {\n",
              "        text-align: right;\n",
              "    }\n",
              "</style>\n",
              "<table border=\"1\" class=\"dataframe\">\n",
              "  <thead>\n",
              "    <tr style=\"text-align: right;\">\n",
              "      <th></th>\n",
              "      <th>features</th>\n",
              "      <th>Random Forest feature importances</th>\n",
              "      <th>Extra Trees  feature importances</th>\n",
              "      <th>AdaBoost feature importances</th>\n",
              "      <th>Gradient Boost feature importances</th>\n",
              "      <th>mean</th>\n",
              "    </tr>\n",
              "  </thead>\n",
              "  <tbody>\n",
              "    <tr>\n",
              "      <th>1</th>\n",
              "      <td>Sex</td>\n",
              "      <td>0.411180</td>\n",
              "      <td>0.483488</td>\n",
              "      <td>0.022</td>\n",
              "      <td>0.459789</td>\n",
              "      <td>0.344114</td>\n",
              "    </tr>\n",
              "    <tr>\n",
              "      <th>3</th>\n",
              "      <td>Parch</td>\n",
              "      <td>0.032077</td>\n",
              "      <td>0.020378</td>\n",
              "      <td>0.632</td>\n",
              "      <td>0.032911</td>\n",
              "      <td>0.179342</td>\n",
              "    </tr>\n",
              "    <tr>\n",
              "      <th>0</th>\n",
              "      <td>Pclass</td>\n",
              "      <td>0.157537</td>\n",
              "      <td>0.168172</td>\n",
              "      <td>0.048</td>\n",
              "      <td>0.148331</td>\n",
              "      <td>0.130510</td>\n",
              "    </tr>\n",
              "    <tr>\n",
              "      <th>7</th>\n",
              "      <td>Family_size</td>\n",
              "      <td>0.084927</td>\n",
              "      <td>0.038734</td>\n",
              "      <td>0.198</td>\n",
              "      <td>0.101534</td>\n",
              "      <td>0.105799</td>\n",
              "    </tr>\n",
              "    <tr>\n",
              "      <th>4</th>\n",
              "      <td>Fare</td>\n",
              "      <td>0.108522</td>\n",
              "      <td>0.086014</td>\n",
              "      <td>0.022</td>\n",
              "      <td>0.064558</td>\n",
              "      <td>0.070273</td>\n",
              "    </tr>\n",
              "    <tr>\n",
              "      <th>6</th>\n",
              "      <td>Has_cabin</td>\n",
              "      <td>0.086456</td>\n",
              "      <td>0.114808</td>\n",
              "      <td>0.010</td>\n",
              "      <td>0.062897</td>\n",
              "      <td>0.068540</td>\n",
              "    </tr>\n",
              "    <tr>\n",
              "      <th>2</th>\n",
              "      <td>Age</td>\n",
              "      <td>0.062397</td>\n",
              "      <td>0.029689</td>\n",
              "      <td>0.034</td>\n",
              "      <td>0.072960</td>\n",
              "      <td>0.049761</td>\n",
              "    </tr>\n",
              "    <tr>\n",
              "      <th>5</th>\n",
              "      <td>Embarked</td>\n",
              "      <td>0.034634</td>\n",
              "      <td>0.024185</td>\n",
              "      <td>0.024</td>\n",
              "      <td>0.034814</td>\n",
              "      <td>0.029408</td>\n",
              "    </tr>\n",
              "    <tr>\n",
              "      <th>8</th>\n",
              "      <td>IsAlone</td>\n",
              "      <td>0.022271</td>\n",
              "      <td>0.034532</td>\n",
              "      <td>0.010</td>\n",
              "      <td>0.022206</td>\n",
              "      <td>0.022252</td>\n",
              "    </tr>\n",
              "    <tr>\n",
              "      <th>9</th>\n",
              "      <td>Title</td>\n",
              "      <td>0.000000</td>\n",
              "      <td>0.000000</td>\n",
              "      <td>0.000</td>\n",
              "      <td>0.000000</td>\n",
              "      <td>0.000000</td>\n",
              "    </tr>\n",
              "  </tbody>\n",
              "</table>\n",
              "</div>"
            ],
            "text/plain": [
              "      features  ...      mean\n",
              "1          Sex  ...  0.344114\n",
              "3        Parch  ...  0.179342\n",
              "0       Pclass  ...  0.130510\n",
              "7  Family_size  ...  0.105799\n",
              "4         Fare  ...  0.070273\n",
              "6    Has_cabin  ...  0.068540\n",
              "2          Age  ...  0.049761\n",
              "5     Embarked  ...  0.029408\n",
              "8      IsAlone  ...  0.022252\n",
              "9        Title  ...  0.000000\n",
              "\n",
              "[10 rows x 6 columns]"
            ]
          },
          "metadata": {
            "tags": []
          },
          "execution_count": 276
        }
      ]
    },
    {
      "cell_type": "markdown",
      "metadata": {
        "id": "XzYAA3iuLcLq",
        "colab_type": "text"
      },
      "source": [
        "***SECTION 3.2: Second Level Prediction***"
      ]
    },
    {
      "cell_type": "code",
      "metadata": {
        "id": "D-D5EiCeJzD8",
        "colab_type": "code",
        "colab": {
          "base_uri": "https://localhost:8080/",
          "height": 204
        },
        "outputId": "5772a9e6-9c68-40fe-f479-62cfd7ef8547"
      },
      "source": [
        "base_predictions_train_df = pd.DataFrame( {'RandomForest': rf_oof_train.ravel(),\n",
        "     'ExtraTrees': et_oof_train.ravel(),\n",
        "     'AdaBoost': ada_oof_train.ravel(),\n",
        "      'GradientBoost': gb_oof_train.ravel()\n",
        "    })\n",
        "base_predictions_train_df.head()"
      ],
      "execution_count": 277,
      "outputs": [
        {
          "output_type": "execute_result",
          "data": {
            "text/html": [
              "<div>\n",
              "<style scoped>\n",
              "    .dataframe tbody tr th:only-of-type {\n",
              "        vertical-align: middle;\n",
              "    }\n",
              "\n",
              "    .dataframe tbody tr th {\n",
              "        vertical-align: top;\n",
              "    }\n",
              "\n",
              "    .dataframe thead th {\n",
              "        text-align: right;\n",
              "    }\n",
              "</style>\n",
              "<table border=\"1\" class=\"dataframe\">\n",
              "  <thead>\n",
              "    <tr style=\"text-align: right;\">\n",
              "      <th></th>\n",
              "      <th>RandomForest</th>\n",
              "      <th>ExtraTrees</th>\n",
              "      <th>AdaBoost</th>\n",
              "      <th>GradientBoost</th>\n",
              "    </tr>\n",
              "  </thead>\n",
              "  <tbody>\n",
              "    <tr>\n",
              "      <th>0</th>\n",
              "      <td>0.0</td>\n",
              "      <td>0.0</td>\n",
              "      <td>0.0</td>\n",
              "      <td>0.0</td>\n",
              "    </tr>\n",
              "    <tr>\n",
              "      <th>1</th>\n",
              "      <td>1.0</td>\n",
              "      <td>1.0</td>\n",
              "      <td>1.0</td>\n",
              "      <td>1.0</td>\n",
              "    </tr>\n",
              "    <tr>\n",
              "      <th>2</th>\n",
              "      <td>0.0</td>\n",
              "      <td>0.0</td>\n",
              "      <td>1.0</td>\n",
              "      <td>0.0</td>\n",
              "    </tr>\n",
              "    <tr>\n",
              "      <th>3</th>\n",
              "      <td>1.0</td>\n",
              "      <td>1.0</td>\n",
              "      <td>1.0</td>\n",
              "      <td>1.0</td>\n",
              "    </tr>\n",
              "    <tr>\n",
              "      <th>4</th>\n",
              "      <td>0.0</td>\n",
              "      <td>0.0</td>\n",
              "      <td>0.0</td>\n",
              "      <td>0.0</td>\n",
              "    </tr>\n",
              "  </tbody>\n",
              "</table>\n",
              "</div>"
            ],
            "text/plain": [
              "   RandomForest  ExtraTrees  AdaBoost  GradientBoost\n",
              "0           0.0         0.0       0.0            0.0\n",
              "1           1.0         1.0       1.0            1.0\n",
              "2           0.0         0.0       1.0            0.0\n",
              "3           1.0         1.0       1.0            1.0\n",
              "4           0.0         0.0       0.0            0.0"
            ]
          },
          "metadata": {
            "tags": []
          },
          "execution_count": 277
        }
      ]
    },
    {
      "cell_type": "code",
      "metadata": {
        "id": "Js57wQSZL_ug",
        "colab_type": "code",
        "colab": {
          "base_uri": "https://localhost:8080/",
          "height": 612
        },
        "outputId": "05b14d65-4f0c-4a0d-889d-5e653e85bcb3"
      },
      "source": [
        "plt.figure(figsize=(14,10))\n",
        "tc1 = base_predictions_train_df.corr()\n",
        "sns.heatmap(tc1,annot=True,cmap = \"coolwarm\")"
      ],
      "execution_count": 278,
      "outputs": [
        {
          "output_type": "execute_result",
          "data": {
            "text/plain": [
              "<matplotlib.axes._subplots.AxesSubplot at 0x7fc8455dcbe0>"
            ]
          },
          "metadata": {
            "tags": []
          },
          "execution_count": 278
        },
        {
          "output_type": "display_data",
          "data": {
            "image/png": "[encoded data removed]",
            "text/plain": [
              "<Figure size 1008x720 with 2 Axes>"
            ]
          },
          "metadata": {
            "tags": []
          }
        }
      ]
    },
    {
      "cell_type": "code",
      "metadata": {
        "id": "rNIPhpidPOyE",
        "colab_type": "code",
        "colab": {}
      },
      "source": [
        "x_train = np.concatenate(( et_oof_train, rf_oof_train, ada_oof_train, gb_oof_train, svc_oof_train), axis=1)\n",
        "x_test = np.concatenate(( et_oof_test, rf_oof_test, ada_oof_test, gb_oof_test, svc_oof_test), axis=1)"
      ],
      "execution_count": 0,
      "outputs": []
    },
    {
      "cell_type": "code",
      "metadata": {
        "id": "Ao8bF2dpPt0W",
        "colab_type": "code",
        "colab": {}
      },
      "source": [
        "gbm = xgb.XGBClassifier(\n",
        "    #learning_rate = 0.02,\n",
        "    n_estimators= 2000,\n",
        "    max_depth= 4,\n",
        "    min_child_weight= 2,\n",
        "    #gamma=1,\n",
        "    gamma=0.9,                        \n",
        "    subsample=0.8,\n",
        "    colsample_bytree=0.8,\n",
        "    objective= 'binary:logistic',\n",
        "    nthread= -1,\n",
        "    scale_pos_weight=1)\n",
        "\n",
        "gbm.fit(x_train, y_train)\n",
        "\n",
        "predictions = gbm.predict(x_test)"
      ],
      "execution_count": 0,
      "outputs": []
    },
    {
      "cell_type": "code",
      "metadata": {
        "id": "cJn80HO8QXCG",
        "colab_type": "code",
        "colab": {
          "base_uri": "https://localhost:8080/",
          "height": 34
        },
        "outputId": "1c06821c-c833-4fd0-ef12-c8e75f6589a2"
      },
      "source": [
        "predictions.shape"
      ],
      "execution_count": 281,
      "outputs": [
        {
          "output_type": "execute_result",
          "data": {
            "text/plain": [
              "(418,)"
            ]
          },
          "metadata": {
            "tags": []
          },
          "execution_count": 281
        }
      ]
    },
    {
      "cell_type": "code",
      "metadata": {
        "id": "U5Ro79-VQ4Cx",
        "colab_type": "code",
        "colab": {}
      },
      "source": [
        "submission = pd.DataFrame({\"PassengerId\":passengerId_for_submission,\n",
        "                           \"Survived\":predictions})\n",
        "submission.to_csv(\"/content/drive/My Drive/Colab Notebooks/titanic_survived_algo_stacking.csv\",index=False)"
      ],
      "execution_count": 0,
      "outputs": []
    },
    {
      "cell_type": "code",
      "metadata": {
        "id": "XW107Mj79q0J",
        "colab_type": "code",
        "colab": {}
      },
      "source": [
        ""
      ],
      "execution_count": 0,
      "outputs": []
    },
    {
      "cell_type": "code",
      "metadata": {
        "id": "fE4IEw_KCH3A",
        "colab_type": "code",
        "colab": {}
      },
      "source": [
        ""
      ],
      "execution_count": 0,
      "outputs": []
    },
    {
      "cell_type": "markdown",
      "metadata": {
        "id": "D13BOE6AEof8",
        "colab_type": "text"
      },
      "source": [
        "END: SUBMISSION1 TO KAGGLE (score=0.76555)"
      ]
    },
    {
      "cell_type": "code",
      "metadata": {
        "id": "zs8W-0OdFd4S",
        "colab_type": "code",
        "colab": {}
      },
      "source": [
        ""
      ],
      "execution_count": 0,
      "outputs": []
    }
  ]
}
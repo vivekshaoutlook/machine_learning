{
  "nbformat": 4,
  "nbformat_minor": 0,
  "metadata": {
    "colab": {
      "name": "04_Decision Tree on Moon Dataset.ipynb",
      "provenance": [],
      "collapsed_sections": [],
      "authorship_tag": "ABX9TyNYeKA8fcbCbJ7N04GdYjYs",
      "include_colab_link": true
    },
    "kernelspec": {
      "name": "python3",
      "display_name": "Python 3"
    }
  },
  "cells": [
    {
      "cell_type": "markdown",
      "metadata": {
        "id": "view-in-github",
        "colab_type": "text"
      },
      "source": [
        "<a href=\"https://colab.research.google.com/github/vivekshaoutlook/machine_learning/blob/master/04_Decision_Tree_on_Moon_Dataset.ipynb\" target=\"_parent\"><img src=\"https://colab.research.google.com/assets/colab-badge.svg\" alt=\"Open In Colab\"/></a>"
      ]
    },
    {
      "cell_type": "code",
      "metadata": {
        "id": "TwlvV9KF_NYo",
        "colab_type": "code",
        "colab": {}
      },
      "source": [
        "from sklearn.datasets import make_moons"
      ],
      "execution_count": 0,
      "outputs": []
    },
    {
      "cell_type": "markdown",
      "metadata": {
        "id": "aJ9VMXwwLK6u",
        "colab_type": "text"
      },
      "source": [
        "We split the training and the test dataset using **train_test_split**.\n",
        "**GridSearchCV** will help in evaluating various hyperparameters of Decision Tree"
      ]
    },
    {
      "cell_type": "code",
      "metadata": {
        "id": "uGq8rQAuAgyR",
        "colab_type": "code",
        "colab": {}
      },
      "source": [
        "from sklearn.model_selection import train_test_split\n",
        "from sklearn.model_selection import GridSearchCV\n",
        "from sklearn.model_selection import ShuffleSplit"
      ],
      "execution_count": 0,
      "outputs": []
    },
    {
      "cell_type": "code",
      "metadata": {
        "id": "4LynzOZYC3C3",
        "colab_type": "code",
        "colab": {}
      },
      "source": [
        "from sklearn.tree import DecisionTreeClassifier"
      ],
      "execution_count": 0,
      "outputs": []
    },
    {
      "cell_type": "markdown",
      "metadata": {
        "id": "bgWd-lFXLh32",
        "colab_type": "text"
      },
      "source": [
        "**Classification Report** and **Confusion Matrix** are really good metric to measure the accuracy of the classification."
      ]
    },
    {
      "cell_type": "code",
      "metadata": {
        "id": "qMRYcjedG0HO",
        "colab_type": "code",
        "colab": {}
      },
      "source": [
        "from sklearn.metrics import classification_report,confusion_matrix,accuracy_score"
      ],
      "execution_count": 0,
      "outputs": []
    },
    {
      "cell_type": "code",
      "metadata": {
        "id": "S7-p1GMOIAVm",
        "colab_type": "code",
        "colab": {}
      },
      "source": [
        "import numpy as np\n"
      ],
      "execution_count": 0,
      "outputs": []
    },
    {
      "cell_type": "markdown",
      "metadata": {
        "id": "Sy9PvIICAt1W",
        "colab_type": "text"
      },
      "source": [
        "Let's fetch 10,000 make_moons data points adding some noise to the guassian distribution"
      ]
    },
    {
      "cell_type": "code",
      "metadata": {
        "id": "yS9B4l_E_ekX",
        "colab_type": "code",
        "colab": {}
      },
      "source": [
        "X,y = make_moons(n_samples=10000,noise=0.4)"
      ],
      "execution_count": 0,
      "outputs": []
    },
    {
      "cell_type": "code",
      "metadata": {
        "id": "8gaezarzA-se",
        "colab_type": "code",
        "colab": {}
      },
      "source": [
        "X_train,X_test,y_train,y_test = train_test_split(X,y,test_size=0.3,random_state=42)"
      ],
      "execution_count": 0,
      "outputs": []
    },
    {
      "cell_type": "code",
      "metadata": {
        "id": "Wv16cq69Bzv3",
        "colab_type": "code",
        "colab": {}
      },
      "source": [
        "tree_classifier_model = DecisionTreeClassifier()"
      ],
      "execution_count": 0,
      "outputs": []
    },
    {
      "cell_type": "code",
      "metadata": {
        "id": "M76golLMDIjr",
        "colab_type": "code",
        "colab": {}
      },
      "source": [
        "param_grid = [\n",
        "              {\"max_leaf_nodes\":[5,10,15],\"min_samples_split\":[2,3,4,5,6]}\n",
        "            ]"
      ],
      "execution_count": 0,
      "outputs": []
    },
    {
      "cell_type": "code",
      "metadata": {
        "id": "shiURhTwETFW",
        "colab_type": "code",
        "colab": {}
      },
      "source": [
        "grid_search = GridSearchCV(tree_classifier_model,param_grid,cv=6,scoring=\"accuracy\")\n"
      ],
      "execution_count": 0,
      "outputs": []
    },
    {
      "cell_type": "code",
      "metadata": {
        "id": "FJuACRHLFjgE",
        "colab_type": "code",
        "outputId": "81815229-7025-4694-a80a-f20c782e50ff",
        "colab": {
          "base_uri": "https://localhost:8080/",
          "height": 323
        }
      },
      "source": [
        "grid_search.fit(X_train,y_train)"
      ],
      "execution_count": 10,
      "outputs": [
        {
          "output_type": "execute_result",
          "data": {
            "text/plain": [
              "GridSearchCV(cv=6, error_score=nan,\n",
              "             estimator=DecisionTreeClassifier(ccp_alpha=0.0, class_weight=None,\n",
              "                                              criterion='gini', max_depth=None,\n",
              "                                              max_features=None,\n",
              "                                              max_leaf_nodes=None,\n",
              "                                              min_impurity_decrease=0.0,\n",
              "                                              min_impurity_split=None,\n",
              "                                              min_samples_leaf=1,\n",
              "                                              min_samples_split=2,\n",
              "                                              min_weight_fraction_leaf=0.0,\n",
              "                                              presort='deprecated',\n",
              "                                              random_state=None,\n",
              "                                              splitter='best'),\n",
              "             iid='deprecated', n_jobs=None,\n",
              "             param_grid=[{'max_leaf_nodes': [5, 10, 15],\n",
              "                          'min_samples_split': [2, 3, 4, 5, 6]}],\n",
              "             pre_dispatch='2*n_jobs', refit=True, return_train_score=False,\n",
              "             scoring='accuracy', verbose=0)"
            ]
          },
          "metadata": {
            "tags": []
          },
          "execution_count": 10
        }
      ]
    },
    {
      "cell_type": "code",
      "metadata": {
        "id": "xLUKnHqVFyQ-",
        "colab_type": "code",
        "colab": {}
      },
      "source": [
        "predictions = grid_search.predict(X_test)"
      ],
      "execution_count": 0,
      "outputs": []
    },
    {
      "cell_type": "code",
      "metadata": {
        "id": "q0uSvIsPGh7c",
        "colab_type": "code",
        "outputId": "c61613c2-e0c3-4cd0-c7c2-1c4358a1e271",
        "colab": {
          "base_uri": "https://localhost:8080/",
          "height": 51
        }
      },
      "source": [
        "print (confusion_matrix(y_test,predictions))"
      ],
      "execution_count": 12,
      "outputs": [
        {
          "output_type": "stream",
          "text": [
            "[[1198  279]\n",
            " [ 159 1364]]\n"
          ],
          "name": "stdout"
        }
      ]
    },
    {
      "cell_type": "code",
      "metadata": {
        "id": "Q0W2YMR9HEEk",
        "colab_type": "code",
        "outputId": "30ab93eb-cc50-412a-8b5d-e473872c0463",
        "colab": {
          "base_uri": "https://localhost:8080/",
          "height": 170
        }
      },
      "source": [
        "print (classification_report(y_test,predictions))"
      ],
      "execution_count": 13,
      "outputs": [
        {
          "output_type": "stream",
          "text": [
            "              precision    recall  f1-score   support\n",
            "\n",
            "           0       0.88      0.81      0.85      1477\n",
            "           1       0.83      0.90      0.86      1523\n",
            "\n",
            "    accuracy                           0.85      3000\n",
            "   macro avg       0.86      0.85      0.85      3000\n",
            "weighted avg       0.86      0.85      0.85      3000\n",
            "\n"
          ],
          "name": "stdout"
        }
      ]
    },
    {
      "cell_type": "code",
      "metadata": {
        "id": "5zsRvABWKSPL",
        "colab_type": "code",
        "outputId": "553e98d1-4cd6-4d8d-baed-b28b1b0391c9",
        "colab": {
          "base_uri": "https://localhost:8080/",
          "height": 34
        }
      },
      "source": [
        "accuracy_score(y_test,predictions)"
      ],
      "execution_count": 14,
      "outputs": [
        {
          "output_type": "execute_result",
          "data": {
            "text/plain": [
              "0.854"
            ]
          },
          "metadata": {
            "tags": []
          },
          "execution_count": 14
        }
      ]
    },
    {
      "cell_type": "code",
      "metadata": {
        "id": "HDEz5v1_HL09",
        "colab_type": "code",
        "outputId": "ed6435ca-3412-4cf4-c0b3-bdecacf7360b",
        "colab": {
          "base_uri": "https://localhost:8080/",
          "height": 34
        }
      },
      "source": [
        "grid_search.best_params_"
      ],
      "execution_count": 15,
      "outputs": [
        {
          "output_type": "execute_result",
          "data": {
            "text/plain": [
              "{'max_leaf_nodes': 15, 'min_samples_split': 2}"
            ]
          },
          "metadata": {
            "tags": []
          },
          "execution_count": 15
        }
      ]
    },
    {
      "cell_type": "code",
      "metadata": {
        "id": "WBi8d6DAKCf1",
        "colab_type": "code",
        "outputId": "ac18a25f-7a47-4ec9-f265-cf4fcc564082",
        "colab": {
          "base_uri": "https://localhost:8080/",
          "height": 119
        }
      },
      "source": [
        "grid_search.best_estimator_"
      ],
      "execution_count": 16,
      "outputs": [
        {
          "output_type": "execute_result",
          "data": {
            "text/plain": [
              "DecisionTreeClassifier(ccp_alpha=0.0, class_weight=None, criterion='gini',\n",
              "                       max_depth=None, max_features=None, max_leaf_nodes=15,\n",
              "                       min_impurity_decrease=0.0, min_impurity_split=None,\n",
              "                       min_samples_leaf=1, min_samples_split=2,\n",
              "                       min_weight_fraction_leaf=0.0, presort='deprecated',\n",
              "                       random_state=None, splitter='best')"
            ]
          },
          "metadata": {
            "tags": []
          },
          "execution_count": 16
        }
      ]
    },
    {
      "cell_type": "markdown",
      "metadata": {
        "id": "aMkVbQwMzv0U",
        "colab_type": "text"
      },
      "source": [
        "Let's now see what will happen if we train multiple Decision Trees on different training set and evaluate on the test set. Will we get same result or better?"
      ]
    },
    {
      "cell_type": "code",
      "metadata": {
        "id": "zDky6xv_JhC-",
        "colab_type": "code",
        "colab": {
          "base_uri": "https://localhost:8080/",
          "height": 34
        },
        "outputId": "22ea1004-9d29-442f-f0af-db43042eb5e4"
      },
      "source": [
        "len(X_train)"
      ],
      "execution_count": 20,
      "outputs": [
        {
          "output_type": "execute_result",
          "data": {
            "text/plain": [
              "7000"
            ]
          },
          "metadata": {
            "tags": []
          },
          "execution_count": 20
        }
      ]
    },
    {
      "cell_type": "code",
      "metadata": {
        "id": "CvVqCaXcsKu4",
        "colab_type": "code",
        "colab": {}
      },
      "source": [
        "n_trees = 1000\n",
        "n_instances = 100\n",
        "\n",
        "mini_sets = [] # list that holds the actual mini training sets\n",
        "rs = ShuffleSplit(n_splits=n_trees, test_size=len(X_train)-n_instances , random_state=42)\n",
        "for mini_train_index, mini_test_index in rs.split(X_train):\n",
        "  X_mini_train = X_train[mini_train_index]\n",
        "  y_mini_train = y_train[mini_train_index]\n",
        "  #append as tuple so that the X_mini_train and y_mini_train data integrity is preserved\n",
        "  mini_sets.append((X_mini_train,y_mini_train)) \n",
        "  \n",
        "\n"
      ],
      "execution_count": 0,
      "outputs": []
    },
    {
      "cell_type": "code",
      "metadata": {
        "id": "De1ZLdKWvIdc",
        "colab_type": "code",
        "colab": {}
      },
      "source": [
        "index=0\n",
        "mini_accuracy_scores=[]\n",
        "for data_set in mini_sets:  \n",
        "  #the hyper paramters are are the best paramters found earlier  \n",
        "  mini_data_tree_classifier_model = DecisionTreeClassifier(max_leaf_nodes=15,min_samples_split=2)\n",
        "  mini_data_tree_classifier_model.fit(data_set[0],data_set[1])\n",
        "  mini_predictions = mini_data_tree_classifier_model.predict(X_test)\n",
        "  mini_accuracy_scores.append(accuracy_score(y_test,mini_predictions))\n"
      ],
      "execution_count": 0,
      "outputs": []
    },
    {
      "cell_type": "code",
      "metadata": {
        "id": "3NBEIegC1rcG",
        "colab_type": "code",
        "colab": {
          "base_uri": "https://localhost:8080/",
          "height": 34
        },
        "outputId": "86427a65-07cc-4f8d-fe62-7779fcb75111"
      },
      "source": [
        "np.mean(mini_accuracy_scores)"
      ],
      "execution_count": 43,
      "outputs": [
        {
          "output_type": "execute_result",
          "data": {
            "text/plain": [
              "0.7983536666666666"
            ]
          },
          "metadata": {
            "tags": []
          },
          "execution_count": 43
        }
      ]
    },
    {
      "cell_type": "markdown",
      "metadata": {
        "id": "BohvzE6QAiPD",
        "colab_type": "text"
      },
      "source": [
        "We achieved only about 80% mean accuracy on the test dataset with an ensemble of 1000 Trees - worse than single DecisionTree model we used earlier. This happened becasue each 1000 individual trees were trained only on 100 training instances"
      ]
    },
    {
      "cell_type": "code",
      "metadata": {
        "id": "8v4pkH0B4LvT",
        "colab_type": "code",
        "colab": {}
      },
      "source": [
        ""
      ],
      "execution_count": 0,
      "outputs": []
    }
  ]
}
{
  "nbformat": 4,
  "nbformat_minor": 0,
  "metadata": {
    "colab": {
      "name": "02_Logistic Regression.ipynb",
      "provenance": [],
      "collapsed_sections": [],
      "include_colab_link": true
    },
    "kernelspec": {
      "name": "python3",
      "display_name": "Python 3"
    }
  },
  "cells": [
    {
      "cell_type": "markdown",
      "metadata": {
        "id": "view-in-github",
        "colab_type": "text"
      },
      "source": [
        "<a href=\"https://colab.research.google.com/github/vivekshaoutlook/machine_learning/blob/master/02_Logistic_Regression.ipynb\" target=\"_parent\"><img src=\"https://colab.research.google.com/assets/colab-badge.svg\" alt=\"Open In Colab\"/></a>"
      ]
    },
    {
      "cell_type": "markdown",
      "metadata": {
        "id": "wIM1tCCRIx_G",
        "colab_type": "text"
      },
      "source": [
        "#LOGISTIC REGRESSION WITH NO OUT-OF-BOX MODEL USE\n",
        "Problem Description: Suppose that you are the administrator of a university department and\n",
        "you want to determine each applicant's chance of admission based on their\n",
        "results on two exams. You have historical data from previous applicants\n",
        "that you can use as a training set for logistic regression. For each training\n",
        "example, you have the applicant's scores on two exams and the admissions\n",
        "decision."
      ]
    },
    {
      "cell_type": "code",
      "metadata": {
        "id": "yBKr8_DgI2vq",
        "colab_type": "code",
        "colab": {}
      },
      "source": [
        "from google.colab import drive\n",
        "import pandas as pd\n",
        "import numpy as np\n",
        "import seaborn as sns\n",
        "import matplotlib.pyplot as plt\n",
        "from matplotlib.lines import Line2D\n",
        "from math import exp\n",
        "from scipy.stats import logistic\n",
        "from scipy.special import expit\n",
        "from scipy.optimize import fmin_bfgs\n",
        "from scipy.optimize import fmin_tnc\n"
      ],
      "execution_count": 0,
      "outputs": []
    },
    {
      "cell_type": "code",
      "metadata": {
        "id": "_n3TqqEELGfE",
        "colab_type": "code",
        "outputId": "40bc150e-0bcb-4313-db7b-255227ef8a9f",
        "colab": {
          "base_uri": "https://localhost:8080/",
          "height": 35
        }
      },
      "source": [
        "drive.mount('/content/drive')"
      ],
      "execution_count": 590,
      "outputs": [
        {
          "output_type": "stream",
          "text": [
            "Drive already mounted at /content/drive; to attempt to forcibly remount, call drive.mount(\"/content/drive\", force_remount=True).\n"
          ],
          "name": "stdout"
        }
      ]
    },
    {
      "cell_type": "code",
      "metadata": {
        "id": "QH7AgL09JFIw",
        "colab_type": "code",
        "colab": {}
      },
      "source": [
        "#read the data and provide columns names since the csv file has no column header\n",
        "data = pd.read_csv(\"/content/drive/My Drive/Colab Notebooks/lrdata1.csv\",names=['Exam1 Score','Exam2 Score','Result'])"
      ],
      "execution_count": 0,
      "outputs": []
    },
    {
      "cell_type": "code",
      "metadata": {
        "id": "sEi30GGLJXrm",
        "colab_type": "code",
        "outputId": "a39450b1-9465-4a32-b4aa-8fbb5cb23aba",
        "colab": {
          "base_uri": "https://localhost:8080/",
          "height": 202
        }
      },
      "source": [
        "data.head()"
      ],
      "execution_count": 592,
      "outputs": [
        {
          "output_type": "execute_result",
          "data": {
            "text/html": [
              "<div>\n",
              "<style scoped>\n",
              "    .dataframe tbody tr th:only-of-type {\n",
              "        vertical-align: middle;\n",
              "    }\n",
              "\n",
              "    .dataframe tbody tr th {\n",
              "        vertical-align: top;\n",
              "    }\n",
              "\n",
              "    .dataframe thead th {\n",
              "        text-align: right;\n",
              "    }\n",
              "</style>\n",
              "<table border=\"1\" class=\"dataframe\">\n",
              "  <thead>\n",
              "    <tr style=\"text-align: right;\">\n",
              "      <th></th>\n",
              "      <th>Exam1 Score</th>\n",
              "      <th>Exam2 Score</th>\n",
              "      <th>Result</th>\n",
              "    </tr>\n",
              "  </thead>\n",
              "  <tbody>\n",
              "    <tr>\n",
              "      <th>0</th>\n",
              "      <td>34.623660</td>\n",
              "      <td>78.024693</td>\n",
              "      <td>0</td>\n",
              "    </tr>\n",
              "    <tr>\n",
              "      <th>1</th>\n",
              "      <td>30.286711</td>\n",
              "      <td>43.894998</td>\n",
              "      <td>0</td>\n",
              "    </tr>\n",
              "    <tr>\n",
              "      <th>2</th>\n",
              "      <td>35.847409</td>\n",
              "      <td>72.902198</td>\n",
              "      <td>0</td>\n",
              "    </tr>\n",
              "    <tr>\n",
              "      <th>3</th>\n",
              "      <td>60.182599</td>\n",
              "      <td>86.308552</td>\n",
              "      <td>1</td>\n",
              "    </tr>\n",
              "    <tr>\n",
              "      <th>4</th>\n",
              "      <td>79.032736</td>\n",
              "      <td>75.344376</td>\n",
              "      <td>1</td>\n",
              "    </tr>\n",
              "  </tbody>\n",
              "</table>\n",
              "</div>"
            ],
            "text/plain": [
              "   Exam1 Score  Exam2 Score  Result\n",
              "0    34.623660    78.024693       0\n",
              "1    30.286711    43.894998       0\n",
              "2    35.847409    72.902198       0\n",
              "3    60.182599    86.308552       1\n",
              "4    79.032736    75.344376       1"
            ]
          },
          "metadata": {
            "tags": []
          },
          "execution_count": 592
        }
      ]
    },
    {
      "cell_type": "code",
      "metadata": {
        "id": "u-P2EjT0MUGm",
        "colab_type": "code",
        "outputId": "b1a43fd4-e440-4df6-c999-ba58c1b8d841",
        "colab": {
          "base_uri": "https://localhost:8080/",
          "height": 371
        }
      },
      "source": [
        "X=data.iloc[:,0:2]\n",
        "y=data.iloc[:,-1]\n",
        "#let's do a scatter plot of training data for better data visualization\n",
        "plt.figure(figsize=(11,5))\n",
        "#using 'hue' of the scatterplot for showing realtionship between 3 varaibles\n",
        "sns.scatterplot(data['Exam1 Score'],data['Exam2 Score'],hue=data['Result'])\n",
        "'''below array of Line2D helps in customized legend - 'Not Admitted/Admitted\n",
        "Note that the first 2 arguments, which is for data, is empty list since, we want to exploit Line2D only for legend label'''\n",
        "custom = [Line2D([], [], marker='.', color='b', linestyle='None'),\n",
        "         Line2D([], [], marker='.', color='r', linestyle='None')]\n",
        "plt.legend(custom,[\"Not admitted\",\"Admitted\"])\n",
        "plt.show()\n",
        "\n",
        "'''\n",
        "Alternatively, this also works\n",
        "from numpy import loadtxt, where\n",
        "from pylab import scatter, show, legend, xlabel, ylabel\n",
        "\n",
        "#load the dataset\n",
        "data = loadtxt('ex2data1.txt', delimiter=',')\n",
        "\n",
        "X = data[:, 0:2]\n",
        "y = data[:, 2]\n",
        "\n",
        "pos = where(y == 1)\n",
        "neg = where(y == 0)\n",
        "scatter(X[pos, 0], X[pos, 1], marker='o', c='b')\n",
        "scatter(X[neg, 0], X[neg, 1], marker='x', c='r')\n",
        "\n",
        "#another way###\n",
        "positive = data[data['Admitted'].isin([1])]\n",
        "negative = data[data['Admitted'].isin([0])]\n",
        "\n",
        "fig, ax = plt.subplots(figsize=(12,8))\n",
        "ax.scatter(positive['Exam 1'], positive['Exam 2'], s=50, c='b', marker='o', label='Admitted')\n",
        "ax.scatter(negative['Exam 1'], negative['Exam 2'], s=50, c='r', marker='x', label='Not Admitted')\n",
        "ax.legend()\n",
        "ax.set_xlabel('Exam 1 Score')\n",
        "ax.set_ylabel('Exam 2 Score')\n",
        "##another way end\n",
        "\n",
        "xlabel('Exam 1 score')\n",
        "ylabel('Exam 2 score')\n",
        "legend(['Not Admitted', 'Admitted'])\n",
        "show()\n",
        "'''"
      ],
      "execution_count": 593,
      "outputs": [
        {
          "output_type": "display_data",
          "data": {
            "image/png": "[encoded data removed]",
            "text/plain": [
              "<Figure size 792x360 with 1 Axes>"
            ]
          },
          "metadata": {
            "tags": []
          }
        },
        {
          "output_type": "execute_result",
          "data": {
            "text/plain": [
              "\"\\nAlternatively, this also works\\nfrom numpy import loadtxt, where\\nfrom pylab import scatter, show, legend, xlabel, ylabel\\n\\n#load the dataset\\ndata = loadtxt('ex2data1.txt', delimiter=',')\\n\\nX = data[:, 0:2]\\ny = data[:, 2]\\n\\npos = where(y == 1)\\nneg = where(y == 0)\\nscatter(X[pos, 0], X[pos, 1], marker='o', c='b')\\nscatter(X[neg, 0], X[neg, 1], marker='x', c='r')\\n\\n#another way###\\npositive = data[data['Admitted'].isin([1])]\\nnegative = data[data['Admitted'].isin([0])]\\n\\nfig, ax = plt.subplots(figsize=(12,8))\\nax.scatter(positive['Exam 1'], positive['Exam 2'], s=50, c='b', marker='o', label='Admitted')\\nax.scatter(negative['Exam 1'], negative['Exam 2'], s=50, c='r', marker='x', label='Not Admitted')\\nax.legend()\\nax.set_xlabel('Exam 1 Score')\\nax.set_ylabel('Exam 2 Score')\\n##another way end\\n\\nxlabel('Exam 1 score')\\nylabel('Exam 2 score')\\nlegend(['Not Admitted', 'Admitted'])\\nshow()\\n\""
            ]
          },
          "metadata": {
            "tags": []
          },
          "execution_count": 593
        }
      ]
    },
    {
      "cell_type": "code",
      "metadata": {
        "id": "iol9CrryavmW",
        "colab_type": "code",
        "colab": {}
      },
      "source": [
        "\n",
        "m = X.shape[0] #or np.shape(X)[0]\n",
        "n = X.shape[1]\n",
        "#note taht after execution of the below code, X becomes a 'np array' from a 'DataFrame'\n",
        "X=np.c_[np.ones((m,1)),X] #this  creates the intercept term (column of all 'prefixed' 1's )\n"
      ],
      "execution_count": 0,
      "outputs": []
    },
    {
      "cell_type": "code",
      "metadata": {
        "id": "5ZMi-c09GKK9",
        "colab_type": "code",
        "colab": {}
      },
      "source": [
        "#let's initialize the theta (the parameter we want to train) with all zero initially\n",
        "initial_theta = np.zeros((n+1,1))\n",
        "#initial_theta = np.zeros(n+1)"
      ],
      "execution_count": 0,
      "outputs": []
    },
    {
      "cell_type": "code",
      "metadata": {
        "id": "t16X808VOmjs",
        "colab_type": "code",
        "outputId": "1752009c-a162-453f-9aa7-7acf9e8e1c2e",
        "colab": {
          "base_uri": "https://localhost:8080/",
          "height": 69
        }
      },
      "source": [
        "initial_theta\n"
      ],
      "execution_count": 596,
      "outputs": [
        {
          "output_type": "execute_result",
          "data": {
            "text/plain": [
              "array([[0.],\n",
              "       [0.],\n",
              "       [0.]])"
            ]
          },
          "metadata": {
            "tags": []
          },
          "execution_count": 596
        }
      ]
    },
    {
      "cell_type": "code",
      "metadata": {
        "id": "gXeauB8kEstT",
        "colab_type": "code",
        "colab": {}
      },
      "source": [
        "#write own sigmoid function for returning the sigmoid value\n",
        "def sigmoid(z):\n",
        "  #math.exp does not support array\n",
        "  #sigmoid_value = 1/(1+math.exp(-z))\n",
        "\n",
        "  #a slightly better implementation\n",
        "  #sigmoid_value = logistic.cdf()\n",
        "\n",
        "  #faster implementation\n",
        "  #return expit(z)\n",
        "\n",
        "  #best implementation for array:\n",
        "  sigmoid_value = 1/(1+np.exp(-z))\n",
        "  return sigmoid_value\n",
        "\n",
        "\n",
        "#testing sigmoid=>1 for large positive, 0 for large negative\n",
        "#print(sigmoid(np.array([90,95,-100])))\n",
        "\n",
        "\n",
        "#let's write a cost function\n",
        "def cost_function(theta,X,y):\n",
        "  #print(\"type of X=\",type(X))\n",
        "  #print(\"type of y=\",type(y))\n",
        "  #print(\"type of theta=\",type(theta))  \n",
        "  m=X.shape[0]  \n",
        "\n",
        "  #converting panda Series to numpy array. note that 'values' is an attribute of panda Series object.\n",
        "  y=np.reshape(y.values,(m,1))\n",
        "\n",
        "  #print(\"Cost shape X=\",np.shape(X))\n",
        "  #print(\"Cost shape y=\",np.shape(y))\n",
        "  #print(\"Cost shape theta=\",np.shape(theta))\n",
        "\n",
        "  \n",
        "  \n",
        "  J = (1/m)*(np.dot( (-(np.transpose(y))),np.log(sigmoid(np.dot(X,theta))) ) -  np.dot(np.transpose(1-y),np.log(1-sigmoid(np.dot(X,theta)))) ) \n",
        "  #since J is a matrix with only one element, we return the scalar as - np.sum(J)\n",
        "  return np.sum(J)\n",
        "\n",
        "\n",
        "  #the gradient function\n",
        "def get_gradient(theta,X,y):    \n",
        "    \n",
        "    theta = np.matrix(theta)\n",
        "    #theta = np.reshape(theta.values,(3,1))\n",
        "    #theta.shape = (1, 3)\n",
        "\n",
        "    #parameters = int(theta.ravel().shape[1])\n",
        "    grad = np.zeros((n+1,1))\n",
        "    \n",
        "    \n",
        "    '''\n",
        "    below we converted y (a panda Series) to y.values (a numpy array). But this array had shape of (m,) . \n",
        "    so we reshaped so that the shape becomes (m,1)'''\n",
        "    y=np.reshape(y.values,(m,1))\n",
        "\n",
        "    #print(\"Grad shape X=\",np.shape(X))\n",
        "    #print(\"Grad shape y=\",np.shape(y))\n",
        "    #print(\"Grad shape theta Before=\",np.shape(theta))\n",
        "\n",
        "    #this transpose is done for the scipy optimization function to work properly\n",
        "    if theta.shape[1] == n+1:\n",
        "      theta = np.transpose(theta)\n",
        "       \n",
        "    #grad = (1/m) * (     np.dot( X.T,np.subtract(sigmoid( np.dot(X,theta)),np.reshape(y.values,(m,1)))   )      )\n",
        "    grad = (1/m) * (     np.dot( np.transpose(X),np.subtract(sigmoid( np.dot(X,theta)),y)   )      )\n",
        "    \n",
        "    #print(\"Grad shape theta After=\",np.shape(theta))\n",
        "    #print(\"Grad Type theta After=\",type(theta))\n",
        "    return grad\n",
        "\n",
        "  "
      ],
      "execution_count": 0,
      "outputs": []
    },
    {
      "cell_type": "code",
      "metadata": {
        "id": "_ioX5QXZ4ULM",
        "colab_type": "code",
        "outputId": "15190fc9-5603-4038-f45b-fc81d1f91ea8",
        "colab": {
          "base_uri": "https://localhost:8080/",
          "height": 121
        }
      },
      "source": [
        "#\n",
        "#let's display the initial cost and initial gradient\n",
        "cost = cost_function(initial_theta,X,y)\n",
        "print(\"initial cost no formatting\",cost)\n",
        "print(\"initial cost is %0.3f \"%(cost))\n",
        "grad = get_gradient(initial_theta,X,y)\n",
        "print(\"initial grads are\",grad)\n",
        "print(\"Grad Type=\",type(grad))\n",
        "\n"
      ],
      "execution_count": 598,
      "outputs": [
        {
          "output_type": "stream",
          "text": [
            "initial cost no formatting 0.6931471805599453\n",
            "initial cost is 0.693 \n",
            "initial grads are [[ -0.1       ]\n",
            " [-12.00921659]\n",
            " [-11.26284221]]\n",
            "Grad Type= <class 'numpy.matrix'>\n"
          ],
          "name": "stdout"
        }
      ]
    },
    {
      "cell_type": "code",
      "metadata": {
        "id": "dScR3IfP1Hx9",
        "colab_type": "code",
        "colab": {}
      },
      "source": [
        "#test once more with predefined theta values\n",
        "test_theta = np.array([[-24],[0.2],[0.2]])"
      ],
      "execution_count": 0,
      "outputs": []
    },
    {
      "cell_type": "code",
      "metadata": {
        "id": "3lWKpfRuAInR",
        "colab_type": "code",
        "outputId": "9539b65f-1430-4885-9acb-07e70c0c133e",
        "colab": {
          "base_uri": "https://localhost:8080/",
          "height": 69
        }
      },
      "source": [
        "test_theta"
      ],
      "execution_count": 600,
      "outputs": [
        {
          "output_type": "execute_result",
          "data": {
            "text/plain": [
              "array([[-24. ],\n",
              "       [  0.2],\n",
              "       [  0.2]])"
            ]
          },
          "metadata": {
            "tags": []
          },
          "execution_count": 600
        }
      ]
    },
    {
      "cell_type": "code",
      "metadata": {
        "id": "DL0suukoAKX8",
        "colab_type": "code",
        "outputId": "83ae68da-f4dd-46a0-d510-6143949e6db3",
        "colab": {
          "base_uri": "https://localhost:8080/",
          "height": 104
        }
      },
      "source": [
        "cost = cost_function(test_theta,X,y)\n",
        "print(\"test cost is %0.3f \"%(cost))\n",
        "grad = get_gradient(test_theta,X,y)\n",
        "print(\"test grads are\",grad)\n",
        "print(\"Grad Type=\",type(grad))"
      ],
      "execution_count": 601,
      "outputs": [
        {
          "output_type": "stream",
          "text": [
            "test cost is 0.218 \n",
            "test grads are [[0.04290299]\n",
            " [2.56623412]\n",
            " [2.64679737]]\n",
            "Grad Type= <class 'numpy.matrix'>\n"
          ],
          "name": "stdout"
        }
      ]
    },
    {
      "cell_type": "code",
      "metadata": {
        "id": "k5lG7koGAYtU",
        "colab_type": "code",
        "colab": {}
      },
      "source": [
        "#optimized_theta = fmin_bfgs(cost_function,x0=initial_theta,fprime=get_gradient,args=(X,y))\n",
        "result = fmin_tnc(func=cost_function, x0=initial_theta, fprime=get_gradient, args=(X, y))\n",
        "optimized_theta = result[0]\n",
        "\n"
      ],
      "execution_count": 0,
      "outputs": []
    },
    {
      "cell_type": "code",
      "metadata": {
        "id": "N6dzo2SWHBzR",
        "colab_type": "code",
        "colab": {
          "base_uri": "https://localhost:8080/",
          "height": 52
        },
        "outputId": "24376fd2-9107-451d-bea2-2d42dffbbae3"
      },
      "source": [
        "optimum_cost = cost_function(result[0], X, y)\n",
        "\n",
        "print(\"optimum cost = \",optimum_cost)\n",
        "print(\"optimum theta = \",optimized_theta)\n"
      ],
      "execution_count": 604,
      "outputs": [
        {
          "output_type": "stream",
          "text": [
            "optimum cost =  0.20349770158947436\n",
            "optimum theta =  [-25.16131865   0.20623159   0.20147149]\n"
          ],
          "name": "stdout"
        }
      ]
    },
    {
      "cell_type": "code",
      "metadata": {
        "id": "nrZbE5ycKPrV",
        "colab_type": "code",
        "colab": {}
      },
      "source": [
        "#let's write a prediction function which will use the optimized_theta and the training set to predict\n",
        "def predict():\n",
        "  threshold=0.5\n",
        "  p=np.zeros((m,1))\n",
        "  p=sigmoid(X.dot(optimized_theta))\n",
        "  return p>=threshold"
      ],
      "execution_count": 0,
      "outputs": []
    },
    {
      "cell_type": "code",
      "metadata": {
        "id": "L_8LyG0pLkFm",
        "colab_type": "code",
        "colab": {}
      },
      "source": [
        "p=predict()\n"
      ],
      "execution_count": 0,
      "outputs": []
    },
    {
      "cell_type": "code",
      "metadata": {
        "id": "j-MmtBzEL8bo",
        "colab_type": "code",
        "colab": {
          "base_uri": "https://localhost:8080/",
          "height": 35
        },
        "outputId": "b2def4d6-1fae-4d1e-e773-10c3696a327c"
      },
      "source": [
        "np.mean(p==y)"
      ],
      "execution_count": 609,
      "outputs": [
        {
          "output_type": "execute_result",
          "data": {
            "text/plain": [
              "0.89"
            ]
          },
          "metadata": {
            "tags": []
          },
          "execution_count": 609
        }
      ]
    },
    {
      "cell_type": "markdown",
      "metadata": {
        "id": "21fkHYtWMqYR",
        "colab_type": "text"
      },
      "source": [
        "89% accuracy of training set is what we found (Underfitting?? probably!!)"
      ]
    },
    {
      "cell_type": "code",
      "metadata": {
        "id": "_35Xwuq7MQbY",
        "colab_type": "code",
        "colab": {}
      },
      "source": [
        ""
      ],
      "execution_count": 0,
      "outputs": []
    }
  ]
}
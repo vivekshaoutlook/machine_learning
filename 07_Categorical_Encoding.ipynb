{
  "nbformat": 4,
  "nbformat_minor": 0,
  "metadata": {
    "colab": {
      "name": "07_Categorical Encoding.ipynb",
      "provenance": [],
      "collapsed_sections": [],
      "authorship_tag": "ABX9TyNfjQho+OVDcjFdrsKWhV+6",
      "include_colab_link": true
    },
    "kernelspec": {
      "name": "python3",
      "display_name": "Python 3"
    }
  },
  "cells": [
    {
      "cell_type": "markdown",
      "metadata": {
        "id": "view-in-github",
        "colab_type": "text"
      },
      "source": [
        "<a href=\"https://colab.research.google.com/github/vivekshaoutlook/machine_learning/blob/master/07_Categorical_Encoding.ipynb\" target=\"_parent\"><img src=\"https://colab.research.google.com/assets/colab-badge.svg\" alt=\"Open In Colab\"/></a>"
      ]
    },
    {
      "cell_type": "code",
      "metadata": {
        "id": "E9LBcCQY9LZ-",
        "colab_type": "code",
        "colab": {}
      },
      "source": [
        "import pandas as pd\n",
        "import numpy as np\n",
        "from sklearn.preprocessing import OneHotEncoder,LabelEncoder,OrdinalEncoder"
      ],
      "execution_count": 0,
      "outputs": []
    },
    {
      "cell_type": "code",
      "metadata": {
        "id": "gOnXHrJq9fK-",
        "colab_type": "code",
        "colab": {}
      },
      "source": [
        "dataframe = pd.DataFrame({\"Age\":[20,21,22,23,23,45,43,48,50,60],\n",
        "                         \"Fav_Color\":[\"RED\",\"BLUE\",\"BLUE\",\"GREEEN\",\"YELLOW\",\"GREEEN\",\"RED\",\"BLUE\",\"YELLOW\",\"RED\"],\n",
        "                         \"IQ_Level\":[\"EXCELLENT\",\"AVERAGE\",\"AVERAGE\",\"GOOD\",\"VERY GOOD\",\"EXCELLENT\",\"AVERAGE\",\"AVERAGE\",\"GOOD\",\"VERY GOOD\"]}\n",
        "                         )\n"
      ],
      "execution_count": 0,
      "outputs": []
    },
    {
      "cell_type": "code",
      "metadata": {
        "id": "YCCjKPRW-vKX",
        "colab_type": "code",
        "outputId": "ecc87574-abfc-49a5-ad7c-1b2b9074af55",
        "colab": {
          "base_uri": "https://localhost:8080/",
          "height": 359
        }
      },
      "source": [
        "dataframe"
      ],
      "execution_count": 0,
      "outputs": [
        {
          "output_type": "execute_result",
          "data": {
            "text/html": [
              "<div>\n",
              "<style scoped>\n",
              "    .dataframe tbody tr th:only-of-type {\n",
              "        vertical-align: middle;\n",
              "    }\n",
              "\n",
              "    .dataframe tbody tr th {\n",
              "        vertical-align: top;\n",
              "    }\n",
              "\n",
              "    .dataframe thead th {\n",
              "        text-align: right;\n",
              "    }\n",
              "</style>\n",
              "<table border=\"1\" class=\"dataframe\">\n",
              "  <thead>\n",
              "    <tr style=\"text-align: right;\">\n",
              "      <th></th>\n",
              "      <th>Age</th>\n",
              "      <th>Fav_Color</th>\n",
              "      <th>IQ_Level</th>\n",
              "    </tr>\n",
              "  </thead>\n",
              "  <tbody>\n",
              "    <tr>\n",
              "      <th>0</th>\n",
              "      <td>20</td>\n",
              "      <td>RED</td>\n",
              "      <td>EXCELLENT</td>\n",
              "    </tr>\n",
              "    <tr>\n",
              "      <th>1</th>\n",
              "      <td>21</td>\n",
              "      <td>BLUE</td>\n",
              "      <td>AVERAGE</td>\n",
              "    </tr>\n",
              "    <tr>\n",
              "      <th>2</th>\n",
              "      <td>22</td>\n",
              "      <td>BLUE</td>\n",
              "      <td>AVERAGE</td>\n",
              "    </tr>\n",
              "    <tr>\n",
              "      <th>3</th>\n",
              "      <td>23</td>\n",
              "      <td>GREEEN</td>\n",
              "      <td>GOOD</td>\n",
              "    </tr>\n",
              "    <tr>\n",
              "      <th>4</th>\n",
              "      <td>23</td>\n",
              "      <td>YELLOW</td>\n",
              "      <td>VERY GOOD</td>\n",
              "    </tr>\n",
              "    <tr>\n",
              "      <th>5</th>\n",
              "      <td>45</td>\n",
              "      <td>GREEEN</td>\n",
              "      <td>EXCELLENT</td>\n",
              "    </tr>\n",
              "    <tr>\n",
              "      <th>6</th>\n",
              "      <td>43</td>\n",
              "      <td>RED</td>\n",
              "      <td>AVERAGE</td>\n",
              "    </tr>\n",
              "    <tr>\n",
              "      <th>7</th>\n",
              "      <td>48</td>\n",
              "      <td>BLUE</td>\n",
              "      <td>AVERAGE</td>\n",
              "    </tr>\n",
              "    <tr>\n",
              "      <th>8</th>\n",
              "      <td>50</td>\n",
              "      <td>YELLOW</td>\n",
              "      <td>GOOD</td>\n",
              "    </tr>\n",
              "    <tr>\n",
              "      <th>9</th>\n",
              "      <td>60</td>\n",
              "      <td>RED</td>\n",
              "      <td>VERY GOOD</td>\n",
              "    </tr>\n",
              "  </tbody>\n",
              "</table>\n",
              "</div>"
            ],
            "text/plain": [
              "   Age Fav_Color   IQ_Level\n",
              "0   20       RED  EXCELLENT\n",
              "1   21      BLUE    AVERAGE\n",
              "2   22      BLUE    AVERAGE\n",
              "3   23    GREEEN       GOOD\n",
              "4   23    YELLOW  VERY GOOD\n",
              "5   45    GREEEN  EXCELLENT\n",
              "6   43       RED    AVERAGE\n",
              "7   48      BLUE    AVERAGE\n",
              "8   50    YELLOW       GOOD\n",
              "9   60       RED  VERY GOOD"
            ]
          },
          "metadata": {
            "tags": []
          },
          "execution_count": 3
        }
      ]
    },
    {
      "cell_type": "code",
      "metadata": {
        "id": "016BT6Ih-wvC",
        "colab_type": "code",
        "outputId": "c6808ecb-f3d0-409f-a64a-0d2bab089b8b",
        "colab": {
          "base_uri": "https://localhost:8080/",
          "height": 153
        }
      },
      "source": [
        "dataframe.info()"
      ],
      "execution_count": 0,
      "outputs": [
        {
          "output_type": "stream",
          "text": [
            "<class 'pandas.core.frame.DataFrame'>\n",
            "RangeIndex: 10 entries, 0 to 9\n",
            "Data columns (total 3 columns):\n",
            "Age          10 non-null int64\n",
            "Fav_Color    10 non-null object\n",
            "IQ_Level     10 non-null object\n",
            "dtypes: int64(1), object(2)\n",
            "memory usage: 368.0+ bytes\n"
          ],
          "name": "stdout"
        }
      ]
    },
    {
      "cell_type": "markdown",
      "metadata": {
        "id": "1RABHqJm_L-S",
        "colab_type": "text"
      },
      "source": [
        "As we can see above, there are two object type columns - \"FavColor\" and \"IQLevel\".Closer (actually a quick) examination tells us that IQLevel values can be comapred among themselves: AVERAGE<GOOD<VERY GOOD<EXCELLENT.So FavColor is Ordinal.('O' for order among values and 'O' for Ordinal, that's how i remember it)\n",
        "\n",
        "\n",
        "\n"
      ]
    },
    {
      "cell_type": "code",
      "metadata": {
        "id": "X9l0pgR-_F7R",
        "colab_type": "code",
        "colab": {}
      },
      "source": [
        "\n",
        "dataframe_onehot_pd = pd.get_dummies(prefix=[\"Fav_Color\"],columns=[\"Fav_Color\"],data=dataframe)"
      ],
      "execution_count": 0,
      "outputs": []
    },
    {
      "cell_type": "markdown",
      "metadata": {
        "id": "yaj2yDttZyal",
        "colab_type": "text"
      },
      "source": [
        "# SECTION1:ONE HOT ENCODING\n",
        "\n"
      ]
    },
    {
      "cell_type": "markdown",
      "metadata": {
        "id": "-IokOY10BVjH",
        "colab_type": "text"
      },
      "source": [
        "Note that the original column-\"**FavColor**\"-on which we applied One Hot has not been included in the new dataframe that was created during One Hot Encoding - **dataframe_onehot**. In case we are interested in retaining that column in dataframe_onehot, we need to specifically do that"
      ]
    },
    {
      "cell_type": "code",
      "metadata": {
        "id": "OILAEaLbBQx1",
        "colab_type": "code",
        "colab": {}
      },
      "source": [
        "dataframe_onehot_pd[\"Fav_Color\"] = dataframe[\"Fav_Color\"]"
      ],
      "execution_count": 0,
      "outputs": []
    },
    {
      "cell_type": "code",
      "metadata": {
        "id": "5KUj5hCdDHzX",
        "colab_type": "code",
        "outputId": "5809b0bb-bcc8-4820-c644-b029af4fcc53",
        "colab": {
          "base_uri": "https://localhost:8080/",
          "height": 359
        }
      },
      "source": [
        "dataframe_onehot_pd"
      ],
      "execution_count": 0,
      "outputs": [
        {
          "output_type": "execute_result",
          "data": {
            "text/html": [
              "<div>\n",
              "<style scoped>\n",
              "    .dataframe tbody tr th:only-of-type {\n",
              "        vertical-align: middle;\n",
              "    }\n",
              "\n",
              "    .dataframe tbody tr th {\n",
              "        vertical-align: top;\n",
              "    }\n",
              "\n",
              "    .dataframe thead th {\n",
              "        text-align: right;\n",
              "    }\n",
              "</style>\n",
              "<table border=\"1\" class=\"dataframe\">\n",
              "  <thead>\n",
              "    <tr style=\"text-align: right;\">\n",
              "      <th></th>\n",
              "      <th>Age</th>\n",
              "      <th>IQ_Level</th>\n",
              "      <th>Fav_Color_BLUE</th>\n",
              "      <th>Fav_Color_GREEEN</th>\n",
              "      <th>Fav_Color_RED</th>\n",
              "      <th>Fav_Color_YELLOW</th>\n",
              "      <th>Fav_Color</th>\n",
              "    </tr>\n",
              "  </thead>\n",
              "  <tbody>\n",
              "    <tr>\n",
              "      <th>0</th>\n",
              "      <td>20</td>\n",
              "      <td>EXCELLENT</td>\n",
              "      <td>0</td>\n",
              "      <td>0</td>\n",
              "      <td>1</td>\n",
              "      <td>0</td>\n",
              "      <td>RED</td>\n",
              "    </tr>\n",
              "    <tr>\n",
              "      <th>1</th>\n",
              "      <td>21</td>\n",
              "      <td>AVERAGE</td>\n",
              "      <td>1</td>\n",
              "      <td>0</td>\n",
              "      <td>0</td>\n",
              "      <td>0</td>\n",
              "      <td>BLUE</td>\n",
              "    </tr>\n",
              "    <tr>\n",
              "      <th>2</th>\n",
              "      <td>22</td>\n",
              "      <td>AVERAGE</td>\n",
              "      <td>1</td>\n",
              "      <td>0</td>\n",
              "      <td>0</td>\n",
              "      <td>0</td>\n",
              "      <td>BLUE</td>\n",
              "    </tr>\n",
              "    <tr>\n",
              "      <th>3</th>\n",
              "      <td>23</td>\n",
              "      <td>GOOD</td>\n",
              "      <td>0</td>\n",
              "      <td>1</td>\n",
              "      <td>0</td>\n",
              "      <td>0</td>\n",
              "      <td>GREEEN</td>\n",
              "    </tr>\n",
              "    <tr>\n",
              "      <th>4</th>\n",
              "      <td>23</td>\n",
              "      <td>VERY GOOD</td>\n",
              "      <td>0</td>\n",
              "      <td>0</td>\n",
              "      <td>0</td>\n",
              "      <td>1</td>\n",
              "      <td>YELLOW</td>\n",
              "    </tr>\n",
              "    <tr>\n",
              "      <th>5</th>\n",
              "      <td>45</td>\n",
              "      <td>EXCELLENT</td>\n",
              "      <td>0</td>\n",
              "      <td>1</td>\n",
              "      <td>0</td>\n",
              "      <td>0</td>\n",
              "      <td>GREEEN</td>\n",
              "    </tr>\n",
              "    <tr>\n",
              "      <th>6</th>\n",
              "      <td>43</td>\n",
              "      <td>AVERAGE</td>\n",
              "      <td>0</td>\n",
              "      <td>0</td>\n",
              "      <td>1</td>\n",
              "      <td>0</td>\n",
              "      <td>RED</td>\n",
              "    </tr>\n",
              "    <tr>\n",
              "      <th>7</th>\n",
              "      <td>48</td>\n",
              "      <td>AVERAGE</td>\n",
              "      <td>1</td>\n",
              "      <td>0</td>\n",
              "      <td>0</td>\n",
              "      <td>0</td>\n",
              "      <td>BLUE</td>\n",
              "    </tr>\n",
              "    <tr>\n",
              "      <th>8</th>\n",
              "      <td>50</td>\n",
              "      <td>GOOD</td>\n",
              "      <td>0</td>\n",
              "      <td>0</td>\n",
              "      <td>0</td>\n",
              "      <td>1</td>\n",
              "      <td>YELLOW</td>\n",
              "    </tr>\n",
              "    <tr>\n",
              "      <th>9</th>\n",
              "      <td>60</td>\n",
              "      <td>VERY GOOD</td>\n",
              "      <td>0</td>\n",
              "      <td>0</td>\n",
              "      <td>1</td>\n",
              "      <td>0</td>\n",
              "      <td>RED</td>\n",
              "    </tr>\n",
              "  </tbody>\n",
              "</table>\n",
              "</div>"
            ],
            "text/plain": [
              "   Age   IQ_Level  Fav_Color_BLUE  ...  Fav_Color_RED  Fav_Color_YELLOW  Fav_Color\n",
              "0   20  EXCELLENT               0  ...              1                 0        RED\n",
              "1   21    AVERAGE               1  ...              0                 0       BLUE\n",
              "2   22    AVERAGE               1  ...              0                 0       BLUE\n",
              "3   23       GOOD               0  ...              0                 0     GREEEN\n",
              "4   23  VERY GOOD               0  ...              0                 1     YELLOW\n",
              "5   45  EXCELLENT               0  ...              0                 0     GREEEN\n",
              "6   43    AVERAGE               0  ...              1                 0        RED\n",
              "7   48    AVERAGE               1  ...              0                 0       BLUE\n",
              "8   50       GOOD               0  ...              0                 1     YELLOW\n",
              "9   60  VERY GOOD               0  ...              1                 0        RED\n",
              "\n",
              "[10 rows x 7 columns]"
            ]
          },
          "metadata": {
            "tags": []
          },
          "execution_count": 7
        }
      ]
    },
    {
      "cell_type": "markdown",
      "metadata": {
        "id": "_H7bY2cdEYrV",
        "colab_type": "text"
      },
      "source": [
        "OneHot Encoding using Scikit-Learn"
      ]
    },
    {
      "cell_type": "code",
      "metadata": {
        "id": "z_zELKayDJCe",
        "colab_type": "code",
        "colab": {}
      },
      "source": [
        "oh_instance = OneHotEncoder()\n",
        "#fit_transform expects a 2d-array. \".values\" converts the panda Series to an 1-d array.\".reshape\" converts it into 2d array with 1 column.So now\n",
        "#that we have 2d array, the fit_transform is applied on it and we get a \"sparse matrix\" which consumes less memory.\n",
        "#However, we need to convert this sparse matrix to a dense 2d numpy array by calling \"toarray()\"\n",
        "one_hot = oh_instance.fit_transform(dataframe[\"Fav_Color\"].values.reshape(-1,1)).toarray()\n",
        "#we got a 2d array but the column header is still missing. we can get the column header from: oh_instance.categories_.\n",
        "#oh_instance.categories_ returns a list with only one element which is an array of number of categories (i.e.RED,GREEN,BLUE,YELLOW,GREEN) .\n",
        "#oh_instance.categories_[0] returns this whole array and oh_instance.categories_[0][i] accesses each element of this array so that column headers\n",
        "#can be created\n",
        "dataframe_onehot_sk = pd.DataFrame(one_hot,columns=[\"Fav_Color_\"+str(oh_instance.categories_[0][i]) for i in range(len(oh_instance.categories_[0]))])\n",
        "#dataframe_onehot_sk only has the new columns created during one hot encoding. Normally we want these columns to be added back to the original\n",
        "#dataframe. (however, here i am doing the opposite (i.e. adding original dataframe columns to dataframe_onehot_sk) since I need dataframe in its original form for showing other encoding techniques)\n",
        "dataframe_onehot_sk = pd.concat([dataframe,dataframe_onehot_sk],axis=1)"
      ],
      "execution_count": 0,
      "outputs": []
    },
    {
      "cell_type": "code",
      "metadata": {
        "id": "DELWYHbkFDIm",
        "colab_type": "code",
        "outputId": "35892ac0-bea1-4318-fcdd-a2115365971e",
        "colab": {
          "base_uri": "https://localhost:8080/",
          "height": 359
        }
      },
      "source": [
        "dataframe_onehot_sk"
      ],
      "execution_count": 0,
      "outputs": [
        {
          "output_type": "execute_result",
          "data": {
            "text/html": [
              "<div>\n",
              "<style scoped>\n",
              "    .dataframe tbody tr th:only-of-type {\n",
              "        vertical-align: middle;\n",
              "    }\n",
              "\n",
              "    .dataframe tbody tr th {\n",
              "        vertical-align: top;\n",
              "    }\n",
              "\n",
              "    .dataframe thead th {\n",
              "        text-align: right;\n",
              "    }\n",
              "</style>\n",
              "<table border=\"1\" class=\"dataframe\">\n",
              "  <thead>\n",
              "    <tr style=\"text-align: right;\">\n",
              "      <th></th>\n",
              "      <th>Age</th>\n",
              "      <th>Fav_Color</th>\n",
              "      <th>IQ_Level</th>\n",
              "      <th>Fav_Color_BLUE</th>\n",
              "      <th>Fav_Color_GREEEN</th>\n",
              "      <th>Fav_Color_RED</th>\n",
              "      <th>Fav_Color_YELLOW</th>\n",
              "    </tr>\n",
              "  </thead>\n",
              "  <tbody>\n",
              "    <tr>\n",
              "      <th>0</th>\n",
              "      <td>20</td>\n",
              "      <td>RED</td>\n",
              "      <td>EXCELLENT</td>\n",
              "      <td>0.0</td>\n",
              "      <td>0.0</td>\n",
              "      <td>1.0</td>\n",
              "      <td>0.0</td>\n",
              "    </tr>\n",
              "    <tr>\n",
              "      <th>1</th>\n",
              "      <td>21</td>\n",
              "      <td>BLUE</td>\n",
              "      <td>AVERAGE</td>\n",
              "      <td>1.0</td>\n",
              "      <td>0.0</td>\n",
              "      <td>0.0</td>\n",
              "      <td>0.0</td>\n",
              "    </tr>\n",
              "    <tr>\n",
              "      <th>2</th>\n",
              "      <td>22</td>\n",
              "      <td>BLUE</td>\n",
              "      <td>AVERAGE</td>\n",
              "      <td>1.0</td>\n",
              "      <td>0.0</td>\n",
              "      <td>0.0</td>\n",
              "      <td>0.0</td>\n",
              "    </tr>\n",
              "    <tr>\n",
              "      <th>3</th>\n",
              "      <td>23</td>\n",
              "      <td>GREEEN</td>\n",
              "      <td>GOOD</td>\n",
              "      <td>0.0</td>\n",
              "      <td>1.0</td>\n",
              "      <td>0.0</td>\n",
              "      <td>0.0</td>\n",
              "    </tr>\n",
              "    <tr>\n",
              "      <th>4</th>\n",
              "      <td>23</td>\n",
              "      <td>YELLOW</td>\n",
              "      <td>VERY GOOD</td>\n",
              "      <td>0.0</td>\n",
              "      <td>0.0</td>\n",
              "      <td>0.0</td>\n",
              "      <td>1.0</td>\n",
              "    </tr>\n",
              "    <tr>\n",
              "      <th>5</th>\n",
              "      <td>45</td>\n",
              "      <td>GREEEN</td>\n",
              "      <td>EXCELLENT</td>\n",
              "      <td>0.0</td>\n",
              "      <td>1.0</td>\n",
              "      <td>0.0</td>\n",
              "      <td>0.0</td>\n",
              "    </tr>\n",
              "    <tr>\n",
              "      <th>6</th>\n",
              "      <td>43</td>\n",
              "      <td>RED</td>\n",
              "      <td>AVERAGE</td>\n",
              "      <td>0.0</td>\n",
              "      <td>0.0</td>\n",
              "      <td>1.0</td>\n",
              "      <td>0.0</td>\n",
              "    </tr>\n",
              "    <tr>\n",
              "      <th>7</th>\n",
              "      <td>48</td>\n",
              "      <td>BLUE</td>\n",
              "      <td>AVERAGE</td>\n",
              "      <td>1.0</td>\n",
              "      <td>0.0</td>\n",
              "      <td>0.0</td>\n",
              "      <td>0.0</td>\n",
              "    </tr>\n",
              "    <tr>\n",
              "      <th>8</th>\n",
              "      <td>50</td>\n",
              "      <td>YELLOW</td>\n",
              "      <td>GOOD</td>\n",
              "      <td>0.0</td>\n",
              "      <td>0.0</td>\n",
              "      <td>0.0</td>\n",
              "      <td>1.0</td>\n",
              "    </tr>\n",
              "    <tr>\n",
              "      <th>9</th>\n",
              "      <td>60</td>\n",
              "      <td>RED</td>\n",
              "      <td>VERY GOOD</td>\n",
              "      <td>0.0</td>\n",
              "      <td>0.0</td>\n",
              "      <td>1.0</td>\n",
              "      <td>0.0</td>\n",
              "    </tr>\n",
              "  </tbody>\n",
              "</table>\n",
              "</div>"
            ],
            "text/plain": [
              "   Age Fav_Color   IQ_Level  ...  Fav_Color_GREEEN  Fav_Color_RED  Fav_Color_YELLOW\n",
              "0   20       RED  EXCELLENT  ...               0.0            1.0               0.0\n",
              "1   21      BLUE    AVERAGE  ...               0.0            0.0               0.0\n",
              "2   22      BLUE    AVERAGE  ...               0.0            0.0               0.0\n",
              "3   23    GREEEN       GOOD  ...               1.0            0.0               0.0\n",
              "4   23    YELLOW  VERY GOOD  ...               0.0            0.0               1.0\n",
              "5   45    GREEEN  EXCELLENT  ...               1.0            0.0               0.0\n",
              "6   43       RED    AVERAGE  ...               0.0            1.0               0.0\n",
              "7   48      BLUE    AVERAGE  ...               0.0            0.0               0.0\n",
              "8   50    YELLOW       GOOD  ...               0.0            0.0               1.0\n",
              "9   60       RED  VERY GOOD  ...               0.0            1.0               0.0\n",
              "\n",
              "[10 rows x 7 columns]"
            ]
          },
          "metadata": {
            "tags": []
          },
          "execution_count": 9
        }
      ]
    },
    {
      "cell_type": "code",
      "metadata": {
        "id": "hlHQ33EiFkqA",
        "colab_type": "code",
        "outputId": "f9dd9ca9-cadf-4f72-c15f-622b3c86b8c1",
        "colab": {
          "base_uri": "https://localhost:8080/",
          "height": 34
        }
      },
      "source": [
        "print(oh_instance.categories_[0].shape)"
      ],
      "execution_count": 0,
      "outputs": [
        {
          "output_type": "stream",
          "text": [
            "(4,)\n"
          ],
          "name": "stdout"
        }
      ]
    },
    {
      "cell_type": "code",
      "metadata": {
        "id": "3IDH2AjAGHsA",
        "colab_type": "code",
        "colab": {}
      },
      "source": [
        ""
      ],
      "execution_count": 0,
      "outputs": []
    },
    {
      "cell_type": "markdown",
      "metadata": {
        "id": "0y7ORm_FlMo4",
        "colab_type": "text"
      },
      "source": [
        "# SECTION2:LABEL ENCODING "
      ]
    },
    {
      "cell_type": "code",
      "metadata": {
        "id": "nYHqanAolQFJ",
        "colab_type": "code",
        "outputId": "8eb6a1b9-9162-4244-e037-2ecb9cbfe6d0",
        "colab": {
          "base_uri": "https://localhost:8080/",
          "height": 359
        }
      },
      "source": [
        "#returns a normal 1d numpy array\n",
        "dataframe_labelenc_array = LabelEncoder().fit_transform(dataframe[\"IQ_Level\"])\n",
        "#Create a dataframe out of the array and add a column header\n",
        "dataframe_IQ_Level = pd.DataFrame(dataframe_labelenc_array,columns=[\"Label_Encoded\"])\n",
        "#add the above one-column Dataframe to the original \"dataframe\"\n",
        "dataframe_labelenc_sk = pd.concat([dataframe,dataframe_IQ_Level],axis=1)\n",
        "dataframe_labelenc_sk\n"
      ],
      "execution_count": 0,
      "outputs": [
        {
          "output_type": "execute_result",
          "data": {
            "text/html": [
              "<div>\n",
              "<style scoped>\n",
              "    .dataframe tbody tr th:only-of-type {\n",
              "        vertical-align: middle;\n",
              "    }\n",
              "\n",
              "    .dataframe tbody tr th {\n",
              "        vertical-align: top;\n",
              "    }\n",
              "\n",
              "    .dataframe thead th {\n",
              "        text-align: right;\n",
              "    }\n",
              "</style>\n",
              "<table border=\"1\" class=\"dataframe\">\n",
              "  <thead>\n",
              "    <tr style=\"text-align: right;\">\n",
              "      <th></th>\n",
              "      <th>Age</th>\n",
              "      <th>Fav_Color</th>\n",
              "      <th>IQ_Level</th>\n",
              "      <th>Label_Encoded</th>\n",
              "    </tr>\n",
              "  </thead>\n",
              "  <tbody>\n",
              "    <tr>\n",
              "      <th>0</th>\n",
              "      <td>20</td>\n",
              "      <td>RED</td>\n",
              "      <td>EXCELLENT</td>\n",
              "      <td>1</td>\n",
              "    </tr>\n",
              "    <tr>\n",
              "      <th>1</th>\n",
              "      <td>21</td>\n",
              "      <td>BLUE</td>\n",
              "      <td>AVERAGE</td>\n",
              "      <td>0</td>\n",
              "    </tr>\n",
              "    <tr>\n",
              "      <th>2</th>\n",
              "      <td>22</td>\n",
              "      <td>BLUE</td>\n",
              "      <td>AVERAGE</td>\n",
              "      <td>0</td>\n",
              "    </tr>\n",
              "    <tr>\n",
              "      <th>3</th>\n",
              "      <td>23</td>\n",
              "      <td>GREEEN</td>\n",
              "      <td>GOOD</td>\n",
              "      <td>2</td>\n",
              "    </tr>\n",
              "    <tr>\n",
              "      <th>4</th>\n",
              "      <td>23</td>\n",
              "      <td>YELLOW</td>\n",
              "      <td>VERY GOOD</td>\n",
              "      <td>3</td>\n",
              "    </tr>\n",
              "    <tr>\n",
              "      <th>5</th>\n",
              "      <td>45</td>\n",
              "      <td>GREEEN</td>\n",
              "      <td>EXCELLENT</td>\n",
              "      <td>1</td>\n",
              "    </tr>\n",
              "    <tr>\n",
              "      <th>6</th>\n",
              "      <td>43</td>\n",
              "      <td>RED</td>\n",
              "      <td>AVERAGE</td>\n",
              "      <td>0</td>\n",
              "    </tr>\n",
              "    <tr>\n",
              "      <th>7</th>\n",
              "      <td>48</td>\n",
              "      <td>BLUE</td>\n",
              "      <td>AVERAGE</td>\n",
              "      <td>0</td>\n",
              "    </tr>\n",
              "    <tr>\n",
              "      <th>8</th>\n",
              "      <td>50</td>\n",
              "      <td>YELLOW</td>\n",
              "      <td>GOOD</td>\n",
              "      <td>2</td>\n",
              "    </tr>\n",
              "    <tr>\n",
              "      <th>9</th>\n",
              "      <td>60</td>\n",
              "      <td>RED</td>\n",
              "      <td>VERY GOOD</td>\n",
              "      <td>3</td>\n",
              "    </tr>\n",
              "  </tbody>\n",
              "</table>\n",
              "</div>"
            ],
            "text/plain": [
              "   Age Fav_Color   IQ_Level  Label_Encoded\n",
              "0   20       RED  EXCELLENT              1\n",
              "1   21      BLUE    AVERAGE              0\n",
              "2   22      BLUE    AVERAGE              0\n",
              "3   23    GREEEN       GOOD              2\n",
              "4   23    YELLOW  VERY GOOD              3\n",
              "5   45    GREEEN  EXCELLENT              1\n",
              "6   43       RED    AVERAGE              0\n",
              "7   48      BLUE    AVERAGE              0\n",
              "8   50    YELLOW       GOOD              2\n",
              "9   60       RED  VERY GOOD              3"
            ]
          },
          "metadata": {
            "tags": []
          },
          "execution_count": 11
        }
      ]
    },
    {
      "cell_type": "code",
      "metadata": {
        "id": "u7tVfcjFl5Fp",
        "colab_type": "code",
        "outputId": "c5db2d86-3112-4d90-ac02-1f5efe2715fa",
        "colab": {
          "base_uri": "https://localhost:8080/",
          "height": 359
        }
      },
      "source": [
        "#returns a normal 1d numpy array\n",
        "dataframe_labelencoded_array = pd.factorize(dataframe[\"IQ_Level\"])[0]\n",
        "#Create a dataframe out of the array and add a column header\n",
        "dataframe_IQ_Lvl = pd.DataFrame(dataframe_labelencoded_array,columns=[\"Label_Encoded\"])\n",
        "#add the above one-column Dataframe to the original \"dataframe\"\n",
        "dataframe_labelenc_pd = pd.concat([dataframe,dataframe_IQ_Lvl],axis=1)\n",
        "dataframe_labelenc_pd"
      ],
      "execution_count": 0,
      "outputs": [
        {
          "output_type": "execute_result",
          "data": {
            "text/html": [
              "<div>\n",
              "<style scoped>\n",
              "    .dataframe tbody tr th:only-of-type {\n",
              "        vertical-align: middle;\n",
              "    }\n",
              "\n",
              "    .dataframe tbody tr th {\n",
              "        vertical-align: top;\n",
              "    }\n",
              "\n",
              "    .dataframe thead th {\n",
              "        text-align: right;\n",
              "    }\n",
              "</style>\n",
              "<table border=\"1\" class=\"dataframe\">\n",
              "  <thead>\n",
              "    <tr style=\"text-align: right;\">\n",
              "      <th></th>\n",
              "      <th>Age</th>\n",
              "      <th>Fav_Color</th>\n",
              "      <th>IQ_Level</th>\n",
              "      <th>Label_Encoded</th>\n",
              "    </tr>\n",
              "  </thead>\n",
              "  <tbody>\n",
              "    <tr>\n",
              "      <th>0</th>\n",
              "      <td>20</td>\n",
              "      <td>RED</td>\n",
              "      <td>EXCELLENT</td>\n",
              "      <td>0</td>\n",
              "    </tr>\n",
              "    <tr>\n",
              "      <th>1</th>\n",
              "      <td>21</td>\n",
              "      <td>BLUE</td>\n",
              "      <td>AVERAGE</td>\n",
              "      <td>1</td>\n",
              "    </tr>\n",
              "    <tr>\n",
              "      <th>2</th>\n",
              "      <td>22</td>\n",
              "      <td>BLUE</td>\n",
              "      <td>AVERAGE</td>\n",
              "      <td>1</td>\n",
              "    </tr>\n",
              "    <tr>\n",
              "      <th>3</th>\n",
              "      <td>23</td>\n",
              "      <td>GREEEN</td>\n",
              "      <td>GOOD</td>\n",
              "      <td>2</td>\n",
              "    </tr>\n",
              "    <tr>\n",
              "      <th>4</th>\n",
              "      <td>23</td>\n",
              "      <td>YELLOW</td>\n",
              "      <td>VERY GOOD</td>\n",
              "      <td>3</td>\n",
              "    </tr>\n",
              "    <tr>\n",
              "      <th>5</th>\n",
              "      <td>45</td>\n",
              "      <td>GREEEN</td>\n",
              "      <td>EXCELLENT</td>\n",
              "      <td>0</td>\n",
              "    </tr>\n",
              "    <tr>\n",
              "      <th>6</th>\n",
              "      <td>43</td>\n",
              "      <td>RED</td>\n",
              "      <td>AVERAGE</td>\n",
              "      <td>1</td>\n",
              "    </tr>\n",
              "    <tr>\n",
              "      <th>7</th>\n",
              "      <td>48</td>\n",
              "      <td>BLUE</td>\n",
              "      <td>AVERAGE</td>\n",
              "      <td>1</td>\n",
              "    </tr>\n",
              "    <tr>\n",
              "      <th>8</th>\n",
              "      <td>50</td>\n",
              "      <td>YELLOW</td>\n",
              "      <td>GOOD</td>\n",
              "      <td>2</td>\n",
              "    </tr>\n",
              "    <tr>\n",
              "      <th>9</th>\n",
              "      <td>60</td>\n",
              "      <td>RED</td>\n",
              "      <td>VERY GOOD</td>\n",
              "      <td>3</td>\n",
              "    </tr>\n",
              "  </tbody>\n",
              "</table>\n",
              "</div>"
            ],
            "text/plain": [
              "   Age Fav_Color   IQ_Level  Label_Encoded\n",
              "0   20       RED  EXCELLENT              0\n",
              "1   21      BLUE    AVERAGE              1\n",
              "2   22      BLUE    AVERAGE              1\n",
              "3   23    GREEEN       GOOD              2\n",
              "4   23    YELLOW  VERY GOOD              3\n",
              "5   45    GREEEN  EXCELLENT              0\n",
              "6   43       RED    AVERAGE              1\n",
              "7   48      BLUE    AVERAGE              1\n",
              "8   50    YELLOW       GOOD              2\n",
              "9   60       RED  VERY GOOD              3"
            ]
          },
          "metadata": {
            "tags": []
          },
          "execution_count": 12
        }
      ]
    },
    {
      "cell_type": "code",
      "metadata": {
        "id": "mq6Evyr5oeLD",
        "colab_type": "code",
        "colab": {}
      },
      "source": [
        ""
      ],
      "execution_count": 0,
      "outputs": []
    },
    {
      "cell_type": "markdown",
      "metadata": {
        "id": "rY0L2OhKpxiO",
        "colab_type": "text"
      },
      "source": [
        "# SECTION3:ORDINAL ENCODING "
      ]
    },
    {
      "cell_type": "code",
      "metadata": {
        "id": "fBUbpLhmp0qG",
        "colab_type": "code",
        "outputId": "6181620d-ad93-4f39-84a2-3dc73dc9d1ad",
        "colab": {
          "base_uri": "https://localhost:8080/",
          "height": 359
        }
      },
      "source": [
        "label_encode_mapping = {\"AVERAGE\":0,\"GOOD\":1,\"VERY GOOD\":2,\"EXCELLENT\":3}\n",
        "series_ordinalenc_pd = dataframe[\"IQ_Level\"].map(label_encode_mapping)\n",
        "#let's change the column header by creating a DataFrame from Series (otherwise the new ordinal encoded column will also have name as \"IQ_Level\")\n",
        "dataframe_ordinalenc_pd = pd.DataFrame(series_ordinalenc_pd.values,columns=[\"IQ_Level_ord_enc\"])\n",
        "dataframe_ordinalenc_pd = pd.concat([dataframe,dataframe_ordinalenc_pd],axis=1)\n",
        "dataframe_ordinalenc_pd\n"
      ],
      "execution_count": 0,
      "outputs": [
        {
          "output_type": "execute_result",
          "data": {
            "text/html": [
              "<div>\n",
              "<style scoped>\n",
              "    .dataframe tbody tr th:only-of-type {\n",
              "        vertical-align: middle;\n",
              "    }\n",
              "\n",
              "    .dataframe tbody tr th {\n",
              "        vertical-align: top;\n",
              "    }\n",
              "\n",
              "    .dataframe thead th {\n",
              "        text-align: right;\n",
              "    }\n",
              "</style>\n",
              "<table border=\"1\" class=\"dataframe\">\n",
              "  <thead>\n",
              "    <tr style=\"text-align: right;\">\n",
              "      <th></th>\n",
              "      <th>Age</th>\n",
              "      <th>Fav_Color</th>\n",
              "      <th>IQ_Level</th>\n",
              "      <th>IQ_Level_ord_enc</th>\n",
              "    </tr>\n",
              "  </thead>\n",
              "  <tbody>\n",
              "    <tr>\n",
              "      <th>0</th>\n",
              "      <td>20</td>\n",
              "      <td>RED</td>\n",
              "      <td>EXCELLENT</td>\n",
              "      <td>3</td>\n",
              "    </tr>\n",
              "    <tr>\n",
              "      <th>1</th>\n",
              "      <td>21</td>\n",
              "      <td>BLUE</td>\n",
              "      <td>AVERAGE</td>\n",
              "      <td>0</td>\n",
              "    </tr>\n",
              "    <tr>\n",
              "      <th>2</th>\n",
              "      <td>22</td>\n",
              "      <td>BLUE</td>\n",
              "      <td>AVERAGE</td>\n",
              "      <td>0</td>\n",
              "    </tr>\n",
              "    <tr>\n",
              "      <th>3</th>\n",
              "      <td>23</td>\n",
              "      <td>GREEEN</td>\n",
              "      <td>GOOD</td>\n",
              "      <td>1</td>\n",
              "    </tr>\n",
              "    <tr>\n",
              "      <th>4</th>\n",
              "      <td>23</td>\n",
              "      <td>YELLOW</td>\n",
              "      <td>VERY GOOD</td>\n",
              "      <td>2</td>\n",
              "    </tr>\n",
              "    <tr>\n",
              "      <th>5</th>\n",
              "      <td>45</td>\n",
              "      <td>GREEEN</td>\n",
              "      <td>EXCELLENT</td>\n",
              "      <td>3</td>\n",
              "    </tr>\n",
              "    <tr>\n",
              "      <th>6</th>\n",
              "      <td>43</td>\n",
              "      <td>RED</td>\n",
              "      <td>AVERAGE</td>\n",
              "      <td>0</td>\n",
              "    </tr>\n",
              "    <tr>\n",
              "      <th>7</th>\n",
              "      <td>48</td>\n",
              "      <td>BLUE</td>\n",
              "      <td>AVERAGE</td>\n",
              "      <td>0</td>\n",
              "    </tr>\n",
              "    <tr>\n",
              "      <th>8</th>\n",
              "      <td>50</td>\n",
              "      <td>YELLOW</td>\n",
              "      <td>GOOD</td>\n",
              "      <td>1</td>\n",
              "    </tr>\n",
              "    <tr>\n",
              "      <th>9</th>\n",
              "      <td>60</td>\n",
              "      <td>RED</td>\n",
              "      <td>VERY GOOD</td>\n",
              "      <td>2</td>\n",
              "    </tr>\n",
              "  </tbody>\n",
              "</table>\n",
              "</div>"
            ],
            "text/plain": [
              "   Age Fav_Color   IQ_Level  IQ_Level_ord_enc\n",
              "0   20       RED  EXCELLENT                 3\n",
              "1   21      BLUE    AVERAGE                 0\n",
              "2   22      BLUE    AVERAGE                 0\n",
              "3   23    GREEEN       GOOD                 1\n",
              "4   23    YELLOW  VERY GOOD                 2\n",
              "5   45    GREEEN  EXCELLENT                 3\n",
              "6   43       RED    AVERAGE                 0\n",
              "7   48      BLUE    AVERAGE                 0\n",
              "8   50    YELLOW       GOOD                 1\n",
              "9   60       RED  VERY GOOD                 2"
            ]
          },
          "metadata": {
            "tags": []
          },
          "execution_count": 13
        }
      ]
    },
    {
      "cell_type": "code",
      "metadata": {
        "id": "TutgS3HTrjN7",
        "colab_type": "code",
        "colab": {}
      },
      "source": [
        "#since fit_tranform() accepts a 2d array, we could have either done: dataframe[\"IQ_Level\"].values.reshape(-1,1) and then applied\n",
        "#toarray(), the way we did earlier, or we can do dataframe[[\"IQ_Level\"]] which is a DataFrame and hence is 2d.\n",
        "label_encoded = OrdinalEncoder().fit_transform(dataframe[[\"IQ_Level\"]])"
      ],
      "execution_count": 0,
      "outputs": []
    },
    {
      "cell_type": "code",
      "metadata": {
        "id": "_Vl4htgEr_5N",
        "colab_type": "code",
        "outputId": "1f77eea8-0269-4fac-b354-2add68feaffa",
        "colab": {
          "base_uri": "https://localhost:8080/",
          "height": 34
        }
      },
      "source": [
        "type(dataframe[[\"IQ_Level\"]])"
      ],
      "execution_count": 0,
      "outputs": [
        {
          "output_type": "execute_result",
          "data": {
            "text/plain": [
              "pandas.core.frame.DataFrame"
            ]
          },
          "metadata": {
            "tags": []
          },
          "execution_count": 19
        }
      ]
    },
    {
      "cell_type": "code",
      "metadata": {
        "id": "DL4Txq52v9T9",
        "colab_type": "code",
        "colab": {}
      },
      "source": [
        ""
      ],
      "execution_count": 0,
      "outputs": []
    }
  ]
}
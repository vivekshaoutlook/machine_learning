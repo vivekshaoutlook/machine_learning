{
  "nbformat": 4,
  "nbformat_minor": 0,
  "metadata": {
    "colab": {
      "name": "03_SVM on MNIST.ipynb",
      "provenance": [],
      "collapsed_sections": [],
      "authorship_tag": "ABX9TyP/dxA6e+VmulU1RFIYmuxv",
      "include_colab_link": true
    },
    "kernelspec": {
      "name": "python3",
      "display_name": "Python 3"
    }
  },
  "cells": [
    {
      "cell_type": "markdown",
      "metadata": {
        "id": "view-in-github",
        "colab_type": "text"
      },
      "source": [
        "<a href=\"https://colab.research.google.com/github/vivekshaoutlook/machine_learning/blob/master/03_SVM_on_MNIST.ipynb\" target=\"_parent\"><img src=\"https://colab.research.google.com/assets/colab-badge.svg\" alt=\"Open In Colab\"/></a>"
      ]
    },
    {
      "cell_type": "code",
      "metadata": {
        "id": "NxPybiFEtxxF",
        "colab_type": "code",
        "colab": {}
      },
      "source": [
        "from sklearn.datasets import fetch_openml\n",
        "import numpy as np\n",
        "import matplotlib.pyplot as plt\n",
        "%matplotlib inline\n",
        "from sklearn.svm import SVC\n",
        "from sklearn.model_selection import train_test_split,cross_val_predict\n",
        "from sklearn.metrics import confusion_matrix,classification_report\n"
      ],
      "execution_count": 0,
      "outputs": []
    },
    {
      "cell_type": "code",
      "metadata": {
        "id": "XgwFrmvjuIeV",
        "colab_type": "code",
        "colab": {}
      },
      "source": [
        "mnist = fetch_openml(\"mnist_784\",version=1)"
      ],
      "execution_count": 0,
      "outputs": []
    },
    {
      "cell_type": "code",
      "metadata": {
        "id": "4qgPfD6AuVh3",
        "colab_type": "code",
        "outputId": "fc62c6eb-6aee-4f37-b557-18625717cd73",
        "colab": {
          "base_uri": "https://localhost:8080/",
          "height": 35
        }
      },
      "source": [
        "mnist.keys()"
      ],
      "execution_count": 0,
      "outputs": [
        {
          "output_type": "execute_result",
          "data": {
            "text/plain": [
              "dict_keys(['data', 'target', 'frame', 'feature_names', 'target_names', 'DESCR', 'details', 'categories', 'url'])"
            ]
          },
          "metadata": {
            "tags": []
          },
          "execution_count": 4
        }
      ]
    },
    {
      "cell_type": "code",
      "metadata": {
        "id": "xvS6o0o4uieP",
        "colab_type": "code",
        "colab": {}
      },
      "source": [
        "X=mnist[\"data\"]\n",
        "y=mnist[\"target\"]"
      ],
      "execution_count": 0,
      "outputs": []
    },
    {
      "cell_type": "code",
      "metadata": {
        "id": "S-6-12dquqB2",
        "colab_type": "code",
        "outputId": "09f9c881-cb5e-49e4-c2a8-0c5ae26f0bf5",
        "colab": {
          "base_uri": "https://localhost:8080/",
          "height": 52
        }
      },
      "source": [
        "print(np.shape(X))\n",
        "print(np.shape(y))"
      ],
      "execution_count": 0,
      "outputs": [
        {
          "output_type": "stream",
          "text": [
            "(70000, 784)\n",
            "(70000,)\n"
          ],
          "name": "stdout"
        }
      ]
    },
    {
      "cell_type": "markdown",
      "metadata": {
        "id": "MLRLE5aYyCFd",
        "colab_type": "text"
      },
      "source": [
        "Since MNIST is an image dataset, each row represents the pixels of a single image. An image has a total of 28 by 28 = 784 pixels and that's why we have 784 columns. The dataset contains the 'flattend' image and to 'draw' an actual  image we need to 'reshape' this flattened image back to 28 by 28 pixels. Let's draw randomly an image from dataset"
      ]
    },
    {
      "cell_type": "code",
      "metadata": {
        "id": "YsnyifjDxV_K",
        "colab_type": "code",
        "outputId": "d99e6551-e2df-4ac1-b9f6-9393af1a6df0",
        "colab": {
          "base_uri": "https://localhost:8080/",
          "height": 183
        }
      },
      "source": [
        "image = X[67328].reshape(28,28)\n",
        "#plt.imshow(image,cmap=\"jet\")\n",
        "#plt.imshow(image,cmap=\"binary\")\n",
        "#plt.axis(False)\n",
        "fig,axes = plt.subplots(nrows=1,ncols=2)\n",
        "cmapVal = [\"jet\",\"binary\"]\n",
        "for ax,cv in zip(axes,cmapVal):\n",
        "    ax.imshow(image,cmap=cv)\n",
        "    ax.axis(False)\n",
        "\n",
        "\n",
        "\n"
      ],
      "execution_count": 0,
      "outputs": [
        {
          "output_type": "display_data",
          "data": {
            "image/png": "[encoded data removed]",
            "text/plain": [
              "<Figure size 432x288 with 2 Axes>"
            ]
          },
          "metadata": {
            "tags": []
          }
        }
      ]
    },
    {
      "cell_type": "code",
      "metadata": {
        "id": "LQtqDEBf1MAf",
        "colab_type": "code",
        "colab": {}
      },
      "source": [
        "X_train,X_test,y_train,y_test = train_test_split(X,y,test_size=0.2,random_state=42)"
      ],
      "execution_count": 0,
      "outputs": []
    },
    {
      "cell_type": "code",
      "metadata": {
        "id": "sD02ZVWq-yWg",
        "colab_type": "code",
        "colab": {}
      },
      "source": [
        "#reducing size so for quick execution\n",
        "X_train_reduced = X_train[:2000]\n",
        "y_train_reduced = y_train[:2000]"
      ],
      "execution_count": 0,
      "outputs": []
    },
    {
      "cell_type": "markdown",
      "metadata": {
        "id": "GG3I8JDF_q26",
        "colab_type": "text"
      },
      "source": [
        "**model1**.Let's do a quick (and dirty) SVC"
      ]
    },
    {
      "cell_type": "code",
      "metadata": {
        "id": "kwOyUf9W0M8v",
        "colab_type": "code",
        "outputId": "264f97a0-b8b5-4c09-a8fe-431fc3040757",
        "colab": {
          "base_uri": "https://localhost:8080/",
          "height": 87
        }
      },
      "source": [
        "\n",
        "svc_model = SVC()\n",
        "svc_model.fit(X_train_reduced,y_train_reduced)"
      ],
      "execution_count": 0,
      "outputs": [
        {
          "output_type": "execute_result",
          "data": {
            "text/plain": [
              "SVC(C=1.0, break_ties=False, cache_size=200, class_weight=None, coef0=0.0,\n",
              "    decision_function_shape='ovr', degree=3, gamma='scale', kernel='rbf',\n",
              "    max_iter=-1, probability=False, random_state=None, shrinking=True,\n",
              "    tol=0.001, verbose=False)"
            ]
          },
          "metadata": {
            "tags": []
          },
          "execution_count": 12
        }
      ]
    },
    {
      "cell_type": "markdown",
      "metadata": {
        "id": "ISQnEZFtALvH",
        "colab_type": "text"
      },
      "source": [
        "model evaluation on the **training set** through confusion matrix and classification report.Instead of doing a simple prediction let's do the better cross_val_predict one. note that we are not touching test set yet.\n"
      ]
    },
    {
      "cell_type": "code",
      "metadata": {
        "id": "lM4grbBL-Jla",
        "colab_type": "code",
        "colab": {}
      },
      "source": [
        "#we are not doing the simple prediction...\n",
        "#predictions_on_training_set = svc_model.predict(X_train_reduced)\n",
        "\n",
        "#...instead let's do the cross_val_predict\n",
        "predictions_on_training_set = cross_val_predict(svc_model,X_train_reduced,y_train_reduced,cv=4)"
      ],
      "execution_count": 0,
      "outputs": []
    },
    {
      "cell_type": "code",
      "metadata": {
        "id": "FOlYe_tqBx5v",
        "colab_type": "code",
        "outputId": "969fbde3-0e81-4e15-9f34-a899cd767567",
        "colab": {
          "base_uri": "https://localhost:8080/",
          "height": 191
        }
      },
      "source": [
        "conf_matrix = confusion_matrix(y_train_reduced,predictions_on_training_set)\n",
        "print (conf_matrix)"
      ],
      "execution_count": 0,
      "outputs": [
        {
          "output_type": "stream",
          "text": [
            "[[194   0   4   0   0   1   1   0   3   0]\n",
            " [  0 218   1   1   0   2   0   0   0   0]\n",
            " [  3   1 194   4   3   0   1   4   1   0]\n",
            " [  1   1   5 191   1   8   1   3   3   3]\n",
            " [  0   0   1   0 165   0   1   0   1   2]\n",
            " [  0   0   1   7   2 176   4   0   1   3]\n",
            " [  1   1   2   0   1   2 198   0   0   0]\n",
            " [  0   4   0   0   4   1   0 201   0   4]\n",
            " [  1   5   1   2   2   4   3   1 146   4]\n",
            " [  2   0   1   1   5   1   0   9   1 175]]\n"
          ],
          "name": "stdout"
        }
      ]
    },
    {
      "cell_type": "markdown",
      "metadata": {
        "id": "h4YoU8z_GLtY",
        "colab_type": "text"
      },
      "source": [
        "getting good result becasue most of the off-diagonal elements are very small numbers.however, let's also print the matrix graphically\n"
      ]
    },
    {
      "cell_type": "code",
      "metadata": {
        "id": "jhuONMYBGFM-",
        "colab_type": "code",
        "outputId": "6c79d17f-d237-4897-b946-2fa00985e4d2",
        "colab": {
          "base_uri": "https://localhost:8080/",
          "height": 293
        }
      },
      "source": [
        "plt.matshow(conf_matrix, cmap=plt.cm.gray)\n",
        "#plt.axis(False)"
      ],
      "execution_count": 0,
      "outputs": [
        {
          "output_type": "execute_result",
          "data": {
            "text/plain": [
              "<matplotlib.image.AxesImage at 0x7fb7b2a1d9e8>"
            ]
          },
          "metadata": {
            "tags": []
          },
          "execution_count": 27
        },
        {
          "output_type": "display_data",
          "data": {
            "image/png": "[encoded data removed]",
            "text/plain": [
              "<Figure size 288x288 with 1 Axes>"
            ]
          },
          "metadata": {
            "tags": []
          }
        }
      ]
    },
    {
      "cell_type": "markdown",
      "metadata": {
        "id": "wdho8FVXH0f8",
        "colab_type": "text"
      },
      "source": [
        "let's get the classification report as well"
      ]
    },
    {
      "cell_type": "code",
      "metadata": {
        "id": "eXOBpawOHOOb",
        "colab_type": "code",
        "outputId": "f5c3dbf3-4228-4102-d7cb-11b5e3cae940",
        "colab": {
          "base_uri": "https://localhost:8080/",
          "height": 312
        }
      },
      "source": [
        "print(classification_report(y_train_reduced,predictions_on_training_set))"
      ],
      "execution_count": 0,
      "outputs": [
        {
          "output_type": "stream",
          "text": [
            "              precision    recall  f1-score   support\n",
            "\n",
            "           0       0.96      0.96      0.96       203\n",
            "           1       0.95      0.98      0.96       222\n",
            "           2       0.92      0.92      0.92       211\n",
            "           3       0.93      0.88      0.90       217\n",
            "           4       0.90      0.97      0.93       170\n",
            "           5       0.90      0.91      0.90       194\n",
            "           6       0.95      0.97      0.96       205\n",
            "           7       0.92      0.94      0.93       214\n",
            "           8       0.94      0.86      0.90       169\n",
            "           9       0.92      0.90      0.91       195\n",
            "\n",
            "    accuracy                           0.93      2000\n",
            "   macro avg       0.93      0.93      0.93      2000\n",
            "weighted avg       0.93      0.93      0.93      2000\n",
            "\n"
          ],
          "name": "stdout"
        }
      ]
    },
    {
      "cell_type": "markdown",
      "metadata": {
        "id": "zuQ_RM2PINrg",
        "colab_type": "text"
      },
      "source": [
        "F1 score is above 90 for all digits which is really good.The recall for digit '3' is 0.88 and for digit '8' is 0.86.For these digits,  model had some difficulty in classifying them rightly as '3' or '8'"
      ]
    },
    {
      "cell_type": "markdown",
      "metadata": {
        "id": "MeRMlTOOJ-qs",
        "colab_type": "text"
      },
      "source": [
        "next now:\n",
        "1.doing using GridSearchCV\n",
        "2.running over entire X_train,y_train\n",
        "3.final model evaluation of GridsearchCV model using X_train,y_train and X_test,y_test"
      ]
    },
    {
      "cell_type": "code",
      "metadata": {
        "id": "2Es1BClBH-Lm",
        "colab_type": "code",
        "colab": {}
      },
      "source": [
        ""
      ],
      "execution_count": 0,
      "outputs": []
    }
  ]
}
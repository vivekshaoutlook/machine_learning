{
  "nbformat": 4,
  "nbformat_minor": 0,
  "metadata": {
    "colab": {
      "name": "06_Ensemble and Stacking on Titanic dataset.ipynb",
      "provenance": [],
      "collapsed_sections": [],
      "authorship_tag": "ABX9TyOLo/jb2NcAUhnOensvaW12",
      "include_colab_link": true
    },
    "kernelspec": {
      "name": "python3",
      "display_name": "Python 3"
    }
  },
  "cells": [
    {
      "cell_type": "markdown",
      "metadata": {
        "id": "view-in-github",
        "colab_type": "text"
      },
      "source": [
        "<a href=\"https://colab.research.google.com/github/vivekshaoutlook/machine_learning/blob/master/06_Ensemble_and_Stacking_on_Titanic_dataset.ipynb\" target=\"_parent\"><img src=\"https://colab.research.google.com/assets/colab-badge.svg\" alt=\"Open In Colab\"/></a>"
      ]
    },
    {
      "cell_type": "code",
      "metadata": {
        "id": "clSj5pl95uG3",
        "colab_type": "code",
        "colab": {}
      },
      "source": [
        "from google.colab import drive\n",
        "import pandas as pd\n",
        "import numpy as np\n",
        "import warnings\n",
        "warnings.filterwarnings(\"ignore\")\n",
        "import re\n"
      ],
      "execution_count": 0,
      "outputs": []
    },
    {
      "cell_type": "code",
      "metadata": {
        "id": "JFZtBC33NapS",
        "colab_type": "code",
        "colab": {}
      },
      "source": [
        "import seaborn as sns\n",
        "import matplotlib.pyplot as plt\n",
        "%matplotlib inline"
      ],
      "execution_count": 0,
      "outputs": []
    },
    {
      "cell_type": "code",
      "metadata": {
        "id": "R1LHYOUBR3F0",
        "colab_type": "code",
        "colab": {}
      },
      "source": [
        "from sklearn.model_selection import KFold\n",
        "from sklearn.ensemble import (RandomForestClassifier, AdaBoostClassifier, \n",
        "                              GradientBoostingClassifier, ExtraTreesClassifier)"
      ],
      "execution_count": 0,
      "outputs": []
    },
    {
      "cell_type": "code",
      "metadata": {
        "id": "NFa25Epr6eoz",
        "colab_type": "code",
        "outputId": "19e66db5-0e64-4062-87ff-1ed3d5e79a56",
        "colab": {
          "base_uri": "https://localhost:8080/",
          "height": 34
        }
      },
      "source": [
        "\n",
        "drive.mount('/content/drive')"
      ],
      "execution_count": 308,
      "outputs": [
        {
          "output_type": "stream",
          "text": [
            "Drive already mounted at /content/drive; to attempt to forcibly remount, call drive.mount(\"/content/drive\", force_remount=True).\n"
          ],
          "name": "stdout"
        }
      ]
    },
    {
      "cell_type": "code",
      "metadata": {
        "id": "-OgPlFvv6i_V",
        "colab_type": "code",
        "colab": {}
      },
      "source": [
        "train = pd.read_csv(\"/content/drive/My Drive/Colab Notebooks/titanic_train.csv\")"
      ],
      "execution_count": 0,
      "outputs": []
    },
    {
      "cell_type": "code",
      "metadata": {
        "id": "7ItTfCpk6zEE",
        "colab_type": "code",
        "colab": {}
      },
      "source": [
        "test = pd.read_csv(\"/content/drive/My Drive/Colab Notebooks/titanic_test.csv\")"
      ],
      "execution_count": 0,
      "outputs": []
    },
    {
      "cell_type": "code",
      "metadata": {
        "id": "5keBKB_W6_8t",
        "colab_type": "code",
        "outputId": "ea62fa47-36c0-44fe-af62-22dfef070520",
        "colab": {
          "base_uri": "https://localhost:8080/",
          "height": 34
        }
      },
      "source": [
        "train.shape"
      ],
      "execution_count": 311,
      "outputs": [
        {
          "output_type": "execute_result",
          "data": {
            "text/plain": [
              "(891, 12)"
            ]
          },
          "metadata": {
            "tags": []
          },
          "execution_count": 311
        }
      ]
    },
    {
      "cell_type": "code",
      "metadata": {
        "id": "tYeXM8-67Hk9",
        "colab_type": "code",
        "outputId": "0ca8cb4d-5fc5-4634-e4c0-0608615b54ab",
        "colab": {
          "base_uri": "https://localhost:8080/",
          "height": 34
        }
      },
      "source": [
        "test.shape"
      ],
      "execution_count": 312,
      "outputs": [
        {
          "output_type": "execute_result",
          "data": {
            "text/plain": [
              "(418, 11)"
            ]
          },
          "metadata": {
            "tags": []
          },
          "execution_count": 312
        }
      ]
    },
    {
      "cell_type": "code",
      "metadata": {
        "id": "ZLldTSsx7JWM",
        "colab_type": "code",
        "colab": {}
      },
      "source": [
        "full_data = [train,test]"
      ],
      "execution_count": 0,
      "outputs": []
    },
    {
      "cell_type": "markdown",
      "metadata": {
        "id": "sCY_bPVFKjl7",
        "colab_type": "text"
      },
      "source": [
        "**SECTION1: CLEANING AND FEATURE ENGINEERING**"
      ]
    },
    {
      "cell_type": "code",
      "metadata": {
        "id": "XSCwITaS7Xw9",
        "colab_type": "code",
        "colab": {}
      },
      "source": [
        "#feature engineering\n",
        "#F1. new feature - name_length\n",
        "train['Name_length'] = train['Name'].apply(len)\n",
        "test['Name_length'] = test['Name'].apply(len)\n"
      ],
      "execution_count": 0,
      "outputs": []
    },
    {
      "cell_type": "code",
      "metadata": {
        "id": "Sc4HKIbX8BwQ",
        "colab_type": "code",
        "colab": {}
      },
      "source": [
        "#F2.new feature - \"Has_Cabin\".whether the passenger had a cabin\n",
        "train[\"Has_cabin\"] = train[\"Cabin\"].isnull().astype(int)\n",
        "test[\"Has_cabin\"] = test[\"Cabin\"].isnull().astype(int)"
      ],
      "execution_count": 0,
      "outputs": []
    },
    {
      "cell_type": "code",
      "metadata": {
        "id": "8FiQXrUjCae6",
        "colab_type": "code",
        "colab": {}
      },
      "source": [
        "#F3.new feature: Family_size \n",
        "#instead of seprately adding new columns, like we did above, we can also use the full_data array\n",
        "#the plus 1 in the end includes the passenger himeself/herself :)\n",
        "for dataset in full_data:\n",
        "  dataset[\"Family_size\"] = dataset['SibSp'] + dataset['Parch'] + 1\n"
      ],
      "execution_count": 0,
      "outputs": []
    },
    {
      "cell_type": "code",
      "metadata": {
        "id": "u5rQnqzADFDm",
        "colab_type": "code",
        "colab": {}
      },
      "source": [
        "#F4.new feature-IsAlone. a Was the person traveling alone\n",
        "for dataset in full_data:\n",
        "  dataset[\"IsAlone\"]=0 # create a new column \"IsAlone\" and initialize it to 0\n",
        "  dataset.loc[dataset[\"Family_size\"]==1,\"IsAlone\"]=1 #set the \"IsAlone\" column to 1 where the Family_Size=1\n"
      ],
      "execution_count": 0,
      "outputs": []
    },
    {
      "cell_type": "code",
      "metadata": {
        "id": "eJqJp4pDIRwp",
        "colab_type": "code",
        "outputId": "7a6caf5e-62bd-4da4-9447-224cde8b3f3f",
        "colab": {
          "base_uri": "https://localhost:8080/",
          "height": 153
        }
      },
      "source": [
        "print(train[\"Embarked\"].value_counts())\n",
        "print(test[\"Embarked\"].value_counts())"
      ],
      "execution_count": 318,
      "outputs": [
        {
          "output_type": "stream",
          "text": [
            "S    644\n",
            "C    168\n",
            "Q     77\n",
            "Name: Embarked, dtype: int64\n",
            "S    270\n",
            "C    102\n",
            "Q     46\n",
            "Name: Embarked, dtype: int64\n"
          ],
          "name": "stdout"
        }
      ]
    },
    {
      "cell_type": "code",
      "metadata": {
        "id": "QG6N_6k1I8We",
        "colab_type": "code",
        "colab": {}
      },
      "source": [
        "#C1.Cleaning.Since majority of people have embarked from port S, we can default S for missing values\n",
        "for dataset in full_data:\n",
        "  dataset[\"Embarked\"] = dataset[\"Embarked\"].fillna(\"S\")\n",
        " "
      ],
      "execution_count": 0,
      "outputs": []
    },
    {
      "cell_type": "code",
      "metadata": {
        "id": "KV1zk8WqNt4O",
        "colab_type": "code",
        "outputId": "5382c263-b567-422f-c97f-d88ab1b9c695",
        "colab": {
          "base_uri": "https://localhost:8080/",
          "height": 51
        }
      },
      "source": [
        "#verify that now no missing values in Embarked column\n",
        "print(train[\"Embarked\"].isna().sum())\n",
        "print(test[\"Embarked\"].isna().sum())"
      ],
      "execution_count": 320,
      "outputs": [
        {
          "output_type": "stream",
          "text": [
            "0\n",
            "0\n"
          ],
          "name": "stdout"
        }
      ]
    },
    {
      "cell_type": "code",
      "metadata": {
        "id": "pPBY1CfqO_HX",
        "colab_type": "code",
        "colab": {}
      },
      "source": [
        "#C2.Filling missing fare with the median \n",
        "for dataset in full_data:\n",
        "  dataset[\"Fare\"] = dataset[\"Fare\"].fillna(dataset[\"Fare\"].median())\n",
        "  "
      ],
      "execution_count": 0,
      "outputs": []
    },
    {
      "cell_type": "code",
      "metadata": {
        "id": "_tykckevTlEU",
        "colab_type": "code",
        "colab": {}
      },
      "source": [
        "#F5.creating a new  categorical feature - CategoricalFare\n",
        "train[\"CategoricalFare\"] = pd.qcut(train['Fare'], 4)"
      ],
      "execution_count": 0,
      "outputs": []
    },
    {
      "cell_type": "code",
      "metadata": {
        "id": "nyI9AW9QT4OY",
        "colab_type": "code",
        "outputId": "d166c8af-41c6-4aa0-cc1b-43d7c53dd035",
        "colab": {
          "base_uri": "https://localhost:8080/",
          "height": 102
        }
      },
      "source": [
        "#let's see what range(bucket) got created and how many values in each range\n",
        "train[\"CategoricalFare\"].value_counts()"
      ],
      "execution_count": 323,
      "outputs": [
        {
          "output_type": "execute_result",
          "data": {
            "text/plain": [
              "(7.91, 14.454]     224\n",
              "(-0.001, 7.91]     223\n",
              "(31.0, 512.329]    222\n",
              "(14.454, 31.0]     222\n",
              "Name: CategoricalFare, dtype: int64"
            ]
          },
          "metadata": {
            "tags": []
          },
          "execution_count": 323
        }
      ]
    },
    {
      "cell_type": "code",
      "metadata": {
        "id": "yXrtbATjT6xO",
        "colab_type": "code",
        "colab": {}
      },
      "source": [
        "#C3.filling missign Age\n",
        "for dataset in full_data:\n",
        " avg_age = np.mean(dataset[\"Age\"])\n",
        " std_dev_of_age = np.std(dataset[\"Age\"])\n",
        " missing_age_count = np.isnan(dataset[\"Age\"]).sum()\n",
        " missing_age_random_list = np.random.randint(avg_age-std_dev_of_age,avg_age+std_dev_of_age,missing_age_count)\n",
        " dataset['Age'][np.isnan(dataset['Age'])] = missing_age_random_list\n",
        " dataset['Age'] = dataset['Age'].astype(int)\n",
        "\n",
        "\n"
      ],
      "execution_count": 0,
      "outputs": []
    },
    {
      "cell_type": "code",
      "metadata": {
        "id": "Uo_U-VLQUgja",
        "colab_type": "code",
        "colab": {}
      },
      "source": [
        "#F6.Creating a new categorical feature - CategoricalAge\n",
        "train[\"CategoricalAge\"] = pd.cut(train[\"Age\"],5)\n"
      ],
      "execution_count": 0,
      "outputs": []
    },
    {
      "cell_type": "code",
      "metadata": {
        "id": "EYVZXG_b5x6z",
        "colab_type": "code",
        "outputId": "03511cd6-62da-4546-8798-0cb142f357c8",
        "colab": {
          "base_uri": "https://localhost:8080/",
          "height": 119
        }
      },
      "source": [
        "#let's see what range(bucket) got created and how many values in each range\n",
        "train[\"CategoricalAge\"].value_counts()"
      ],
      "execution_count": 326,
      "outputs": [
        {
          "output_type": "execute_result",
          "data": {
            "text/plain": [
              "(16.0, 32.0]     454\n",
              "(32.0, 48.0]     251\n",
              "(-0.08, 16.0]    106\n",
              "(48.0, 64.0]      69\n",
              "(64.0, 80.0]      11\n",
              "Name: CategoricalAge, dtype: int64"
            ]
          },
          "metadata": {
            "tags": []
          },
          "execution_count": 326
        }
      ]
    },
    {
      "cell_type": "code",
      "metadata": {
        "id": "-XhEGcRtCuST",
        "colab_type": "code",
        "colab": {}
      },
      "source": [
        "#F7: create a new feature-Title\n",
        "def get_title(name):\n",
        "  title_text = re.search('([A-Za-z]+)\\.',name)\n",
        "  if title_text:\n",
        "    return  title_text.group()\n",
        "  else:\n",
        "    return \"\"\n",
        "  \n",
        "for dataset in full_data:\n",
        "  dataset[\"Title\"] = dataset[\"Name\"].apply(get_title)"
      ],
      "execution_count": 0,
      "outputs": []
    },
    {
      "cell_type": "code",
      "metadata": {
        "id": "ALI3pAiFLjGZ",
        "colab_type": "code",
        "outputId": "00396f71-d075-4081-98b2-c697b1828f3c",
        "colab": {
          "base_uri": "https://localhost:8080/",
          "height": 323
        }
      },
      "source": [
        "train[\"Title\"].value_counts()\n"
      ],
      "execution_count": 328,
      "outputs": [
        {
          "output_type": "execute_result",
          "data": {
            "text/plain": [
              "Mr.          517\n",
              "Miss.        182\n",
              "Mrs.         125\n",
              "Master.       40\n",
              "Dr.            7\n",
              "Rev.           6\n",
              "Mlle.          2\n",
              "Col.           2\n",
              "Major.         2\n",
              "Mme.           1\n",
              "Lady.          1\n",
              "Ms.            1\n",
              "Capt.          1\n",
              "Countess.      1\n",
              "Jonkheer.      1\n",
              "Don.           1\n",
              "Sir.           1\n",
              "Name: Title, dtype: int64"
            ]
          },
          "metadata": {
            "tags": []
          },
          "execution_count": 328
        }
      ]
    },
    {
      "cell_type": "code",
      "metadata": {
        "id": "21XyFlylONuc",
        "colab_type": "code",
        "colab": {}
      },
      "source": [
        " #C4: replace less common titles with a single title \"Rare\"\n",
        " rare_title = ['Lady.', 'Countess.','Capt.', 'Col.','Don.', 'Dr.', 'Major.', 'Rev.', 'Sir.', 'Jonkheer.', 'Dona.']\n",
        " for dataset in full_data:\n",
        "   dataset[\"Title\"] = dataset[\"Title\"].replace(rare_title,\"Rare.\")\n",
        "   dataset['Title'] = dataset['Title'].replace('Mlle.', 'Miss.')\n",
        "   dataset['Title'] = dataset['Title'].replace('Ms.', 'Miss.')\n",
        "   dataset['Title'] = dataset['Title'].replace('Mme.', 'Mrs.')\n"
      ],
      "execution_count": 0,
      "outputs": []
    },
    {
      "cell_type": "code",
      "metadata": {
        "id": "yWIhWPoiAg3G",
        "colab_type": "code",
        "colab": {
          "base_uri": "https://localhost:8080/",
          "height": 119
        },
        "outputId": "aa45b77d-f1fa-4a58-f624-0e2957ab8640"
      },
      "source": [
        "#let's verify that the titles have been reduced as desired\n",
        "train[\"Title\"].value_counts()"
      ],
      "execution_count": 330,
      "outputs": [
        {
          "output_type": "execute_result",
          "data": {
            "text/plain": [
              "Mr.        517\n",
              "Miss.      185\n",
              "Mrs.       126\n",
              "Master.     40\n",
              "Rare.       23\n",
              "Name: Title, dtype: int64"
            ]
          },
          "metadata": {
            "tags": []
          },
          "execution_count": 330
        }
      ]
    },
    {
      "cell_type": "code",
      "metadata": {
        "id": "FTNyyfXRCRgn",
        "colab_type": "code",
        "colab": {
          "base_uri": "https://localhost:8080/",
          "height": 119
        },
        "outputId": "b6cb5267-9bf0-4f8c-ec31-fb2c3357a0d6"
      },
      "source": [
        "test[\"Title\"].value_counts()"
      ],
      "execution_count": 331,
      "outputs": [
        {
          "output_type": "execute_result",
          "data": {
            "text/plain": [
              "Mr.        240\n",
              "Miss.       79\n",
              "Mrs.        72\n",
              "Master.     21\n",
              "Rare.        6\n",
              "Name: Title, dtype: int64"
            ]
          },
          "metadata": {
            "tags": []
          },
          "execution_count": 331
        }
      ]
    },
    {
      "cell_type": "code",
      "metadata": {
        "id": "UvSR5msIEUZo",
        "colab_type": "code",
        "colab": {}
      },
      "source": [
        "#C5: the grand cleaning by converting all categorical to numerical\n",
        "for dataset in full_data:\n",
        "  sex_mapping_dict = {'female': 0, 'male': 1}\n",
        "  titles_mapping_dict = {\"Mr\": 1, \"Miss\": 2, \"Mrs\": 3, \"Master\": 4, \"Rare\": 5}\n",
        "  embarked_port_dict = {'S': 0, 'C': 1, 'Q': 2}\n",
        "    \n",
        "  dataset[\"Sex\"] = dataset[\"Sex\"].map(sex_mapping_dict).astype(int)\n",
        "  dataset[\"Title\"] = dataset[\"Title\"].map(titles_mapping_dict)\n",
        "  dataset[\"Title\"] = dataset[\"Title\"].fillna(0)#still if few titles are not filled, replace those with 0\n",
        "  dataset[\"Title\"] = dataset[\"Title\"].astype(int)\n",
        "  dataset['Embarked'] = dataset['Embarked'].map( {'S': 0, 'C': 1, 'Q': 2} ).astype(int)\n",
        "\n",
        "  #fare cleaning\n",
        "  dataset.loc[ dataset['Fare'] <= 7.91, 'Fare'] = 0\n",
        "  dataset.loc[(dataset['Fare'] > 7.91) & (dataset['Fare'] <= 14.454), 'Fare'] = 1\n",
        "  dataset.loc[(dataset['Fare'] > 14.454) & (dataset['Fare'] <= 31), 'Fare'] = 2\n",
        "  dataset.loc[ dataset['Fare'] > 31, 'Fare'] = 3\n",
        "  dataset['Fare'] = dataset['Fare'].astype(int)\n",
        "\n",
        "  #age cleaning\n",
        "  dataset.loc[ dataset['Age'] <= 16, 'Age'] \t\t\t\t\t       = 0\n",
        "  dataset.loc[(dataset['Age'] > 16) & (dataset['Age'] <= 32), 'Age'] = 1\n",
        "  dataset.loc[(dataset['Age'] > 32) & (dataset['Age'] <= 48), 'Age'] = 2\n",
        "  dataset.loc[(dataset['Age'] > 48) & (dataset['Age'] <= 64), 'Age'] = 3\n",
        "  dataset.loc[ dataset['Age'] > 64, 'Age'] = 4\n",
        "\n",
        "\n",
        "\n"
      ],
      "execution_count": 0,
      "outputs": []
    },
    {
      "cell_type": "code",
      "metadata": {
        "id": "ZzYocDsLEvo9",
        "colab_type": "code",
        "colab": {
          "base_uri": "https://localhost:8080/",
          "height": 315
        },
        "outputId": "46159ac6-941a-45a2-fbc0-a0a1dc945055"
      },
      "source": [
        "train.head(3)"
      ],
      "execution_count": 333,
      "outputs": [
        {
          "output_type": "execute_result",
          "data": {
            "text/html": [
              "<div>\n",
              "<style scoped>\n",
              "    .dataframe tbody tr th:only-of-type {\n",
              "        vertical-align: middle;\n",
              "    }\n",
              "\n",
              "    .dataframe tbody tr th {\n",
              "        vertical-align: top;\n",
              "    }\n",
              "\n",
              "    .dataframe thead th {\n",
              "        text-align: right;\n",
              "    }\n",
              "</style>\n",
              "<table border=\"1\" class=\"dataframe\">\n",
              "  <thead>\n",
              "    <tr style=\"text-align: right;\">\n",
              "      <th></th>\n",
              "      <th>PassengerId</th>\n",
              "      <th>Survived</th>\n",
              "      <th>Pclass</th>\n",
              "      <th>Name</th>\n",
              "      <th>Sex</th>\n",
              "      <th>Age</th>\n",
              "      <th>SibSp</th>\n",
              "      <th>Parch</th>\n",
              "      <th>Ticket</th>\n",
              "      <th>Fare</th>\n",
              "      <th>Cabin</th>\n",
              "      <th>Embarked</th>\n",
              "      <th>Name_length</th>\n",
              "      <th>Has_cabin</th>\n",
              "      <th>Family_size</th>\n",
              "      <th>IsAlone</th>\n",
              "      <th>CategoricalFare</th>\n",
              "      <th>CategoricalAge</th>\n",
              "      <th>Title</th>\n",
              "    </tr>\n",
              "  </thead>\n",
              "  <tbody>\n",
              "    <tr>\n",
              "      <th>0</th>\n",
              "      <td>1</td>\n",
              "      <td>0</td>\n",
              "      <td>3</td>\n",
              "      <td>Braund, Mr. Owen Harris</td>\n",
              "      <td>1</td>\n",
              "      <td>1</td>\n",
              "      <td>1</td>\n",
              "      <td>0</td>\n",
              "      <td>A/5 21171</td>\n",
              "      <td>0</td>\n",
              "      <td>NaN</td>\n",
              "      <td>0</td>\n",
              "      <td>23</td>\n",
              "      <td>1</td>\n",
              "      <td>2</td>\n",
              "      <td>0</td>\n",
              "      <td>(-0.001, 7.91]</td>\n",
              "      <td>(16.0, 32.0]</td>\n",
              "      <td>0</td>\n",
              "    </tr>\n",
              "    <tr>\n",
              "      <th>1</th>\n",
              "      <td>2</td>\n",
              "      <td>1</td>\n",
              "      <td>1</td>\n",
              "      <td>Cumings, Mrs. John Bradley (Florence Briggs Th...</td>\n",
              "      <td>0</td>\n",
              "      <td>2</td>\n",
              "      <td>1</td>\n",
              "      <td>0</td>\n",
              "      <td>PC 17599</td>\n",
              "      <td>3</td>\n",
              "      <td>C85</td>\n",
              "      <td>1</td>\n",
              "      <td>51</td>\n",
              "      <td>0</td>\n",
              "      <td>2</td>\n",
              "      <td>0</td>\n",
              "      <td>(31.0, 512.329]</td>\n",
              "      <td>(32.0, 48.0]</td>\n",
              "      <td>0</td>\n",
              "    </tr>\n",
              "    <tr>\n",
              "      <th>2</th>\n",
              "      <td>3</td>\n",
              "      <td>1</td>\n",
              "      <td>3</td>\n",
              "      <td>Heikkinen, Miss. Laina</td>\n",
              "      <td>0</td>\n",
              "      <td>1</td>\n",
              "      <td>0</td>\n",
              "      <td>0</td>\n",
              "      <td>STON/O2. 3101282</td>\n",
              "      <td>1</td>\n",
              "      <td>NaN</td>\n",
              "      <td>0</td>\n",
              "      <td>22</td>\n",
              "      <td>1</td>\n",
              "      <td>1</td>\n",
              "      <td>1</td>\n",
              "      <td>(7.91, 14.454]</td>\n",
              "      <td>(16.0, 32.0]</td>\n",
              "      <td>0</td>\n",
              "    </tr>\n",
              "  </tbody>\n",
              "</table>\n",
              "</div>"
            ],
            "text/plain": [
              "   PassengerId  Survived  Pclass  ...  CategoricalFare  CategoricalAge  Title\n",
              "0            1         0       3  ...   (-0.001, 7.91]    (16.0, 32.0]      0\n",
              "1            2         1       1  ...  (31.0, 512.329]    (32.0, 48.0]      0\n",
              "2            3         1       3  ...   (7.91, 14.454]    (16.0, 32.0]      0\n",
              "\n",
              "[3 rows x 19 columns]"
            ]
          },
          "metadata": {
            "tags": []
          },
          "execution_count": 333
        }
      ]
    },
    {
      "cell_type": "code",
      "metadata": {
        "id": "v7JzTI8mG-Eh",
        "colab_type": "code",
        "colab": {}
      },
      "source": [
        "#F8: remove unwanted features\n",
        "#PassengerId: nothing useful here\n",
        "#Name: we already extracted title and name length.\n",
        "#Ticket: nothing useful here\n",
        "#Cabin:already created a new feature - \"has_cabin\"\n",
        "#SibSp: already created a new feature - \"Family_size\". \"Parch\" still be useful becasue Family_Size - Parch = SibSp\n",
        "drop_columns = ['PassengerId', 'Name', 'Ticket', 'Cabin', 'SibSp']\n",
        "train = train.drop(drop_columns,axis=1)\n",
        "test = test.drop(drop_columns,axis=1)\n",
        "#since CategoricalAge and CategoricalFare related information is now captured in Fare and Age column, can drop these too\n",
        "train = train.drop(['CategoricalAge', 'CategoricalFare'], axis = 1) #was added only in train set\n",
        "\n"
      ],
      "execution_count": 0,
      "outputs": []
    },
    {
      "cell_type": "markdown",
      "metadata": {
        "id": "QrmEK8W4K9fd",
        "colab_type": "text"
      },
      "source": [
        "SECTION2: DATA VISUALIZATION"
      ]
    },
    {
      "cell_type": "code",
      "metadata": {
        "id": "2LNmT2qHKcXU",
        "colab_type": "code",
        "colab": {
          "base_uri": "https://localhost:8080/",
          "height": 142
        },
        "outputId": "28a8f13c-f1b4-4cb3-8aca-ff5226ab592b"
      },
      "source": [
        "train.head(3)"
      ],
      "execution_count": 335,
      "outputs": [
        {
          "output_type": "execute_result",
          "data": {
            "text/html": [
              "<div>\n",
              "<style scoped>\n",
              "    .dataframe tbody tr th:only-of-type {\n",
              "        vertical-align: middle;\n",
              "    }\n",
              "\n",
              "    .dataframe tbody tr th {\n",
              "        vertical-align: top;\n",
              "    }\n",
              "\n",
              "    .dataframe thead th {\n",
              "        text-align: right;\n",
              "    }\n",
              "</style>\n",
              "<table border=\"1\" class=\"dataframe\">\n",
              "  <thead>\n",
              "    <tr style=\"text-align: right;\">\n",
              "      <th></th>\n",
              "      <th>Survived</th>\n",
              "      <th>Pclass</th>\n",
              "      <th>Sex</th>\n",
              "      <th>Age</th>\n",
              "      <th>Parch</th>\n",
              "      <th>Fare</th>\n",
              "      <th>Embarked</th>\n",
              "      <th>Name_length</th>\n",
              "      <th>Has_cabin</th>\n",
              "      <th>Family_size</th>\n",
              "      <th>IsAlone</th>\n",
              "      <th>Title</th>\n",
              "    </tr>\n",
              "  </thead>\n",
              "  <tbody>\n",
              "    <tr>\n",
              "      <th>0</th>\n",
              "      <td>0</td>\n",
              "      <td>3</td>\n",
              "      <td>1</td>\n",
              "      <td>1</td>\n",
              "      <td>0</td>\n",
              "      <td>0</td>\n",
              "      <td>0</td>\n",
              "      <td>23</td>\n",
              "      <td>1</td>\n",
              "      <td>2</td>\n",
              "      <td>0</td>\n",
              "      <td>0</td>\n",
              "    </tr>\n",
              "    <tr>\n",
              "      <th>1</th>\n",
              "      <td>1</td>\n",
              "      <td>1</td>\n",
              "      <td>0</td>\n",
              "      <td>2</td>\n",
              "      <td>0</td>\n",
              "      <td>3</td>\n",
              "      <td>1</td>\n",
              "      <td>51</td>\n",
              "      <td>0</td>\n",
              "      <td>2</td>\n",
              "      <td>0</td>\n",
              "      <td>0</td>\n",
              "    </tr>\n",
              "    <tr>\n",
              "      <th>2</th>\n",
              "      <td>1</td>\n",
              "      <td>3</td>\n",
              "      <td>0</td>\n",
              "      <td>1</td>\n",
              "      <td>0</td>\n",
              "      <td>1</td>\n",
              "      <td>0</td>\n",
              "      <td>22</td>\n",
              "      <td>1</td>\n",
              "      <td>1</td>\n",
              "      <td>1</td>\n",
              "      <td>0</td>\n",
              "    </tr>\n",
              "  </tbody>\n",
              "</table>\n",
              "</div>"
            ],
            "text/plain": [
              "   Survived  Pclass  Sex  Age  ...  Has_cabin  Family_size  IsAlone  Title\n",
              "0         0       3    1    1  ...          1            2        0      0\n",
              "1         1       1    0    2  ...          0            2        0      0\n",
              "2         1       3    0    1  ...          1            1        1      0\n",
              "\n",
              "[3 rows x 12 columns]"
            ]
          },
          "metadata": {
            "tags": []
          },
          "execution_count": 335
        }
      ]
    },
    {
      "cell_type": "code",
      "metadata": {
        "id": "X_cecVblLJ2I",
        "colab_type": "code",
        "colab": {
          "base_uri": "https://localhost:8080/",
          "height": 665
        },
        "outputId": "09970497-dedb-4188-a871-6a420b70efef"
      },
      "source": [
        "#V1. let's plot heat map to see the correlation among different features\n",
        "plt.figure(figsize=(14,10))\n",
        "tc = train.corr()\n",
        "sns.heatmap(tc,annot=True,cmap = \"coolwarm\")"
      ],
      "execution_count": 336,
      "outputs": [
        {
          "output_type": "execute_result",
          "data": {
            "text/plain": [
              "<matplotlib.axes._subplots.AxesSubplot at 0x7f23d4301be0>"
            ]
          },
          "metadata": {
            "tags": []
          },
          "execution_count": 336
        },
        {
          "output_type": "display_data",
          "data": {
            "image/png": "[encoded data removed]",
            "text/plain": [
              "<Figure size 1008x720 with 2 Axes>"
            ]
          },
          "metadata": {
            "tags": []
          }
        }
      ]
    },
    {
      "cell_type": "code",
      "metadata": {
        "id": "9t5wujh0NRKu",
        "colab_type": "code",
        "colab": {}
      },
      "source": [
        "#takeaway from heatmap = most of the features are uncorrelated (parch-family_size & Has_cabin-pclass has some correlation though.\n",
        "#This can be refined further). Uncorrelation among features is good becasue we are not going to pass any redundant feature\n",
        "#in the model i.e. each feature is gong to provide unique information"
      ],
      "execution_count": 0,
      "outputs": []
    },
    {
      "cell_type": "code",
      "metadata": {
        "id": "yqW5VpIfOSCU",
        "colab_type": "code",
        "colab": {
          "base_uri": "https://localhost:8080/",
          "height": 790
        },
        "outputId": "4a96b490-7112-41a0-c765-db3eaa2fc21a"
      },
      "source": [
        "g = sns.pairplot(train[[u'Survived', u'Pclass', u'Sex', u'Age', u'Parch', u'Fare', u'Embarked',\n",
        "       u'Family_size', u'Title']], hue='Survived', palette = 'seismic',size=1.2,diag_kind = 'kde',diag_kws=dict(shade=True),plot_kws=dict(s=10) )\n",
        "g.set(xticklabels=[])"
      ],
      "execution_count": 338,
      "outputs": [
        {
          "output_type": "execute_result",
          "data": {
            "text/plain": [
              "<seaborn.axisgrid.PairGrid at 0x7f23d323b828>"
            ]
          },
          "metadata": {
            "tags": []
          },
          "execution_count": 338
        },
        {
          "output_type": "display_data",
          "data": {
            "image/png": "[encoded data removed]",
            "text/plain": [
              "<Figure size 829.475x777.6 with 90 Axes>"
            ]
          },
          "metadata": {
            "tags": []
          }
        }
      ]
    },
    {
      "cell_type": "markdown",
      "metadata": {
        "id": "us2YN3BSRaK6",
        "colab_type": "text"
      },
      "source": [
        "**SECTION3: ENSEMBLING AND STACKING**"
      ]
    },
    {
      "cell_type": "code",
      "metadata": {
        "id": "yus7OmP_PGRJ",
        "colab_type": "code",
        "colab": {}
      },
      "source": [
        "ntrain = train.shape[0]\n",
        "ntest = test.shape[0]\n",
        "SEED = 0 # for reproducibility\n",
        "NFOLDS = 5 # set folds for out-of-fold prediction\n",
        "kf = KFold(n_splits= NFOLDS, random_state=SEED,shuffle=False)#though shuffle is 'False\" by default itself"
      ],
      "execution_count": 0,
      "outputs": []
    },
    {
      "cell_type": "code",
      "metadata": {
        "id": "eAYyH5ZJSvZ9",
        "colab_type": "code",
        "colab": {}
      },
      "source": [
        "# Class to extend the Sklearn classifier\n",
        "class SKLearnHelper(object):\n",
        "  #the first argument in constructor (normally called 'self') is used to access instance varaibles.\n",
        "  #Other subsequent arguments are instance varaibles\n",
        "  def __init__(self,clf,seed=0,params=None):  \n",
        "    params['random_state'] = seed#add 'random_state' to the dictionary - 'params'\n",
        "    self.clf = clf(**params)#pass the arguments to the classifier-clf-by unpacking (**) the dictionary - 'params'\n",
        "  \n",
        "  def train(self, x_train, y_train):#note that first argument is 'self' just like the constructor.x_train, y_train are instance varaibles\n",
        "        self.clf.fit(x_train, y_train) #instance variables are always accessed by 'self'(name of the varaible which was first argument of the constrcutor )\n",
        "  def predict(self, x):\n",
        "        return self.clf.predict(x)\n",
        "  def fit(self,x,y):\n",
        "        return self.clf.fit(x,y)\n",
        "  def feature_importances(self,x,y):\n",
        "        print(self.clf.fit(x,y).feature_importances_)"
      ],
      "execution_count": 0,
      "outputs": []
    },
    {
      "cell_type": "code",
      "metadata": {
        "id": "7eW9_FCQUHDJ",
        "colab_type": "code",
        "colab": {}
      },
      "source": [
        "# TODO:can have a similar Class to extend XGboost classifer"
      ],
      "execution_count": 0,
      "outputs": []
    },
    {
      "cell_type": "code",
      "metadata": {
        "id": "W_feld8qYX7A",
        "colab_type": "code",
        "colab": {}
      },
      "source": [
        "def get_oof(clf, x_train, y_train, x_test):\n",
        "    oof_train = np.zeros((ntrain,))\n",
        "    oof_test = np.zeros((ntest,))\n",
        "    oof_test_skf = np.empty((NFOLDS, ntest))\n",
        "    i=0\n",
        "    for train_index, test_index in kf.split(x_train):\n",
        "        x_tr = x_train[train_index]\n",
        "        y_tr = y_train[train_index]\n",
        "        x_te = x_train[test_index]\n",
        "\n",
        "        clf.train(x_tr, y_tr)\n",
        "\n",
        "        oof_train[test_index] = clf.predict(x_te)\n",
        "        oof_test_skf[i, :] = clf.predict(x_test)\n",
        "        i+=i\n",
        "\n",
        "    oof_test[:] = oof_test_skf.mean(axis=0)\n",
        "    return oof_train.reshape(-1, 1), oof_test.reshape(-1, 1)"
      ],
      "execution_count": 0,
      "outputs": []
    },
    {
      "cell_type": "code",
      "metadata": {
        "id": "FnvcTNUMYh5H",
        "colab_type": "code",
        "colab": {}
      },
      "source": [
        "rf_params = {\n",
        "    'n_jobs': -1,\n",
        "    'n_estimators': 500,\n",
        "     'warm_start': True, \n",
        "     #'max_features': 0.2,\n",
        "    'max_depth': 6,\n",
        "    'min_samples_leaf': 2,\n",
        "    'max_features' : 'sqrt',\n",
        "    'verbose': 0\n",
        "}\n",
        "rf = SKLearnHelper(clf=RandomForestClassifier, seed=SEED, params=rf_params)"
      ],
      "execution_count": 0,
      "outputs": []
    },
    {
      "cell_type": "code",
      "metadata": {
        "id": "6Rw-AzbUee3U",
        "colab_type": "code",
        "colab": {}
      },
      "source": [
        "y_train = train['Survived'].ravel()\n",
        "train = train.drop(['Survived'], axis=1)\n",
        "x_train = train.values # Creates an array of the train data\n",
        "x_test = test.values # Creats an array of the test data"
      ],
      "execution_count": 0,
      "outputs": []
    },
    {
      "cell_type": "code",
      "metadata": {
        "id": "h0POQpkrglHk",
        "colab_type": "code",
        "colab": {}
      },
      "source": [
        "rf_oof_train, rf_oof_test = get_oof(rf,x_train, y_train, x_test) # Random Forest"
      ],
      "execution_count": 0,
      "outputs": []
    },
    {
      "cell_type": "code",
      "metadata": {
        "id": "3kuzwjd9gpPx",
        "colab_type": "code",
        "colab": {}
      },
      "source": [
        ""
      ],
      "execution_count": 0,
      "outputs": []
    }
  ]
}
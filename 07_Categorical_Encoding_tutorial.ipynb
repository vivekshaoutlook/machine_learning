{
  "nbformat": 4,
  "nbformat_minor": 0,
  "metadata": {
    "colab": {
      "name": "07_Categorical Encoding_tutorial.ipynb",
      "provenance": [],
      "collapsed_sections": [],
      "authorship_tag": "ABX9TyMtIiNwDIbIjZd4UCQKpVAJ",
      "include_colab_link": true
    },
    "kernelspec": {
      "name": "python3",
      "display_name": "Python 3"
    }
  },
  "cells": [
    {
      "cell_type": "markdown",
      "metadata": {
        "id": "view-in-github",
        "colab_type": "text"
      },
      "source": [
        "<a href=\"https://colab.research.google.com/github/vivekshaoutlook/machine_learning/blob/master/07_Categorical_Encoding_tutorial.ipynb\" target=\"_parent\"><img src=\"https://colab.research.google.com/assets/colab-badge.svg\" alt=\"Open In Colab\"/></a>"
      ]
    },
    {
      "cell_type": "markdown",
      "metadata": {
        "id": "Ct8AuUUHsZZI",
        "colab_type": "text"
      },
      "source": [
        "In this short crisp example we will learn how to do:\n",
        "\n",
        "\n",
        "*   1.1 OneHot Encoding using Pandas\n",
        "*   1.2 OneHot Encoding using Scikit-Learn\n",
        "*   2.1 Label Encoding using Scikit-Learn\n",
        "*   2.2 Label Encoding using Pandas\n",
        "*   3.1 Ordinal Encoding using Pandas\n",
        "*   3.2 Ordinal Encoding using Scikit-Learn"
      ]
    },
    {
      "cell_type": "code",
      "metadata": {
        "id": "-UUj-WYIsYN-",
        "colab_type": "code",
        "colab": {}
      },
      "source": [
        "import pandas as pd\n",
        "import numpy as np\n",
        "from sklearn.preprocessing import OneHotEncoder,LabelEncoder,OrdinalEncoder"
      ],
      "execution_count": 0,
      "outputs": []
    },
    {
      "cell_type": "code",
      "metadata": {
        "id": "gOnXHrJq9fK-",
        "colab_type": "code",
        "colab": {}
      },
      "source": [
        "dataframe = pd.DataFrame({\"Age\":[20,21,22,23,23,45,43,48,50,60],\n",
        "                         \"Fav_Color\":[\"RED\",\"BLUE\",\"BLUE\",\"GREEEN\",\"YELLOW\",\"GREEEN\",\"RED\",\"BLUE\",\"YELLOW\",\"RED\"],\n",
        "                         \"IQ_Level\":[\"EXCELLENT\",\"AVERAGE\",\"AVERAGE\",\"GOOD\",\"VERY GOOD\",\"EXCELLENT\",\"AVERAGE\",\"AVERAGE\",\"GOOD\",\"VERY GOOD\"]}\n",
        "                         )\n"
      ],
      "execution_count": 0,
      "outputs": []
    },
    {
      "cell_type": "code",
      "metadata": {
        "id": "YCCjKPRW-vKX",
        "colab_type": "code",
        "outputId": "85f41e51-c05f-4d6c-d402-7da8f78ebc87",
        "colab": {
          "base_uri": "https://localhost:8080/",
          "height": 359
        }
      },
      "source": [
        "dataframe"
      ],
      "execution_count": 69,
      "outputs": [
        {
          "output_type": "execute_result",
          "data": {
            "text/html": [
              "<div>\n",
              "<style scoped>\n",
              "    .dataframe tbody tr th:only-of-type {\n",
              "        vertical-align: middle;\n",
              "    }\n",
              "\n",
              "    .dataframe tbody tr th {\n",
              "        vertical-align: top;\n",
              "    }\n",
              "\n",
              "    .dataframe thead th {\n",
              "        text-align: right;\n",
              "    }\n",
              "</style>\n",
              "<table border=\"1\" class=\"dataframe\">\n",
              "  <thead>\n",
              "    <tr style=\"text-align: right;\">\n",
              "      <th></th>\n",
              "      <th>Age</th>\n",
              "      <th>Fav_Color</th>\n",
              "      <th>IQ_Level</th>\n",
              "    </tr>\n",
              "  </thead>\n",
              "  <tbody>\n",
              "    <tr>\n",
              "      <th>0</th>\n",
              "      <td>20</td>\n",
              "      <td>RED</td>\n",
              "      <td>EXCELLENT</td>\n",
              "    </tr>\n",
              "    <tr>\n",
              "      <th>1</th>\n",
              "      <td>21</td>\n",
              "      <td>BLUE</td>\n",
              "      <td>AVERAGE</td>\n",
              "    </tr>\n",
              "    <tr>\n",
              "      <th>2</th>\n",
              "      <td>22</td>\n",
              "      <td>BLUE</td>\n",
              "      <td>AVERAGE</td>\n",
              "    </tr>\n",
              "    <tr>\n",
              "      <th>3</th>\n",
              "      <td>23</td>\n",
              "      <td>GREEEN</td>\n",
              "      <td>GOOD</td>\n",
              "    </tr>\n",
              "    <tr>\n",
              "      <th>4</th>\n",
              "      <td>23</td>\n",
              "      <td>YELLOW</td>\n",
              "      <td>VERY GOOD</td>\n",
              "    </tr>\n",
              "    <tr>\n",
              "      <th>5</th>\n",
              "      <td>45</td>\n",
              "      <td>GREEEN</td>\n",
              "      <td>EXCELLENT</td>\n",
              "    </tr>\n",
              "    <tr>\n",
              "      <th>6</th>\n",
              "      <td>43</td>\n",
              "      <td>RED</td>\n",
              "      <td>AVERAGE</td>\n",
              "    </tr>\n",
              "    <tr>\n",
              "      <th>7</th>\n",
              "      <td>48</td>\n",
              "      <td>BLUE</td>\n",
              "      <td>AVERAGE</td>\n",
              "    </tr>\n",
              "    <tr>\n",
              "      <th>8</th>\n",
              "      <td>50</td>\n",
              "      <td>YELLOW</td>\n",
              "      <td>GOOD</td>\n",
              "    </tr>\n",
              "    <tr>\n",
              "      <th>9</th>\n",
              "      <td>60</td>\n",
              "      <td>RED</td>\n",
              "      <td>VERY GOOD</td>\n",
              "    </tr>\n",
              "  </tbody>\n",
              "</table>\n",
              "</div>"
            ],
            "text/plain": [
              "   Age Fav_Color   IQ_Level\n",
              "0   20       RED  EXCELLENT\n",
              "1   21      BLUE    AVERAGE\n",
              "2   22      BLUE    AVERAGE\n",
              "3   23    GREEEN       GOOD\n",
              "4   23    YELLOW  VERY GOOD\n",
              "5   45    GREEEN  EXCELLENT\n",
              "6   43       RED    AVERAGE\n",
              "7   48      BLUE    AVERAGE\n",
              "8   50    YELLOW       GOOD\n",
              "9   60       RED  VERY GOOD"
            ]
          },
          "metadata": {
            "tags": []
          },
          "execution_count": 69
        }
      ]
    },
    {
      "cell_type": "code",
      "metadata": {
        "id": "016BT6Ih-wvC",
        "colab_type": "code",
        "outputId": "10e58694-36dc-4031-d449-169b889cc304",
        "colab": {
          "base_uri": "https://localhost:8080/",
          "height": 153
        }
      },
      "source": [
        "dataframe.info()"
      ],
      "execution_count": 70,
      "outputs": [
        {
          "output_type": "stream",
          "text": [
            "<class 'pandas.core.frame.DataFrame'>\n",
            "RangeIndex: 10 entries, 0 to 9\n",
            "Data columns (total 3 columns):\n",
            "Age          10 non-null int64\n",
            "Fav_Color    10 non-null object\n",
            "IQ_Level     10 non-null object\n",
            "dtypes: int64(1), object(2)\n",
            "memory usage: 368.0+ bytes\n"
          ],
          "name": "stdout"
        }
      ]
    },
    {
      "cell_type": "markdown",
      "metadata": {
        "id": "1RABHqJm_L-S",
        "colab_type": "text"
      },
      "source": [
        "As we can see above, there are two object type columns - \"FavColor\" and \"IQLevel\".Closer (actually a quick) examination tells us that IQLevel values can be comapred among themselves: AVERAGE<GOOD<VERY GOOD<EXCELLENT.So FavColor is Ordinal.('O' for order among values and 'O' for Ordinal, that's how i remember it)\n",
        "\n",
        "\n",
        "\n"
      ]
    },
    {
      "cell_type": "markdown",
      "metadata": {
        "id": "S8Zp-URSnwO1",
        "colab_type": "text"
      },
      "source": [
        "# SECTION1:ONE HOT ENCODING"
      ]
    },
    {
      "cell_type": "markdown",
      "metadata": {
        "id": "ElbV9k7yn62h",
        "colab_type": "text"
      },
      "source": [
        "1.1 OneHot Encoding using Pandas"
      ]
    },
    {
      "cell_type": "code",
      "metadata": {
        "id": "X9l0pgR-_F7R",
        "colab_type": "code",
        "colab": {}
      },
      "source": [
        "#we use pandas get_dummies() method which returns an one-hot-encoded dataframe without the original column on which the\n",
        "#one-hot-encoding was applied. The other columns of original \"dataframe\" are also retained\n",
        "dataframe_onehot_pd = pd.get_dummies(prefix=[\"Fav_Color\"],columns=[\"Fav_Color\"],data=dataframe)"
      ],
      "execution_count": 0,
      "outputs": []
    },
    {
      "cell_type": "markdown",
      "metadata": {
        "id": "-IokOY10BVjH",
        "colab_type": "text"
      },
      "source": [
        "Note that the original column-\"**FavColor**\"-on which we applied One Hot has not been included in the new dataframe that was created during One Hot Encoding - **dataframe_onehot_pd**. In case we are interested in retaining that column in dataframe_onehot_pd, we need to specifically do that"
      ]
    },
    {
      "cell_type": "code",
      "metadata": {
        "id": "OILAEaLbBQx1",
        "colab_type": "code",
        "colab": {}
      },
      "source": [
        "dataframe_onehot_pd[\"Fav_Color\"] = dataframe[\"Fav_Color\"]"
      ],
      "execution_count": 0,
      "outputs": []
    },
    {
      "cell_type": "code",
      "metadata": {
        "id": "5KUj5hCdDHzX",
        "colab_type": "code",
        "outputId": "7d84e1a7-108c-45c9-b1a8-e5e6cd33618e",
        "colab": {
          "base_uri": "https://localhost:8080/",
          "height": 359
        }
      },
      "source": [
        "dataframe_onehot_pd"
      ],
      "execution_count": 73,
      "outputs": [
        {
          "output_type": "execute_result",
          "data": {
            "text/html": [
              "<div>\n",
              "<style scoped>\n",
              "    .dataframe tbody tr th:only-of-type {\n",
              "        vertical-align: middle;\n",
              "    }\n",
              "\n",
              "    .dataframe tbody tr th {\n",
              "        vertical-align: top;\n",
              "    }\n",
              "\n",
              "    .dataframe thead th {\n",
              "        text-align: right;\n",
              "    }\n",
              "</style>\n",
              "<table border=\"1\" class=\"dataframe\">\n",
              "  <thead>\n",
              "    <tr style=\"text-align: right;\">\n",
              "      <th></th>\n",
              "      <th>Age</th>\n",
              "      <th>IQ_Level</th>\n",
              "      <th>Fav_Color_BLUE</th>\n",
              "      <th>Fav_Color_GREEEN</th>\n",
              "      <th>Fav_Color_RED</th>\n",
              "      <th>Fav_Color_YELLOW</th>\n",
              "      <th>Fav_Color</th>\n",
              "    </tr>\n",
              "  </thead>\n",
              "  <tbody>\n",
              "    <tr>\n",
              "      <th>0</th>\n",
              "      <td>20</td>\n",
              "      <td>EXCELLENT</td>\n",
              "      <td>0</td>\n",
              "      <td>0</td>\n",
              "      <td>1</td>\n",
              "      <td>0</td>\n",
              "      <td>RED</td>\n",
              "    </tr>\n",
              "    <tr>\n",
              "      <th>1</th>\n",
              "      <td>21</td>\n",
              "      <td>AVERAGE</td>\n",
              "      <td>1</td>\n",
              "      <td>0</td>\n",
              "      <td>0</td>\n",
              "      <td>0</td>\n",
              "      <td>BLUE</td>\n",
              "    </tr>\n",
              "    <tr>\n",
              "      <th>2</th>\n",
              "      <td>22</td>\n",
              "      <td>AVERAGE</td>\n",
              "      <td>1</td>\n",
              "      <td>0</td>\n",
              "      <td>0</td>\n",
              "      <td>0</td>\n",
              "      <td>BLUE</td>\n",
              "    </tr>\n",
              "    <tr>\n",
              "      <th>3</th>\n",
              "      <td>23</td>\n",
              "      <td>GOOD</td>\n",
              "      <td>0</td>\n",
              "      <td>1</td>\n",
              "      <td>0</td>\n",
              "      <td>0</td>\n",
              "      <td>GREEEN</td>\n",
              "    </tr>\n",
              "    <tr>\n",
              "      <th>4</th>\n",
              "      <td>23</td>\n",
              "      <td>VERY GOOD</td>\n",
              "      <td>0</td>\n",
              "      <td>0</td>\n",
              "      <td>0</td>\n",
              "      <td>1</td>\n",
              "      <td>YELLOW</td>\n",
              "    </tr>\n",
              "    <tr>\n",
              "      <th>5</th>\n",
              "      <td>45</td>\n",
              "      <td>EXCELLENT</td>\n",
              "      <td>0</td>\n",
              "      <td>1</td>\n",
              "      <td>0</td>\n",
              "      <td>0</td>\n",
              "      <td>GREEEN</td>\n",
              "    </tr>\n",
              "    <tr>\n",
              "      <th>6</th>\n",
              "      <td>43</td>\n",
              "      <td>AVERAGE</td>\n",
              "      <td>0</td>\n",
              "      <td>0</td>\n",
              "      <td>1</td>\n",
              "      <td>0</td>\n",
              "      <td>RED</td>\n",
              "    </tr>\n",
              "    <tr>\n",
              "      <th>7</th>\n",
              "      <td>48</td>\n",
              "      <td>AVERAGE</td>\n",
              "      <td>1</td>\n",
              "      <td>0</td>\n",
              "      <td>0</td>\n",
              "      <td>0</td>\n",
              "      <td>BLUE</td>\n",
              "    </tr>\n",
              "    <tr>\n",
              "      <th>8</th>\n",
              "      <td>50</td>\n",
              "      <td>GOOD</td>\n",
              "      <td>0</td>\n",
              "      <td>0</td>\n",
              "      <td>0</td>\n",
              "      <td>1</td>\n",
              "      <td>YELLOW</td>\n",
              "    </tr>\n",
              "    <tr>\n",
              "      <th>9</th>\n",
              "      <td>60</td>\n",
              "      <td>VERY GOOD</td>\n",
              "      <td>0</td>\n",
              "      <td>0</td>\n",
              "      <td>1</td>\n",
              "      <td>0</td>\n",
              "      <td>RED</td>\n",
              "    </tr>\n",
              "  </tbody>\n",
              "</table>\n",
              "</div>"
            ],
            "text/plain": [
              "   Age   IQ_Level  Fav_Color_BLUE  ...  Fav_Color_RED  Fav_Color_YELLOW  Fav_Color\n",
              "0   20  EXCELLENT               0  ...              1                 0        RED\n",
              "1   21    AVERAGE               1  ...              0                 0       BLUE\n",
              "2   22    AVERAGE               1  ...              0                 0       BLUE\n",
              "3   23       GOOD               0  ...              0                 0     GREEEN\n",
              "4   23  VERY GOOD               0  ...              0                 1     YELLOW\n",
              "5   45  EXCELLENT               0  ...              0                 0     GREEEN\n",
              "6   43    AVERAGE               0  ...              1                 0        RED\n",
              "7   48    AVERAGE               1  ...              0                 0       BLUE\n",
              "8   50       GOOD               0  ...              0                 1     YELLOW\n",
              "9   60  VERY GOOD               0  ...              1                 0        RED\n",
              "\n",
              "[10 rows x 7 columns]"
            ]
          },
          "metadata": {
            "tags": []
          },
          "execution_count": 73
        }
      ]
    },
    {
      "cell_type": "markdown",
      "metadata": {
        "id": "_H7bY2cdEYrV",
        "colab_type": "text"
      },
      "source": [
        "1.2 OneHot Encoding using Scikit-Learn"
      ]
    },
    {
      "cell_type": "code",
      "metadata": {
        "id": "z_zELKayDJCe",
        "colab_type": "code",
        "colab": {}
      },
      "source": [
        "oh_instance = OneHotEncoder()\n",
        "#fit_transform expects a 2d-array. \".values\" converts the panda Series to an 1-d array.\".reshape\" converts it into 2d array with 1 column.So now\n",
        "#that we have 2d array, the fit_transform is applied on it and we get a \"sparse matrix\" which consumes less memory.\n",
        "#However, we need to convert this sparse matrix to a dense 2d numpy array by calling \"toarray()\"\n",
        "one_hot = oh_instance.fit_transform(dataframe[\"Fav_Color\"].values.reshape(-1,1)).toarray()\n",
        "#we got a 2d array but the column header is still missing. we can get the column header from: oh_instance.categories_.\n",
        "#oh_instance.categories_ returns a list with only one element which is an array of number of categories (i.e.RED,GREEN,BLUE,YELLOW,GREEN) .\n",
        "#oh_instance.categories_[0] returns this whole array and oh_instance.categories_[0][i] accesses each element of this array so that column headers\n",
        "#can be created\n",
        "dataframe_onehot_sk = pd.DataFrame(one_hot,columns=[\"Fav_Color_\"+str(oh_instance.categories_[0][i]) for i in range(len(oh_instance.categories_[0]))])\n",
        "#dataframe_onehot_sk only has the new columns created during one hot encoding. Normally we want these columns to be added back to the original\n",
        "#dataframe. (however, here i am doing the opposite (i.e. adding original dataframe columns to dataframe_onehot_sk) since I need dataframe in its original form for showing other encoding techniques)\n",
        "dataframe_onehot_sk = pd.concat([dataframe,dataframe_onehot_sk],axis=1)"
      ],
      "execution_count": 0,
      "outputs": []
    },
    {
      "cell_type": "code",
      "metadata": {
        "id": "DELWYHbkFDIm",
        "colab_type": "code",
        "outputId": "08303495-40cc-467b-d8f8-3e83f4e99c37",
        "colab": {
          "base_uri": "https://localhost:8080/",
          "height": 359
        }
      },
      "source": [
        "dataframe_onehot_sk"
      ],
      "execution_count": 75,
      "outputs": [
        {
          "output_type": "execute_result",
          "data": {
            "text/html": [
              "<div>\n",
              "<style scoped>\n",
              "    .dataframe tbody tr th:only-of-type {\n",
              "        vertical-align: middle;\n",
              "    }\n",
              "\n",
              "    .dataframe tbody tr th {\n",
              "        vertical-align: top;\n",
              "    }\n",
              "\n",
              "    .dataframe thead th {\n",
              "        text-align: right;\n",
              "    }\n",
              "</style>\n",
              "<table border=\"1\" class=\"dataframe\">\n",
              "  <thead>\n",
              "    <tr style=\"text-align: right;\">\n",
              "      <th></th>\n",
              "      <th>Age</th>\n",
              "      <th>Fav_Color</th>\n",
              "      <th>IQ_Level</th>\n",
              "      <th>Fav_Color_BLUE</th>\n",
              "      <th>Fav_Color_GREEEN</th>\n",
              "      <th>Fav_Color_RED</th>\n",
              "      <th>Fav_Color_YELLOW</th>\n",
              "    </tr>\n",
              "  </thead>\n",
              "  <tbody>\n",
              "    <tr>\n",
              "      <th>0</th>\n",
              "      <td>20</td>\n",
              "      <td>RED</td>\n",
              "      <td>EXCELLENT</td>\n",
              "      <td>0.0</td>\n",
              "      <td>0.0</td>\n",
              "      <td>1.0</td>\n",
              "      <td>0.0</td>\n",
              "    </tr>\n",
              "    <tr>\n",
              "      <th>1</th>\n",
              "      <td>21</td>\n",
              "      <td>BLUE</td>\n",
              "      <td>AVERAGE</td>\n",
              "      <td>1.0</td>\n",
              "      <td>0.0</td>\n",
              "      <td>0.0</td>\n",
              "      <td>0.0</td>\n",
              "    </tr>\n",
              "    <tr>\n",
              "      <th>2</th>\n",
              "      <td>22</td>\n",
              "      <td>BLUE</td>\n",
              "      <td>AVERAGE</td>\n",
              "      <td>1.0</td>\n",
              "      <td>0.0</td>\n",
              "      <td>0.0</td>\n",
              "      <td>0.0</td>\n",
              "    </tr>\n",
              "    <tr>\n",
              "      <th>3</th>\n",
              "      <td>23</td>\n",
              "      <td>GREEEN</td>\n",
              "      <td>GOOD</td>\n",
              "      <td>0.0</td>\n",
              "      <td>1.0</td>\n",
              "      <td>0.0</td>\n",
              "      <td>0.0</td>\n",
              "    </tr>\n",
              "    <tr>\n",
              "      <th>4</th>\n",
              "      <td>23</td>\n",
              "      <td>YELLOW</td>\n",
              "      <td>VERY GOOD</td>\n",
              "      <td>0.0</td>\n",
              "      <td>0.0</td>\n",
              "      <td>0.0</td>\n",
              "      <td>1.0</td>\n",
              "    </tr>\n",
              "    <tr>\n",
              "      <th>5</th>\n",
              "      <td>45</td>\n",
              "      <td>GREEEN</td>\n",
              "      <td>EXCELLENT</td>\n",
              "      <td>0.0</td>\n",
              "      <td>1.0</td>\n",
              "      <td>0.0</td>\n",
              "      <td>0.0</td>\n",
              "    </tr>\n",
              "    <tr>\n",
              "      <th>6</th>\n",
              "      <td>43</td>\n",
              "      <td>RED</td>\n",
              "      <td>AVERAGE</td>\n",
              "      <td>0.0</td>\n",
              "      <td>0.0</td>\n",
              "      <td>1.0</td>\n",
              "      <td>0.0</td>\n",
              "    </tr>\n",
              "    <tr>\n",
              "      <th>7</th>\n",
              "      <td>48</td>\n",
              "      <td>BLUE</td>\n",
              "      <td>AVERAGE</td>\n",
              "      <td>1.0</td>\n",
              "      <td>0.0</td>\n",
              "      <td>0.0</td>\n",
              "      <td>0.0</td>\n",
              "    </tr>\n",
              "    <tr>\n",
              "      <th>8</th>\n",
              "      <td>50</td>\n",
              "      <td>YELLOW</td>\n",
              "      <td>GOOD</td>\n",
              "      <td>0.0</td>\n",
              "      <td>0.0</td>\n",
              "      <td>0.0</td>\n",
              "      <td>1.0</td>\n",
              "    </tr>\n",
              "    <tr>\n",
              "      <th>9</th>\n",
              "      <td>60</td>\n",
              "      <td>RED</td>\n",
              "      <td>VERY GOOD</td>\n",
              "      <td>0.0</td>\n",
              "      <td>0.0</td>\n",
              "      <td>1.0</td>\n",
              "      <td>0.0</td>\n",
              "    </tr>\n",
              "  </tbody>\n",
              "</table>\n",
              "</div>"
            ],
            "text/plain": [
              "   Age Fav_Color   IQ_Level  ...  Fav_Color_GREEEN  Fav_Color_RED  Fav_Color_YELLOW\n",
              "0   20       RED  EXCELLENT  ...               0.0            1.0               0.0\n",
              "1   21      BLUE    AVERAGE  ...               0.0            0.0               0.0\n",
              "2   22      BLUE    AVERAGE  ...               0.0            0.0               0.0\n",
              "3   23    GREEEN       GOOD  ...               1.0            0.0               0.0\n",
              "4   23    YELLOW  VERY GOOD  ...               0.0            0.0               1.0\n",
              "5   45    GREEEN  EXCELLENT  ...               1.0            0.0               0.0\n",
              "6   43       RED    AVERAGE  ...               0.0            1.0               0.0\n",
              "7   48      BLUE    AVERAGE  ...               0.0            0.0               0.0\n",
              "8   50    YELLOW       GOOD  ...               0.0            0.0               1.0\n",
              "9   60       RED  VERY GOOD  ...               0.0            1.0               0.0\n",
              "\n",
              "[10 rows x 7 columns]"
            ]
          },
          "metadata": {
            "tags": []
          },
          "execution_count": 75
        }
      ]
    },
    {
      "cell_type": "code",
      "metadata": {
        "id": "hlHQ33EiFkqA",
        "colab_type": "code",
        "outputId": "404c0d1e-13b6-4f83-b932-546cad04af45",
        "colab": {
          "base_uri": "https://localhost:8080/",
          "height": 34
        }
      },
      "source": [
        "print(oh_instance.categories_[0].shape)"
      ],
      "execution_count": 76,
      "outputs": [
        {
          "output_type": "stream",
          "text": [
            "(4,)\n"
          ],
          "name": "stdout"
        }
      ]
    },
    {
      "cell_type": "code",
      "metadata": {
        "id": "3IDH2AjAGHsA",
        "colab_type": "code",
        "colab": {}
      },
      "source": [
        ""
      ],
      "execution_count": 0,
      "outputs": []
    },
    {
      "cell_type": "markdown",
      "metadata": {
        "id": "0y7ORm_FlMo4",
        "colab_type": "text"
      },
      "source": [
        "# SECTION2:LABEL ENCODING "
      ]
    },
    {
      "cell_type": "markdown",
      "metadata": {
        "id": "VpumnQihilE5",
        "colab_type": "text"
      },
      "source": [
        "2.1 Label Encoding using Scikit-Learn"
      ]
    },
    {
      "cell_type": "code",
      "metadata": {
        "id": "nYHqanAolQFJ",
        "colab_type": "code",
        "outputId": "378464e9-0260-421f-ff5c-52c92fb97218",
        "colab": {
          "base_uri": "https://localhost:8080/",
          "height": 359
        }
      },
      "source": [
        "#returns a normal 1d numpy array\n",
        "dataframe_labelenc_array = LabelEncoder().fit_transform(dataframe[\"IQ_Level\"])\n",
        "#Create a dataframe out of the array and add a column header\n",
        "dataframe_IQ_Level = pd.DataFrame(dataframe_labelenc_array,columns=[\"Label_Encoded\"])\n",
        "#add the above one-column Dataframe to the original \"dataframe\"\n",
        "dataframe_labelenc_sk = pd.concat([dataframe,dataframe_IQ_Level],axis=1)\n",
        "dataframe_labelenc_sk\n"
      ],
      "execution_count": 77,
      "outputs": [
        {
          "output_type": "execute_result",
          "data": {
            "text/html": [
              "<div>\n",
              "<style scoped>\n",
              "    .dataframe tbody tr th:only-of-type {\n",
              "        vertical-align: middle;\n",
              "    }\n",
              "\n",
              "    .dataframe tbody tr th {\n",
              "        vertical-align: top;\n",
              "    }\n",
              "\n",
              "    .dataframe thead th {\n",
              "        text-align: right;\n",
              "    }\n",
              "</style>\n",
              "<table border=\"1\" class=\"dataframe\">\n",
              "  <thead>\n",
              "    <tr style=\"text-align: right;\">\n",
              "      <th></th>\n",
              "      <th>Age</th>\n",
              "      <th>Fav_Color</th>\n",
              "      <th>IQ_Level</th>\n",
              "      <th>Label_Encoded</th>\n",
              "    </tr>\n",
              "  </thead>\n",
              "  <tbody>\n",
              "    <tr>\n",
              "      <th>0</th>\n",
              "      <td>20</td>\n",
              "      <td>RED</td>\n",
              "      <td>EXCELLENT</td>\n",
              "      <td>1</td>\n",
              "    </tr>\n",
              "    <tr>\n",
              "      <th>1</th>\n",
              "      <td>21</td>\n",
              "      <td>BLUE</td>\n",
              "      <td>AVERAGE</td>\n",
              "      <td>0</td>\n",
              "    </tr>\n",
              "    <tr>\n",
              "      <th>2</th>\n",
              "      <td>22</td>\n",
              "      <td>BLUE</td>\n",
              "      <td>AVERAGE</td>\n",
              "      <td>0</td>\n",
              "    </tr>\n",
              "    <tr>\n",
              "      <th>3</th>\n",
              "      <td>23</td>\n",
              "      <td>GREEEN</td>\n",
              "      <td>GOOD</td>\n",
              "      <td>2</td>\n",
              "    </tr>\n",
              "    <tr>\n",
              "      <th>4</th>\n",
              "      <td>23</td>\n",
              "      <td>YELLOW</td>\n",
              "      <td>VERY GOOD</td>\n",
              "      <td>3</td>\n",
              "    </tr>\n",
              "    <tr>\n",
              "      <th>5</th>\n",
              "      <td>45</td>\n",
              "      <td>GREEEN</td>\n",
              "      <td>EXCELLENT</td>\n",
              "      <td>1</td>\n",
              "    </tr>\n",
              "    <tr>\n",
              "      <th>6</th>\n",
              "      <td>43</td>\n",
              "      <td>RED</td>\n",
              "      <td>AVERAGE</td>\n",
              "      <td>0</td>\n",
              "    </tr>\n",
              "    <tr>\n",
              "      <th>7</th>\n",
              "      <td>48</td>\n",
              "      <td>BLUE</td>\n",
              "      <td>AVERAGE</td>\n",
              "      <td>0</td>\n",
              "    </tr>\n",
              "    <tr>\n",
              "      <th>8</th>\n",
              "      <td>50</td>\n",
              "      <td>YELLOW</td>\n",
              "      <td>GOOD</td>\n",
              "      <td>2</td>\n",
              "    </tr>\n",
              "    <tr>\n",
              "      <th>9</th>\n",
              "      <td>60</td>\n",
              "      <td>RED</td>\n",
              "      <td>VERY GOOD</td>\n",
              "      <td>3</td>\n",
              "    </tr>\n",
              "  </tbody>\n",
              "</table>\n",
              "</div>"
            ],
            "text/plain": [
              "   Age Fav_Color   IQ_Level  Label_Encoded\n",
              "0   20       RED  EXCELLENT              1\n",
              "1   21      BLUE    AVERAGE              0\n",
              "2   22      BLUE    AVERAGE              0\n",
              "3   23    GREEEN       GOOD              2\n",
              "4   23    YELLOW  VERY GOOD              3\n",
              "5   45    GREEEN  EXCELLENT              1\n",
              "6   43       RED    AVERAGE              0\n",
              "7   48      BLUE    AVERAGE              0\n",
              "8   50    YELLOW       GOOD              2\n",
              "9   60       RED  VERY GOOD              3"
            ]
          },
          "metadata": {
            "tags": []
          },
          "execution_count": 77
        }
      ]
    },
    {
      "cell_type": "markdown",
      "metadata": {
        "id": "PbdCowT3iq_5",
        "colab_type": "text"
      },
      "source": [
        "2.2 Label Encoding using Pandas"
      ]
    },
    {
      "cell_type": "code",
      "metadata": {
        "id": "u7tVfcjFl5Fp",
        "colab_type": "code",
        "outputId": "e9754207-8981-4942-b64c-b7b3bf404d35",
        "colab": {
          "base_uri": "https://localhost:8080/",
          "height": 359
        }
      },
      "source": [
        "#factorize returns a normal tuple with 2 entries which are arrays - the first entry being array of label encoded values\n",
        "dataframe_labelencoded_array = pd.factorize(dataframe[\"IQ_Level\"])[0]\n",
        "#Create a dataframe out of the array and add a column header\n",
        "dataframe_IQ_Lvl = pd.DataFrame(dataframe_labelencoded_array,columns=[\"Label_Encoded\"])\n",
        "#add the above one-column Dataframe to the original \"dataframe\"\n",
        "dataframe_labelenc_pd = pd.concat([dataframe,dataframe_IQ_Lvl],axis=1)\n",
        "dataframe_labelenc_pd"
      ],
      "execution_count": 78,
      "outputs": [
        {
          "output_type": "execute_result",
          "data": {
            "text/html": [
              "<div>\n",
              "<style scoped>\n",
              "    .dataframe tbody tr th:only-of-type {\n",
              "        vertical-align: middle;\n",
              "    }\n",
              "\n",
              "    .dataframe tbody tr th {\n",
              "        vertical-align: top;\n",
              "    }\n",
              "\n",
              "    .dataframe thead th {\n",
              "        text-align: right;\n",
              "    }\n",
              "</style>\n",
              "<table border=\"1\" class=\"dataframe\">\n",
              "  <thead>\n",
              "    <tr style=\"text-align: right;\">\n",
              "      <th></th>\n",
              "      <th>Age</th>\n",
              "      <th>Fav_Color</th>\n",
              "      <th>IQ_Level</th>\n",
              "      <th>Label_Encoded</th>\n",
              "    </tr>\n",
              "  </thead>\n",
              "  <tbody>\n",
              "    <tr>\n",
              "      <th>0</th>\n",
              "      <td>20</td>\n",
              "      <td>RED</td>\n",
              "      <td>EXCELLENT</td>\n",
              "      <td>0</td>\n",
              "    </tr>\n",
              "    <tr>\n",
              "      <th>1</th>\n",
              "      <td>21</td>\n",
              "      <td>BLUE</td>\n",
              "      <td>AVERAGE</td>\n",
              "      <td>1</td>\n",
              "    </tr>\n",
              "    <tr>\n",
              "      <th>2</th>\n",
              "      <td>22</td>\n",
              "      <td>BLUE</td>\n",
              "      <td>AVERAGE</td>\n",
              "      <td>1</td>\n",
              "    </tr>\n",
              "    <tr>\n",
              "      <th>3</th>\n",
              "      <td>23</td>\n",
              "      <td>GREEEN</td>\n",
              "      <td>GOOD</td>\n",
              "      <td>2</td>\n",
              "    </tr>\n",
              "    <tr>\n",
              "      <th>4</th>\n",
              "      <td>23</td>\n",
              "      <td>YELLOW</td>\n",
              "      <td>VERY GOOD</td>\n",
              "      <td>3</td>\n",
              "    </tr>\n",
              "    <tr>\n",
              "      <th>5</th>\n",
              "      <td>45</td>\n",
              "      <td>GREEEN</td>\n",
              "      <td>EXCELLENT</td>\n",
              "      <td>0</td>\n",
              "    </tr>\n",
              "    <tr>\n",
              "      <th>6</th>\n",
              "      <td>43</td>\n",
              "      <td>RED</td>\n",
              "      <td>AVERAGE</td>\n",
              "      <td>1</td>\n",
              "    </tr>\n",
              "    <tr>\n",
              "      <th>7</th>\n",
              "      <td>48</td>\n",
              "      <td>BLUE</td>\n",
              "      <td>AVERAGE</td>\n",
              "      <td>1</td>\n",
              "    </tr>\n",
              "    <tr>\n",
              "      <th>8</th>\n",
              "      <td>50</td>\n",
              "      <td>YELLOW</td>\n",
              "      <td>GOOD</td>\n",
              "      <td>2</td>\n",
              "    </tr>\n",
              "    <tr>\n",
              "      <th>9</th>\n",
              "      <td>60</td>\n",
              "      <td>RED</td>\n",
              "      <td>VERY GOOD</td>\n",
              "      <td>3</td>\n",
              "    </tr>\n",
              "  </tbody>\n",
              "</table>\n",
              "</div>"
            ],
            "text/plain": [
              "   Age Fav_Color   IQ_Level  Label_Encoded\n",
              "0   20       RED  EXCELLENT              0\n",
              "1   21      BLUE    AVERAGE              1\n",
              "2   22      BLUE    AVERAGE              1\n",
              "3   23    GREEEN       GOOD              2\n",
              "4   23    YELLOW  VERY GOOD              3\n",
              "5   45    GREEEN  EXCELLENT              0\n",
              "6   43       RED    AVERAGE              1\n",
              "7   48      BLUE    AVERAGE              1\n",
              "8   50    YELLOW       GOOD              2\n",
              "9   60       RED  VERY GOOD              3"
            ]
          },
          "metadata": {
            "tags": []
          },
          "execution_count": 78
        }
      ]
    },
    {
      "cell_type": "code",
      "metadata": {
        "id": "mq6Evyr5oeLD",
        "colab_type": "code",
        "colab": {}
      },
      "source": [
        ""
      ],
      "execution_count": 0,
      "outputs": []
    },
    {
      "cell_type": "markdown",
      "metadata": {
        "id": "rY0L2OhKpxiO",
        "colab_type": "text"
      },
      "source": [
        "# SECTION3:ORDINAL ENCODING "
      ]
    },
    {
      "cell_type": "markdown",
      "metadata": {
        "id": "vR3Lbgd3i24Z",
        "colab_type": "text"
      },
      "source": [
        "3.1 Ordinal Encoding using Pandas"
      ]
    },
    {
      "cell_type": "code",
      "metadata": {
        "id": "fBUbpLhmp0qG",
        "colab_type": "code",
        "outputId": "250c2b42-7042-4d08-ae09-e697dc735be0",
        "colab": {
          "base_uri": "https://localhost:8080/",
          "height": 359
        }
      },
      "source": [
        "label_encode_mapping = {\"AVERAGE\":0,\"GOOD\":1,\"VERY GOOD\":2,\"EXCELLENT\":3}\n",
        "series_ordinalenc_pd = dataframe[\"IQ_Level\"].map(label_encode_mapping)\n",
        "#We got a Series. so,let's change the column header by creating a DataFrame from Series (otherwise the new ordinal \n",
        "#encoded column will also have name as \"IQ_Level\")\n",
        "dataframe_ordinalenc_pd = pd.DataFrame(series_ordinalenc_pd.values,columns=[\"IQ_Level_ord_enc\"])\n",
        "dataframe_ordinalenc_pd = pd.concat([dataframe,dataframe_ordinalenc_pd],axis=1)\n",
        "dataframe_ordinalenc_pd\n"
      ],
      "execution_count": 79,
      "outputs": [
        {
          "output_type": "execute_result",
          "data": {
            "text/html": [
              "<div>\n",
              "<style scoped>\n",
              "    .dataframe tbody tr th:only-of-type {\n",
              "        vertical-align: middle;\n",
              "    }\n",
              "\n",
              "    .dataframe tbody tr th {\n",
              "        vertical-align: top;\n",
              "    }\n",
              "\n",
              "    .dataframe thead th {\n",
              "        text-align: right;\n",
              "    }\n",
              "</style>\n",
              "<table border=\"1\" class=\"dataframe\">\n",
              "  <thead>\n",
              "    <tr style=\"text-align: right;\">\n",
              "      <th></th>\n",
              "      <th>Age</th>\n",
              "      <th>Fav_Color</th>\n",
              "      <th>IQ_Level</th>\n",
              "      <th>IQ_Level_ord_enc</th>\n",
              "    </tr>\n",
              "  </thead>\n",
              "  <tbody>\n",
              "    <tr>\n",
              "      <th>0</th>\n",
              "      <td>20</td>\n",
              "      <td>RED</td>\n",
              "      <td>EXCELLENT</td>\n",
              "      <td>3</td>\n",
              "    </tr>\n",
              "    <tr>\n",
              "      <th>1</th>\n",
              "      <td>21</td>\n",
              "      <td>BLUE</td>\n",
              "      <td>AVERAGE</td>\n",
              "      <td>0</td>\n",
              "    </tr>\n",
              "    <tr>\n",
              "      <th>2</th>\n",
              "      <td>22</td>\n",
              "      <td>BLUE</td>\n",
              "      <td>AVERAGE</td>\n",
              "      <td>0</td>\n",
              "    </tr>\n",
              "    <tr>\n",
              "      <th>3</th>\n",
              "      <td>23</td>\n",
              "      <td>GREEEN</td>\n",
              "      <td>GOOD</td>\n",
              "      <td>1</td>\n",
              "    </tr>\n",
              "    <tr>\n",
              "      <th>4</th>\n",
              "      <td>23</td>\n",
              "      <td>YELLOW</td>\n",
              "      <td>VERY GOOD</td>\n",
              "      <td>2</td>\n",
              "    </tr>\n",
              "    <tr>\n",
              "      <th>5</th>\n",
              "      <td>45</td>\n",
              "      <td>GREEEN</td>\n",
              "      <td>EXCELLENT</td>\n",
              "      <td>3</td>\n",
              "    </tr>\n",
              "    <tr>\n",
              "      <th>6</th>\n",
              "      <td>43</td>\n",
              "      <td>RED</td>\n",
              "      <td>AVERAGE</td>\n",
              "      <td>0</td>\n",
              "    </tr>\n",
              "    <tr>\n",
              "      <th>7</th>\n",
              "      <td>48</td>\n",
              "      <td>BLUE</td>\n",
              "      <td>AVERAGE</td>\n",
              "      <td>0</td>\n",
              "    </tr>\n",
              "    <tr>\n",
              "      <th>8</th>\n",
              "      <td>50</td>\n",
              "      <td>YELLOW</td>\n",
              "      <td>GOOD</td>\n",
              "      <td>1</td>\n",
              "    </tr>\n",
              "    <tr>\n",
              "      <th>9</th>\n",
              "      <td>60</td>\n",
              "      <td>RED</td>\n",
              "      <td>VERY GOOD</td>\n",
              "      <td>2</td>\n",
              "    </tr>\n",
              "  </tbody>\n",
              "</table>\n",
              "</div>"
            ],
            "text/plain": [
              "   Age Fav_Color   IQ_Level  IQ_Level_ord_enc\n",
              "0   20       RED  EXCELLENT                 3\n",
              "1   21      BLUE    AVERAGE                 0\n",
              "2   22      BLUE    AVERAGE                 0\n",
              "3   23    GREEEN       GOOD                 1\n",
              "4   23    YELLOW  VERY GOOD                 2\n",
              "5   45    GREEEN  EXCELLENT                 3\n",
              "6   43       RED    AVERAGE                 0\n",
              "7   48      BLUE    AVERAGE                 0\n",
              "8   50    YELLOW       GOOD                 1\n",
              "9   60       RED  VERY GOOD                 2"
            ]
          },
          "metadata": {
            "tags": []
          },
          "execution_count": 79
        }
      ]
    },
    {
      "cell_type": "markdown",
      "metadata": {
        "id": "BINWo2RZjUnj",
        "colab_type": "text"
      },
      "source": [
        "3.2 Ordinal Encoding using Pandas"
      ]
    },
    {
      "cell_type": "code",
      "metadata": {
        "id": "TutgS3HTrjN7",
        "colab_type": "code",
        "colab": {}
      },
      "source": [
        "#since fit_tranform() accepts a 2d array, we could have either done: dataframe[\"IQ_Level\"].values.reshape(-1,1) and then applied\n",
        "#toarray(), the way we did earlier, or we can do dataframe[[\"IQ_Level\"]] which is a DataFrame and hence is 2d. the fit_transform()\n",
        "#returns a 2d array\n",
        "label_encoded_2darray = OrdinalEncoder().fit_transform(dataframe[[\"IQ_Level\"]])\n",
        "#Let's convert this 2d-array to a DataFrame\n",
        "dataframe_label_encoded = pd.DataFrame(label_encoded_2darray.astype(int),columns=[\"IQ_Level_ord_enc\"])\n",
        "dataframe_label_encoded = pd.concat([dataframe,dataframe_label_encoded],axis=1)\n"
      ],
      "execution_count": 0,
      "outputs": []
    },
    {
      "cell_type": "code",
      "metadata": {
        "id": "DL4Txq52v9T9",
        "colab_type": "code",
        "colab": {
          "base_uri": "https://localhost:8080/",
          "height": 359
        },
        "outputId": "7683b5a7-072d-41f3-f426-d94cc85af8fc"
      },
      "source": [
        "dataframe_label_encoded"
      ],
      "execution_count": 81,
      "outputs": [
        {
          "output_type": "execute_result",
          "data": {
            "text/html": [
              "<div>\n",
              "<style scoped>\n",
              "    .dataframe tbody tr th:only-of-type {\n",
              "        vertical-align: middle;\n",
              "    }\n",
              "\n",
              "    .dataframe tbody tr th {\n",
              "        vertical-align: top;\n",
              "    }\n",
              "\n",
              "    .dataframe thead th {\n",
              "        text-align: right;\n",
              "    }\n",
              "</style>\n",
              "<table border=\"1\" class=\"dataframe\">\n",
              "  <thead>\n",
              "    <tr style=\"text-align: right;\">\n",
              "      <th></th>\n",
              "      <th>Age</th>\n",
              "      <th>Fav_Color</th>\n",
              "      <th>IQ_Level</th>\n",
              "      <th>IQ_Level_ord_enc</th>\n",
              "    </tr>\n",
              "  </thead>\n",
              "  <tbody>\n",
              "    <tr>\n",
              "      <th>0</th>\n",
              "      <td>20</td>\n",
              "      <td>RED</td>\n",
              "      <td>EXCELLENT</td>\n",
              "      <td>1</td>\n",
              "    </tr>\n",
              "    <tr>\n",
              "      <th>1</th>\n",
              "      <td>21</td>\n",
              "      <td>BLUE</td>\n",
              "      <td>AVERAGE</td>\n",
              "      <td>0</td>\n",
              "    </tr>\n",
              "    <tr>\n",
              "      <th>2</th>\n",
              "      <td>22</td>\n",
              "      <td>BLUE</td>\n",
              "      <td>AVERAGE</td>\n",
              "      <td>0</td>\n",
              "    </tr>\n",
              "    <tr>\n",
              "      <th>3</th>\n",
              "      <td>23</td>\n",
              "      <td>GREEEN</td>\n",
              "      <td>GOOD</td>\n",
              "      <td>2</td>\n",
              "    </tr>\n",
              "    <tr>\n",
              "      <th>4</th>\n",
              "      <td>23</td>\n",
              "      <td>YELLOW</td>\n",
              "      <td>VERY GOOD</td>\n",
              "      <td>3</td>\n",
              "    </tr>\n",
              "    <tr>\n",
              "      <th>5</th>\n",
              "      <td>45</td>\n",
              "      <td>GREEEN</td>\n",
              "      <td>EXCELLENT</td>\n",
              "      <td>1</td>\n",
              "    </tr>\n",
              "    <tr>\n",
              "      <th>6</th>\n",
              "      <td>43</td>\n",
              "      <td>RED</td>\n",
              "      <td>AVERAGE</td>\n",
              "      <td>0</td>\n",
              "    </tr>\n",
              "    <tr>\n",
              "      <th>7</th>\n",
              "      <td>48</td>\n",
              "      <td>BLUE</td>\n",
              "      <td>AVERAGE</td>\n",
              "      <td>0</td>\n",
              "    </tr>\n",
              "    <tr>\n",
              "      <th>8</th>\n",
              "      <td>50</td>\n",
              "      <td>YELLOW</td>\n",
              "      <td>GOOD</td>\n",
              "      <td>2</td>\n",
              "    </tr>\n",
              "    <tr>\n",
              "      <th>9</th>\n",
              "      <td>60</td>\n",
              "      <td>RED</td>\n",
              "      <td>VERY GOOD</td>\n",
              "      <td>3</td>\n",
              "    </tr>\n",
              "  </tbody>\n",
              "</table>\n",
              "</div>"
            ],
            "text/plain": [
              "   Age Fav_Color   IQ_Level  IQ_Level_ord_enc\n",
              "0   20       RED  EXCELLENT                 1\n",
              "1   21      BLUE    AVERAGE                 0\n",
              "2   22      BLUE    AVERAGE                 0\n",
              "3   23    GREEEN       GOOD                 2\n",
              "4   23    YELLOW  VERY GOOD                 3\n",
              "5   45    GREEEN  EXCELLENT                 1\n",
              "6   43       RED    AVERAGE                 0\n",
              "7   48      BLUE    AVERAGE                 0\n",
              "8   50    YELLOW       GOOD                 2\n",
              "9   60       RED  VERY GOOD                 3"
            ]
          },
          "metadata": {
            "tags": []
          },
          "execution_count": 81
        }
      ]
    },
    {
      "cell_type": "code",
      "metadata": {
        "id": "b_UI1MOsmGWn",
        "colab_type": "code",
        "colab": {}
      },
      "source": [
        ""
      ],
      "execution_count": 0,
      "outputs": []
    }
  ]
}
{
  "nbformat": 4,
  "nbformat_minor": 0,
  "metadata": {
    "colab": {
      "name": "01_CalCOFI.ipynb",
      "provenance": [],
      "collapsed_sections": [],
      "include_colab_link": true
    },
    "kernelspec": {
      "name": "python3",
      "display_name": "Python 3"
    }
  },
  "cells": [
    {
      "cell_type": "markdown",
      "metadata": {
        "id": "view-in-github",
        "colab_type": "text"
      },
      "source": [
        "<a href=\"https://colab.research.google.com/github/vivekshaoutlook/machine_learning/blob/master/01_CalCOFI.ipynb\" target=\"_parent\"><img src=\"https://colab.research.google.com/assets/colab-badge.svg\" alt=\"Open In Colab\"/></a>"
      ]
    },
    {
      "cell_type": "code",
      "metadata": {
        "id": "pZRrMWO1Z4UA",
        "colab_type": "code",
        "colab": {}
      },
      "source": [
        "#CalCOFI - California Cooperative Oceanic Fisheries Investigations.\n",
        "\n",
        "from google.colab import drive\n",
        "import pandas as pd\n",
        "import numpy as np\n",
        "from sklearn.model_selection import train_test_split\n",
        "import matplotlib.pyplot as plt\n",
        "import seaborn as sns\n",
        "from sklearn.impute import SimpleImputer\n",
        "from sklearn.pipeline import Pipeline\n",
        "from sklearn.linear_model import LinearRegression\n",
        "from sklearn.tree import DecisionTreeRegressor\n",
        "from sklearn.ensemble import RandomForestRegressor\n",
        "from sklearn.metrics import mean_squared_error\n",
        "from sklearn.model_selection import cross_val_score\n",
        "\n"
      ],
      "execution_count": 0,
      "outputs": []
    },
    {
      "cell_type": "code",
      "metadata": {
        "id": "E2wn9jr3bLAH",
        "colab_type": "code",
        "outputId": "75f3cbe9-c2c5-48ee-bd01-4c4bb8092d05",
        "colab": {
          "base_uri": "https://localhost:8080/",
          "height": 35
        }
      },
      "source": [
        "drive.mount('/content/drive')"
      ],
      "execution_count": 0,
      "outputs": [
        {
          "output_type": "stream",
          "text": [
            "Drive already mounted at /content/drive; to attempt to forcibly remount, call drive.mount(\"/content/drive\", force_remount=True).\n"
          ],
          "name": "stdout"
        }
      ]
    },
    {
      "cell_type": "code",
      "metadata": {
        "id": "u7gjpmYQbMgz",
        "colab_type": "code",
        "outputId": "22151a27-1090-4f69-d839-616720cf15d6",
        "colab": {
          "base_uri": "https://localhost:8080/",
          "height": 72
        }
      },
      "source": [
        "bottle = pd.read_csv(\"/content/drive/My Drive/bottle.csv\")"
      ],
      "execution_count": 0,
      "outputs": [
        {
          "output_type": "stream",
          "text": [
            "/usr/local/lib/python3.6/dist-packages/IPython/core/interactiveshell.py:2718: DtypeWarning: Columns (47,73) have mixed types. Specify dtype option on import or set low_memory=False.\n",
            "  interactivity=interactivity, compiler=compiler, result=result)\n"
          ],
          "name": "stderr"
        }
      ]
    },
    {
      "cell_type": "code",
      "metadata": {
        "id": "7Dcwes1Ofuba",
        "colab_type": "code",
        "colab": {}
      },
      "source": [
        "bottle.head()"
      ],
      "execution_count": 0,
      "outputs": []
    },
    {
      "cell_type": "code",
      "metadata": {
        "id": "nrkVGkeEf6pL",
        "colab_type": "code",
        "colab": {}
      },
      "source": [
        "bottle.info()"
      ],
      "execution_count": 0,
      "outputs": []
    },
    {
      "cell_type": "code",
      "metadata": {
        "id": "RH0iBRWYgDH6",
        "colab_type": "code",
        "outputId": "c13d1dac-6a21-480b-ff0a-7913133e7308",
        "colab": {
          "base_uri": "https://localhost:8080/",
          "height": 260
        }
      },
      "source": [
        "#for retrieving multiple columns we pass a list.single column can be retrieved simply as bottle[\"Salnty\"]\n",
        "bottle_reduced_df = bottle[[\"Salnty\",\"T_degC\"]]\n",
        "##comment the below line if training on full dataset\n",
        "bottle_reduced_df = bottle_reduced_df#[:800]#################################\n",
        "print(bottle_reduced_df.info())\n",
        "print (bottle_reduced_df.head())"
      ],
      "execution_count": 0,
      "outputs": [
        {
          "output_type": "stream",
          "text": [
            "<class 'pandas.core.frame.DataFrame'>\n",
            "RangeIndex: 864863 entries, 0 to 864862\n",
            "Data columns (total 2 columns):\n",
            "Salnty    817509 non-null float64\n",
            "T_degC    853900 non-null float64\n",
            "dtypes: float64(2)\n",
            "memory usage: 13.2 MB\n",
            "None\n",
            "   Salnty  T_degC\n",
            "0  33.440   10.50\n",
            "1  33.440   10.46\n",
            "2  33.437   10.46\n",
            "3  33.420   10.45\n",
            "4  33.421   10.45\n"
          ],
          "name": "stdout"
        }
      ]
    },
    {
      "cell_type": "code",
      "metadata": {
        "id": "gqgBbRUog5XP",
        "colab_type": "code",
        "outputId": "ecc6ca79-4174-4ae4-8aee-0c9e15dc7e07",
        "colab": {
          "base_uri": "https://localhost:8080/",
          "height": 52
        }
      },
      "source": [
        "'''\n",
        "Using the simpler random sampling than the Startified sampling since:\n",
        "1. the reduced bottle Dataframe has only 2 columns on which we will work throughout\n",
        "2. The number of dataset instances are very very large ~865K compared to number of features = 2\n",
        "'''\n",
        "train_set,test_set = train_test_split(bottle_reduced_df,test_size=0.2,random_state=42)\n",
        "print(\"train set shape=\",np.shape(train_set))\n",
        "print(\"test set shape=\",np.shape(test_set))"
      ],
      "execution_count": 0,
      "outputs": [
        {
          "output_type": "stream",
          "text": [
            "train set shape= (691890, 2)\n",
            "test set shape= (172973, 2)\n"
          ],
          "name": "stdout"
        }
      ]
    },
    {
      "cell_type": "code",
      "metadata": {
        "id": "l8E_sY1OmweD",
        "colab_type": "code",
        "outputId": "7db6b982-c728-44b1-c5b5-4edaff2368e0",
        "colab": {
          "base_uri": "https://localhost:8080/",
          "height": 623
        }
      },
      "source": [
        "#let's do an scatter plot which is done using the traiing dataset\n",
        "train_set.plot(kind=\"scatter\",x=\"Salnty\",y=\"T_degC\",figsize=(7,10),alpha=0.5)"
      ],
      "execution_count": 0,
      "outputs": [
        {
          "output_type": "execute_result",
          "data": {
            "text/plain": [
              "<matplotlib.axes._subplots.AxesSubplot at 0x7f3368e304a8>"
            ]
          },
          "metadata": {
            "tags": []
          },
          "execution_count": 72
        },
        {
          "output_type": "display_data",
          "data": {
            "image/png": "[encoded data removed]",
            "text/plain": [
              "<Figure size 504x720 with 1 Axes>"
            ]
          },
          "metadata": {
            "tags": []
          }
        }
      ]
    },
    {
      "cell_type": "code",
      "metadata": {
        "id": "myrKeG-QqDmG",
        "colab_type": "code",
        "outputId": "eff5ae4a-6291-45b6-a156-a0d999b572f3",
        "colab": {
          "base_uri": "https://localhost:8080/",
          "height": 69
        }
      },
      "source": [
        "#the above plot showed some 'raw' correlation: but whether positive correlation, not clear\n",
        "#let's plot correlation matrix\n",
        "corr_matrix = train_set.corr()\n",
        "corr_matrix[\"Salnty\"]"
      ],
      "execution_count": 0,
      "outputs": [
        {
          "output_type": "execute_result",
          "data": {
            "text/plain": [
              "Salnty    1.000000\n",
              "T_degC   -0.505558\n",
              "Name: Salnty, dtype: float64"
            ]
          },
          "metadata": {
            "tags": []
          },
          "execution_count": 73
        }
      ]
    },
    {
      "cell_type": "markdown",
      "metadata": {
        "id": "86EZQR9F8Apr",
        "colab_type": "text"
      },
      "source": [
        "There is a negative correlation between  Salnty and T_degC. "
      ]
    },
    {
      "cell_type": "code",
      "metadata": {
        "id": "4LKBeuKEndXc",
        "colab_type": "code",
        "outputId": "fdfea02b-0996-470b-ae85-361e47c80752",
        "colab": {
          "base_uri": "https://localhost:8080/",
          "height": 299
        }
      },
      "source": [
        "\n",
        "sns.regplot(x=train_set[\"Salnty\"],y=train_set[\"T_degC\"])"
      ],
      "execution_count": 0,
      "outputs": [
        {
          "output_type": "execute_result",
          "data": {
            "text/plain": [
              "<matplotlib.axes._subplots.AxesSubplot at 0x7f335b809c88>"
            ]
          },
          "metadata": {
            "tags": []
          },
          "execution_count": 74
        },
        {
          "output_type": "display_data",
          "data": {
            "image/png": "[encoded data removed]",
            "text/plain": [
              "<Figure size 432x288 with 1 Axes>"
            ]
          },
          "metadata": {
            "tags": []
          }
        }
      ]
    },
    {
      "cell_type": "markdown",
      "metadata": {
        "id": "evqAz2P4-u36",
        "colab_type": "text"
      },
      "source": [
        "##Now the DATA CLEANING\n"
      ]
    },
    {
      "cell_type": "code",
      "metadata": {
        "id": "oHbFKKg_tSPD",
        "colab_type": "code",
        "outputId": "f2d53973-9843-4f4c-e4af-f2664ce5f049",
        "colab": {
          "base_uri": "https://localhost:8080/",
          "height": 69
        }
      },
      "source": [
        "#count the number of null for each column\n",
        "train_set.isnull().sum(axis=0)"
      ],
      "execution_count": 0,
      "outputs": [
        {
          "output_type": "execute_result",
          "data": {
            "text/plain": [
              "Salnty    37760\n",
              "T_degC     8667\n",
              "dtype: int64"
            ]
          },
          "metadata": {
            "tags": []
          },
          "execution_count": 75
        }
      ]
    },
    {
      "cell_type": "code",
      "metadata": {
        "id": "pZFpeoTsUyVE",
        "colab_type": "code",
        "colab": {}
      },
      "source": [
        "#Replace the null by mean value. But, in a fancier way using pipeline :)\n",
        "pipeline = Pipeline([\n",
        "                     (\"imputer\",SimpleImputer(strategy=\"mean\"))\n",
        "])\n",
        "train_set_tr = pipeline.fit_transform(train_set)\n"
      ],
      "execution_count": 0,
      "outputs": []
    },
    {
      "cell_type": "code",
      "metadata": {
        "id": "KErtJY9xEBDA",
        "colab_type": "code",
        "outputId": "0ab73dbf-dc86-4d59-c313-bb5884d1b696",
        "colab": {
          "base_uri": "https://localhost:8080/",
          "height": 52
        }
      },
      "source": [
        "print(type(train_set_tr))\n",
        "#the above pipeline transformation has actually returned a np array. So to convert back to DataFrame:\n",
        "train_set_tr_df = pd.DataFrame(train_set_tr,index=train_set.index,columns=train_set.columns)\n",
        "print(type(train_set_tr_df))"
      ],
      "execution_count": 0,
      "outputs": [
        {
          "output_type": "stream",
          "text": [
            "<class 'numpy.ndarray'>\n",
            "<class 'pandas.core.frame.DataFrame'>\n"
          ],
          "name": "stdout"
        }
      ]
    },
    {
      "cell_type": "code",
      "metadata": {
        "id": "0E75DTSbAbYJ",
        "colab_type": "code",
        "outputId": "ff4b372f-e2eb-4860-dbab-9a17202de6a7",
        "colab": {
          "base_uri": "https://localhost:8080/",
          "height": 69
        }
      },
      "source": [
        "#verify that the pipeline transformation was successfully done\n",
        "train_set_tr_df.isnull().sum(axis=0)"
      ],
      "execution_count": 0,
      "outputs": [
        {
          "output_type": "execute_result",
          "data": {
            "text/plain": [
              "Salnty    0\n",
              "T_degC    0\n",
              "dtype: int64"
            ]
          },
          "metadata": {
            "tags": []
          },
          "execution_count": 78
        }
      ]
    },
    {
      "cell_type": "markdown",
      "metadata": {
        "id": "aCCtIeYZGSlF",
        "colab_type": "text"
      },
      "source": [
        "##Now Select & Train the model"
      ]
    },
    {
      "cell_type": "code",
      "metadata": {
        "id": "rCkM2-vjDRd7",
        "colab_type": "code",
        "outputId": "cb30b0e9-3348-4a1e-dab2-781bb4dd601e",
        "colab": {
          "base_uri": "https://localhost:8080/",
          "height": 69
        }
      },
      "source": [
        "#Let's try 3 models - First -->Linear Regressor\n",
        "#If the training data has only one feature then need to do the below reshape before passing X to the model\n",
        "X=train_set_tr_df['Salnty'].values.reshape(-1,1)\n",
        "print(type(X))\n",
        "print(np.shape(train_set_tr_df))\n",
        "print(np.shape(X))\n",
        "y=train_set_tr_df['T_degC']\n"
      ],
      "execution_count": 0,
      "outputs": [
        {
          "output_type": "stream",
          "text": [
            "<class 'numpy.ndarray'>\n",
            "(691890, 2)\n",
            "(691890, 1)\n"
          ],
          "name": "stdout"
        }
      ]
    },
    {
      "cell_type": "code",
      "metadata": {
        "id": "SnfBgD0li1pe",
        "colab_type": "code",
        "outputId": "cdf312ab-f4de-406e-a569-092b77afe13b",
        "colab": {
          "base_uri": "https://localhost:8080/",
          "height": 35
        }
      },
      "source": [
        "lin_reg = LinearRegression()\n",
        "lin_reg.fit(X,y)\n",
        "predictions = lin_reg.predict(X)\n",
        "mean_sq_error = mean_squared_error(y,predictions)\n",
        "root_mean_sq_error = np.sqrt(mean_sq_error)\n",
        "print(\"RMSE = \",root_mean_sq_error)"
      ],
      "execution_count": 0,
      "outputs": [
        {
          "output_type": "stream",
          "text": [
            "RMSE =  3.6765090023347122\n"
          ],
          "name": "stdout"
        }
      ]
    },
    {
      "cell_type": "code",
      "metadata": {
        "id": "zaGqqnZejTqN",
        "colab_type": "code",
        "colab": {}
      },
      "source": [
        ""
      ],
      "execution_count": 0,
      "outputs": []
    },
    {
      "cell_type": "markdown",
      "metadata": {
        "id": "njN1NRljo_Ct",
        "colab_type": "text"
      },
      "source": [
        "*Let's use another model - DecisionTreeRegressor -  and analyze the performance\n"
      ]
    },
    {
      "cell_type": "code",
      "metadata": {
        "id": "f2ApJ1qsphe1",
        "colab_type": "code",
        "outputId": "ec3b514b-db14-4eb8-96f4-de6fe396476d",
        "colab": {
          "base_uri": "https://localhost:8080/",
          "height": 35
        }
      },
      "source": [
        "tree_reg = DecisionTreeRegressor()\n",
        "tree_reg.fit(X,y)\n",
        "predictions = tree_reg.predict(X)\n",
        "mean_sq_error = mean_squared_error(y,predictions)\n",
        "root_mean_sq_error = np.sqrt(mean_sq_error)\n",
        "print(\"RMSE = \",root_mean_sq_error)"
      ],
      "execution_count": 0,
      "outputs": [
        {
          "output_type": "stream",
          "text": [
            "RMSE =  3.11045662719082\n"
          ],
          "name": "stdout"
        }
      ]
    },
    {
      "cell_type": "markdown",
      "metadata": {
        "id": "a086yoJmqs1d",
        "colab_type": "text"
      },
      "source": [
        "So DecisionTreeRegressor did better than LinearRegression (oh, the naming anomalies). Now, let's see the performance with RandomForestRegressor. Hope, the RMSE will further come down"
      ]
    },
    {
      "cell_type": "code",
      "metadata": {
        "id": "OWaY_zDCplWh",
        "colab_type": "code",
        "outputId": "9d04420f-4af5-4eba-9916-8f7f517686e7",
        "colab": {
          "base_uri": "https://localhost:8080/",
          "height": 89
        }
      },
      "source": [
        "forest_reg = RandomForestRegressor()\n",
        "forest_reg.fit(X,y)\n",
        "predictions = forest_reg.predict(X)\n",
        "mean_sq_error = mean_squared_error(y,predictions)\n",
        "root_mean_sq_error = np.sqrt(mean_sq_error)\n",
        "print(\"RMSE = \",root_mean_sq_error)"
      ],
      "execution_count": 0,
      "outputs": [
        {
          "output_type": "stream",
          "text": [
            "/usr/local/lib/python3.6/dist-packages/sklearn/ensemble/forest.py:245: FutureWarning: The default value of n_estimators will change from 10 in version 0.20 to 100 in 0.22.\n",
            "  \"10 in version 0.20 to 100 in 0.22.\", FutureWarning)\n"
          ],
          "name": "stderr"
        },
        {
          "output_type": "stream",
          "text": [
            "RMSE =  3.113111895605814\n"
          ],
          "name": "stdout"
        }
      ]
    },
    {
      "cell_type": "code",
      "metadata": {
        "id": "D8vxiyxarUu6",
        "colab_type": "code",
        "colab": {}
      },
      "source": [
        ""
      ],
      "execution_count": 0,
      "outputs": []
    },
    {
      "cell_type": "markdown",
      "metadata": {
        "id": "WJrj2OeprcZK",
        "colab_type": "text"
      },
      "source": [
        "RMSE increased slightly with RandomForestRegressor.\n",
        "\n",
        "---\n",
        "\n",
        "\n",
        "Let's evaluate the 3 models further using the CV sets. Note that we are going to create CV from the training set itself. We will see that the RMSE on CV sets is same as RMSE on training set, so almost no overfitting\n"
      ]
    },
    {
      "cell_type": "code",
      "metadata": {
        "id": "dMbEB1eBsD2M",
        "colab_type": "code",
        "outputId": "a0fbba81-d5d8-4b9e-9786-346cf460b739",
        "colab": {
          "base_uri": "https://localhost:8080/",
          "height": 277
        }
      },
      "source": [
        "def display_scores(scores):\n",
        "  print(\"Scores:\", scores)\n",
        "  print(\"Mean:\", scores.mean())\n",
        "  print(\"STd Dev:\", scores.std())\n",
        "  print(\"#######################\")\n",
        "\n",
        "model_array = [lin_reg,tree_reg,forest_reg]\n",
        "for reg in model_array:\n",
        "  scores = cross_val_score(reg,X,y,scoring=\"neg_mean_squared_error\",cv=10)\n",
        "  rmse_scores = np.sqrt(-scores)\n",
        "  display_scores(rmse_scores)"
      ],
      "execution_count": 0,
      "outputs": [
        {
          "output_type": "stream",
          "text": [
            "Scores: [3.69235732 3.68109694 3.67224211 3.63370063 3.67906469 3.69543835\n",
            " 3.67137673 3.68046853 3.67216049 3.68692877]\n",
            "Mean: 3.6764834564067725\n",
            "STd Dev: 0.016301307715001597\n",
            "#######################\n",
            "Scores: [3.17489172 3.15278069 3.15237632 3.11415236 3.14614641 3.17626152\n",
            " 3.15839779 3.17099408 3.13196993 3.16422359]\n",
            "Mean: 3.1542194398829126\n",
            "STd Dev: 0.018663276356010366\n",
            "#######################\n",
            "Scores: [3.16991798 3.14814174 3.14948252 3.10939798 3.14152845 3.17373868\n",
            " 3.15485883 3.16612127 3.12850511 3.16172579]\n",
            "Mean: 3.150341835960863\n",
            "STd Dev: 0.018884180399350813\n",
            "#######################\n"
          ],
          "name": "stdout"
        }
      ]
    },
    {
      "cell_type": "markdown",
      "metadata": {
        "id": "DLoPhGfYw1Pz",
        "colab_type": "text"
      },
      "source": [
        "#Now evaluate the model on Test Set using the best model - DecisionTreeRegressor"
      ]
    },
    {
      "cell_type": "code",
      "metadata": {
        "id": "65Lg2JUTspln",
        "colab_type": "code",
        "outputId": "5abb1cf9-5c21-45a4-ea94-638ade9f5ac1",
        "colab": {
          "base_uri": "https://localhost:8080/",
          "height": 52
        }
      },
      "source": [
        "test_set_tr = pipeline.transform(test_set)\n",
        "#convert back to DF\n",
        "test_set_tr_df = pd.DataFrame(test_set_tr,index=test_set.index,columns=test_set.columns)\n",
        "#verify no empty value on test set\n",
        "test_set_tr_df.isnull().sum(axis=0)\n",
        "#print(type(test_set_tr))\n",
        "#print(test_set_tr)\n",
        "X_test=test_set_tr_df['Salnty'].values.reshape(-1,1)\n",
        "y_test=test_set_tr_df['T_degC']\n",
        "\n",
        "\n",
        "final_predictions = tree_reg.predict(X_test)\n",
        "final_mse = mean_squared_error(y_test,final_predictions)\n",
        "print(\"MSE on Test Set = \",final_mse)\n",
        "final_rmse = np.sqrt(final_mse)\n",
        "print(\"RMSE on Test Set = \",final_rmse)"
      ],
      "execution_count": 0,
      "outputs": [
        {
          "output_type": "stream",
          "text": [
            "MSE on Test Set =  9.94255205899383\n",
            "RMSE on Test Set =  3.1531812600917553\n"
          ],
          "name": "stdout"
        }
      ]
    },
    {
      "cell_type": "code",
      "metadata": {
        "id": "YcZ9w9RWyWqv",
        "colab_type": "code",
        "outputId": "0ee903f5-6ff9-4e81-ba4a-9c2463af912d",
        "colab": {
          "base_uri": "https://localhost:8080/",
          "height": 863
        }
      },
      "source": [
        "test_df = pd.DataFrame({'Actual': y_test, 'Predicted': final_predictions})\n",
        "print(test_df)\n",
        "#plotting only the first 25 values\n",
        "df_plot = test_df.head(25)\n",
        "df_plot.plot(kind='bar',figsize=(16,10))\n",
        "plt.grid(which='major', linestyle='-', linewidth='0.5', color='green')\n",
        "plt.grid(which='minor', linestyle=':', linewidth='0.5', color='black')\n",
        "plt.show()"
      ],
      "execution_count": 0,
      "outputs": [
        {
          "output_type": "stream",
          "text": [
            "        Actual  Predicted\n",
            "246454  10.250   7.029591\n",
            "204226   3.760  10.262412\n",
            "34578    5.270   7.062717\n",
            "63034    9.930  10.078374\n",
            "275018   9.360  13.489894\n",
            "...        ...        ...\n",
            "819723  10.380  13.781648\n",
            "259856  11.780  13.762314\n",
            "87776    9.690   9.748082\n",
            "695655   9.240   7.907803\n",
            "839180   5.574   6.549333\n",
            "\n",
            "[172973 rows x 2 columns]\n"
          ],
          "name": "stdout"
        },
        {
          "output_type": "display_data",
          "data": {
            "image/png": "[encoded data removed]",
            "text/plain": [
              "<Figure size 1152x720 with 1 Axes>"
            ]
          },
          "metadata": {
            "tags": []
          }
        }
      ]
    },
    {
      "cell_type": "code",
      "metadata": {
        "id": "coJ1bzFm8oYZ",
        "colab_type": "code",
        "colab": {}
      },
      "source": [
        ""
      ],
      "execution_count": 0,
      "outputs": []
    }
  ]
}